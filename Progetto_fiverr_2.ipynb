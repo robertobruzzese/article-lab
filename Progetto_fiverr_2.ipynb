{
  "cells": [
    {
      "cell_type": "markdown",
      "metadata": {
        "id": "view-in-github",
        "colab_type": "text"
      },
      "source": [
        "<a href=\"https://colab.research.google.com/github/robertobruzzese/article-lab/blob/main/Progetto_fiverr_2.ipynb\" target=\"_parent\"><img src=\"https://colab.research.google.com/assets/colab-badge.svg\" alt=\"Open In Colab\"/></a>"
      ]
    },
    {
      "cell_type": "code",
      "execution_count": null,
      "metadata": {
        "id": "1AzDkq1YmStA"
      },
      "outputs": [],
      "source": [
        "import matplotlib.pyplot as plt\n",
        "import numpy as np \n",
        "import os\n",
        "\n",
        "import torch # PyTorch package\n",
        "import torchvision # load datasets\n",
        "from torch.utils.data import DataLoader\n",
        "from torchvision.utils import make_grid\n",
        "# torchvision for pre-trained models\n",
        "from torchvision import models\n",
        "\n",
        "from torch.nn import Linear, ReLU, CrossEntropyLoss, Sequential, Conv2d, MaxPool2d, Module, Softmax, BatchNorm2d, Dropout\n",
        "from torch.optim import Adam, SGD\n",
        "import torchvision.transforms as transforms #  augment data\n",
        "import torch.nn as nn #  building  neural neteorks\n",
        "import torch.nn.functional as F #  convolution functions like Relu\n",
        "import torch.optim as optim # optimzer \n",
        "from torchsummary import summary\n",
        "\n",
        "from tqdm import tqdm\n",
        "from sklearn.metrics import confusion_matrix\n",
        "import warnings #Ability to create custom warnings, like warnings.warn(\"deprecated\", DeprecationWarning)\n",
        "import itertools #Needed for Confusion Matrix"
      ]
    },
    {
      "cell_type": "code",
      "source": [
        "def PlotCategoricalMetrics(Y_Hat, Targets, ClassNames, Normalise, figsize = None):\n",
        "    \"\"\"Plots the Confusion matrix given the class index (0 to K-1), and the Actual values.\"\"\"\n",
        "    PrevFigSize = plt.rcParams['figure.figsize']\n",
        "    plt.rcParams['figure.figsize'] = figsize if figsize is not None else PrevFigSize\n",
        "    \n",
        "    sk_conf_matrx = confusion_matrix(Targets, Y_Hat)\n",
        "    plot_confusion_matrix(sk_conf_matrx, ClassNames, Normalise = Normalise)\n",
        "    \n",
        "    plt.rcParams['figure.figsize'] = PrevFigSize"
      ],
      "metadata": {
        "id": "b3LAZ8vabZFw"
      },
      "execution_count": null,
      "outputs": []
    },
    {
      "cell_type": "code",
      "source": [
        "def plot_confusion_matrix(sk_conf_matrx, Classes, Normalise = False, Title = 'Confusion matrix', Colourmap = plt.cm.Blues):\n",
        "    \"\"\"Plot the Confusion Matrix object returned by sklearn's confusion_matrix() and Normalise it if Normalise==True.\"\"\"\n",
        "    plt.grid(False)\n",
        "    if Normalise:\n",
        "        print('Confusion matrix')\n",
        "        print(sk_conf_matrx)\n",
        "        sk_conf_matrx = sk_conf_matrx.astype('float') / sk_conf_matrx.sum(axis = 1)[:, np.newaxis]\n",
        "        plt.imshow(sk_conf_matrx, interpolation = 'nearest', cmap = Colourmap)\n",
        "        plt.clim(0.0, 1.0)\n",
        "    else:\n",
        "        plt.imshow(sk_conf_matrx, interpolation = 'nearest', cmap = Colourmap)\n",
        "    plt.title(Title)\n",
        "    with warnings.catch_warnings():\n",
        "        warnings.simplefilter(\"ignore\")\n",
        "        plt.colorbar()\n",
        "    tick_marks = np.arange(len(Classes))\n",
        "    plt.xticks(tick_marks, Classes, rotation = 45)\n",
        "    plt.yticks(tick_marks, Classes)\n",
        "    \n",
        "    fmt = '.2f' if Normalise else 'd'\n",
        "    thresh = sk_conf_matrx.max() / 2.\n",
        "    for i, j in itertools.product(range(sk_conf_matrx.shape[0]), range(sk_conf_matrx.shape[1])):\n",
        "        plt.text(j, i, format(sk_conf_matrx[i, j], fmt),\n",
        "                 horizontalalignment = \"center\",\n",
        "                 color = \"white\" if sk_conf_matrx[i, j] > thresh else \"black\")\n",
        "\n",
        "    plt.tight_layout()\n",
        "    plt.ylabel('True label')\n",
        "    plt.xlabel('Predicted label')\n",
        "    plt.show()"
      ],
      "metadata": {
        "id": "McTjDzHwbuZd"
      },
      "execution_count": null,
      "outputs": []
    },
    {
      "cell_type": "code",
      "execution_count": null,
      "metadata": {
        "id": "U_c3Unmlmd7s"
      },
      "outputs": [],
      "source": [
        "train_root='./dataset_9010/dataset_9010/malimg_dataset/train'\n",
        "val_root='./validation_ds_update_924/validation_ds_update_924/malimg_dataset/validation'"
      ]
    },
    {
      "cell_type": "code",
      "execution_count": null,
      "metadata": {
        "id": "ol06oYhLnFpN"
      },
      "outputs": [],
      "source": [
        "data_aug_transforms = [\n",
        "     transforms.RandomHorizontalFlip(), \n",
        "     transforms.RandomVerticalFlip(p=0.5),\n",
        "     transforms.RandomAffine(degrees=75),\n",
        "     transforms.RandomAffine(degrees=0,translate=(0.5,0.5)),\n",
        "     transforms.RandomAffine(degrees=0,scale=(0.7,0.7))\n",
        " ]"
      ]
    },
    {
      "cell_type": "code",
      "execution_count": null,
      "metadata": {
        "id": "AmUkhKAPneuZ"
      },
      "outputs": [],
      "source": [
        "from google.colab import drive"
      ]
    },
    {
      "cell_type": "code",
      "execution_count": null,
      "metadata": {
        "colab": {
          "base_uri": "https://localhost:8080/"
        },
        "id": "iKNZfN4HnjqP",
        "outputId": "a0a6cafe-2406-4d8d-ae84-b5b382d96b06"
      },
      "outputs": [
        {
          "output_type": "stream",
          "name": "stdout",
          "text": [
            "Mounted at /content/drive\n"
          ]
        }
      ],
      "source": [
        "drive.mount('/content/drive')"
      ]
    },
    {
      "cell_type": "code",
      "execution_count": null,
      "metadata": {
        "colab": {
          "base_uri": "https://localhost:8080/"
        },
        "id": "1R1d0Lqhnwrh",
        "outputId": "0c4fd6e9-563b-499f-e21a-cb154095a10e"
      },
      "outputs": [
        {
          "output_type": "stream",
          "name": "stdout",
          "text": [
            "/content/drive/.shortcut-targets-by-id/1PHQ0lh7VNfUJjD9R69bWwquzSpqaGt3s/AML_DATA\n"
          ]
        }
      ],
      "source": [
        "cd '/content/drive/MyDrive/AML_DATA/'"
      ]
    },
    {
      "cell_type": "code",
      "execution_count": null,
      "metadata": {
        "colab": {
          "base_uri": "https://localhost:8080/"
        },
        "id": "8J-J3_WcNp_R",
        "outputId": "c6ae949e-2c10-4123-b167-2c5b992ab469"
      },
      "outputs": [
        {
          "output_type": "stream",
          "name": "stdout",
          "text": [
            "Number of original examples: 8404\n",
            "Number of Validation examples: 924\n",
            "Number of classes in training set : \n",
            " 25\n",
            "The following classes are in training set : \n",
            " ['Adialer.C', 'Agent.FYI', 'Allaple.A', 'Allaple.L', 'Alueron.gen!J', 'Autorun.K', 'C2LOP.P', 'C2LOP.gen!g', 'Dialplatform.B', 'Dontovo.A', 'Fakerean', 'Instantaccess', 'Lolyda.AA1', 'Lolyda.AA2', 'Lolyda.AA3', 'Lolyda.AT', 'Malex.gen!J', 'Obfuscator.AD', 'Rbot!gen', 'Skintrim.N', 'Swizzor.gen!E', 'Swizzor.gen!I', 'VB.AT', 'Wintrim.BX', 'Yuner.A']\n"
          ]
        }
      ],
      "source": [
        "img_size=(64, 64)\n",
        "\n",
        "data_transform=transforms.Compose(\n",
        "   [ transforms.Resize(img_size),\n",
        "    transforms.ToTensor(),\n",
        "    transforms.Normalize(mean=[0.485, 0.456, 0.406],\n",
        "                    std=[0.229, 0.224, 0.225])\n",
        "   ])\n",
        "# mean and std are calculated from the ImageNet images\n",
        "\n",
        "orig_set = torchvision.datasets.ImageFolder(root=train_root , transform=data_transform )\n",
        "val_= torchvision.datasets.ImageFolder(root=val_root )\n",
        "\n",
        "n = len(orig_set)  # total number of examples\n",
        "\n",
        "print(f'Number of original examples: {len(orig_set)}')\n",
        "print(f'Number of Validation examples: {len(val_)}')\n",
        "\n",
        "print(\"Number of classes in training set : \\n\", len(orig_set.classes))\n",
        "print(\"The following classes are in training set : \\n\",orig_set.classes)"
      ]
    },
    {
      "cell_type": "code",
      "execution_count": null,
      "metadata": {
        "colab": {
          "base_uri": "https://localhost:8080/"
        },
        "id": "46mIRlptmASP",
        "outputId": "7fab964a-2abf-44a4-e431-85fd5b7e7dd0"
      },
      "outputs": [
        {
          "output_type": "stream",
          "name": "stdout",
          "text": [
            "Number of training examples: 8404\n",
            "Number of Validation examples: 924\n"
          ]
        }
      ],
      "source": [
        "train_dataset = torchvision.datasets.ImageFolder(root=train_root , transform=data_transform )\n",
        "val_dataset = torchvision.datasets.ImageFolder(root=val_root , transform=data_transform)\n",
        "\n",
        "print(f'Number of training examples: {len(train_dataset)}')\n",
        "print(f'Number of Validation examples: {len(val_dataset)}')\n",
        "\n",
        "batch_size = 128\n",
        "train_loader=DataLoader(train_dataset,batch_size=batch_size , shuffle=True )\n",
        "val_loader=DataLoader(val_dataset,batch_size=batch_size ,shuffle=False)"
      ]
    },
    {
      "cell_type": "code",
      "source": [
        "import seaborn as sns\n",
        "sns.countplot(x = train_dataset.targets)\n",
        "plt.show()"
      ],
      "metadata": {
        "colab": {
          "base_uri": "https://localhost:8080/",
          "height": 265
        },
        "id": "cgJMSK7dZ3nH",
        "outputId": "514193fb-b35b-4ea6-d1db-28daf28ae581"
      },
      "execution_count": null,
      "outputs": [
        {
          "output_type": "display_data",
          "data": {
            "text/plain": [
              "<Figure size 432x288 with 1 Axes>"
            ],
            "image/png": "[encoded data removed]"
          },
          "metadata": {
            "needs_background": "light"
          }
        }
      ]
    },
    {
      "cell_type": "code",
      "execution_count": null,
      "metadata": {
        "colab": {
          "base_uri": "https://localhost:8080/"
        },
        "id": "PaH0Ts81lIhJ",
        "outputId": "56183e2c-0111-4e29-8340-5c7107df49f3"
      },
      "outputs": [
        {
          "output_type": "stream",
          "name": "stdout",
          "text": [
            "Using device: cuda\n"
          ]
        }
      ],
      "source": [
        "device = torch.device('cuda' if torch.cuda.is_available() else 'cpu')\n",
        "print('Using device: %s'%device)\n",
        "\n",
        "input_size = 3\n",
        "num_classes = 25\n",
        "num_epochs = 6\n",
        "batch_size = 128\n",
        "learning_rate = 5e-4\n",
        "learning_rate_decay = 0.98\n",
        "reg = 0.20\n",
        "num_training= 8404\n",
        "num_validation = 924\n",
        "\n",
        "# Train the model\n",
        "lr = learning_rate\n",
        "total_step = len(train_loader)\n",
        "loss_train = []\n",
        "loss_val = []\n",
        "accuracy_val = []\n",
        "train_acc_curve=[]"
      ]
    },
    {
      "cell_type": "code",
      "execution_count": null,
      "metadata": {
        "id": "IJICsJi5b9zu"
      },
      "outputs": [],
      "source": [
        "def weights_init(m):\n",
        "    if type(m) == nn.Linear:\n",
        "        m.weight.data.normal_(0.0, 1e-3)\n",
        "        m.bias.data.fill_(0.)\n",
        "\n",
        "def update_lr(optimizer, lr):\n",
        "    for param_group in optimizer.param_groups:\n",
        "        param_group['lr'] = lr"
      ]
    },
    {
      "cell_type": "code",
      "source": [
        "# loading the pretrained model vgg16\n",
        "model = models.vgg16_bn(pretrained=True)"
      ],
      "metadata": {
        "id": "nAHoQqrXm7oY",
        "colab": {
          "base_uri": "https://localhost:8080/",
          "height": 67,
          "referenced_widgets": [
            "0e9e1ec34fb14a81aa25c011aa191489",
            "2e94a216cf7e4b9981cc29d9283e7d33",
            "af266a2d8ad04b2cbd9e04eec3569c95",
            "3296436bba624aaf9f17c3bec375d21c",
            "8c43a73a7a874fcf948c6a77230b325e",
            "97814b2f8310496793bee519e4b752b8",
            "3374d034af4f4fc2a4d77d70eae13e58",
            "fffbc68379ac4b3283769ff5660c9d98",
            "af0ac60b595841fe922fef59d1f2627f",
            "a64b8df418c642a0b321735bb7084133",
            "3ea89cb9c9224a73a9228abed329e8c0"
          ]
        },
        "outputId": "9c33f3bc-3eca-4734-f2ce-345203d67457"
      },
      "execution_count": null,
      "outputs": [
        {
          "output_type": "stream",
          "name": "stderr",
          "text": [
            "Downloading: \"https://download.pytorch.org/models/vgg16_bn-6c64b313.pth\" to /root/.cache/torch/hub/checkpoints/vgg16_bn-6c64b313.pth\n"
          ]
        },
        {
          "output_type": "display_data",
          "data": {
            "text/plain": [
              "  0%|          | 0.00/528M [00:00<?, ?B/s]"
            ],
            "application/vnd.jupyter.widget-view+json": {
              "version_major": 2,
              "version_minor": 0,
              "model_id": "0e9e1ec34fb14a81aa25c011aa191489"
            }
          },
          "metadata": {}
        }
      ]
    },
    {
      "cell_type": "code",
      "source": [
        "# Freeze model vgg16 weights\n",
        "for param in model.parameters():\n",
        "    param.requires_grad = False"
      ],
      "metadata": {
        "id": "ljPM1QaEnNWR"
      },
      "execution_count": null,
      "outputs": []
    },
    {
      "cell_type": "code",
      "source": [
        "# Add on classifier\n",
        "# model.classifier[6] = Sequential(\n",
        "#                       Linear(4096, 8192),\n",
        "#                       Dropout(0.5),\n",
        "#                       Linear(8192, 25)\n",
        "#                       )\n",
        "model.classifier[6] = Sequential(\n",
        "                      Linear(4096, 25)\n",
        "                      )\n",
        "for param in model.classifier[6].parameters():\n",
        "    param.requires_grad = True\n",
        "#print(model.classifier.parameters) \n",
        "print(model)\n",
        "# print(model.features)"
      ],
      "metadata": {
        "colab": {
          "base_uri": "https://localhost:8080/"
        },
        "id": "OWJaJDFFqgJ5",
        "outputId": "a27f1979-7569-4e0e-af90-43f59d26a425"
      },
      "execution_count": null,
      "outputs": [
        {
          "output_type": "stream",
          "name": "stdout",
          "text": [
            "VGG(\n",
            "  (features): Sequential(\n",
            "    (0): Conv2d(3, 64, kernel_size=(3, 3), stride=(1, 1), padding=(1, 1))\n",
            "    (1): BatchNorm2d(64, eps=1e-05, momentum=0.1, affine=True, track_running_stats=True)\n",
            "    (2): ReLU(inplace=True)\n",
            "    (3): Conv2d(64, 64, kernel_size=(3, 3), stride=(1, 1), padding=(1, 1))\n",
            "    (4): BatchNorm2d(64, eps=1e-05, momentum=0.1, affine=True, track_running_stats=True)\n",
            "    (5): ReLU(inplace=True)\n",
            "    (6): MaxPool2d(kernel_size=2, stride=2, padding=0, dilation=1, ceil_mode=False)\n",
            "    (7): Conv2d(64, 128, kernel_size=(3, 3), stride=(1, 1), padding=(1, 1))\n",
            "    (8): BatchNorm2d(128, eps=1e-05, momentum=0.1, affine=True, track_running_stats=True)\n",
            "    (9): ReLU(inplace=True)\n",
            "    (10): Conv2d(128, 128, kernel_size=(3, 3), stride=(1, 1), padding=(1, 1))\n",
            "    (11): BatchNorm2d(128, eps=1e-05, momentum=0.1, affine=True, track_running_stats=True)\n",
            "    (12): ReLU(inplace=True)\n",
            "    (13): MaxPool2d(kernel_size=2, stride=2, padding=0, dilation=1, ceil_mode=False)\n",
            "    (14): Conv2d(128, 256, kernel_size=(3, 3), stride=(1, 1), padding=(1, 1))\n",
            "    (15): BatchNorm2d(256, eps=1e-05, momentum=0.1, affine=True, track_running_stats=True)\n",
            "    (16): ReLU(inplace=True)\n",
            "    (17): Conv2d(256, 256, kernel_size=(3, 3), stride=(1, 1), padding=(1, 1))\n",
            "    (18): BatchNorm2d(256, eps=1e-05, momentum=0.1, affine=True, track_running_stats=True)\n",
            "    (19): ReLU(inplace=True)\n",
            "    (20): Conv2d(256, 256, kernel_size=(3, 3), stride=(1, 1), padding=(1, 1))\n",
            "    (21): BatchNorm2d(256, eps=1e-05, momentum=0.1, affine=True, track_running_stats=True)\n",
            "    (22): ReLU(inplace=True)\n",
            "    (23): MaxPool2d(kernel_size=2, stride=2, padding=0, dilation=1, ceil_mode=False)\n",
            "    (24): Conv2d(256, 512, kernel_size=(3, 3), stride=(1, 1), padding=(1, 1))\n",
            "    (25): BatchNorm2d(512, eps=1e-05, momentum=0.1, affine=True, track_running_stats=True)\n",
            "    (26): ReLU(inplace=True)\n",
            "    (27): Conv2d(512, 512, kernel_size=(3, 3), stride=(1, 1), padding=(1, 1))\n",
            "    (28): BatchNorm2d(512, eps=1e-05, momentum=0.1, affine=True, track_running_stats=True)\n",
            "    (29): ReLU(inplace=True)\n",
            "    (30): Conv2d(512, 512, kernel_size=(3, 3), stride=(1, 1), padding=(1, 1))\n",
            "    (31): BatchNorm2d(512, eps=1e-05, momentum=0.1, affine=True, track_running_stats=True)\n",
            "    (32): ReLU(inplace=True)\n",
            "    (33): MaxPool2d(kernel_size=2, stride=2, padding=0, dilation=1, ceil_mode=False)\n",
            "    (34): Conv2d(512, 512, kernel_size=(3, 3), stride=(1, 1), padding=(1, 1))\n",
            "    (35): BatchNorm2d(512, eps=1e-05, momentum=0.1, affine=True, track_running_stats=True)\n",
            "    (36): ReLU(inplace=True)\n",
            "    (37): Conv2d(512, 512, kernel_size=(3, 3), stride=(1, 1), padding=(1, 1))\n",
            "    (38): BatchNorm2d(512, eps=1e-05, momentum=0.1, affine=True, track_running_stats=True)\n",
            "    (39): ReLU(inplace=True)\n",
            "    (40): Conv2d(512, 512, kernel_size=(3, 3), stride=(1, 1), padding=(1, 1))\n",
            "    (41): BatchNorm2d(512, eps=1e-05, momentum=0.1, affine=True, track_running_stats=True)\n",
            "    (42): ReLU(inplace=True)\n",
            "    (43): MaxPool2d(kernel_size=2, stride=2, padding=0, dilation=1, ceil_mode=False)\n",
            "  )\n",
            "  (avgpool): AdaptiveAvgPool2d(output_size=(7, 7))\n",
            "  (classifier): Sequential(\n",
            "    (0): Linear(in_features=25088, out_features=4096, bias=True)\n",
            "    (1): ReLU(inplace=True)\n",
            "    (2): Dropout(p=0.5, inplace=False)\n",
            "    (3): Linear(in_features=4096, out_features=4096, bias=True)\n",
            "    (4): ReLU(inplace=True)\n",
            "    (5): Dropout(p=0.5, inplace=False)\n",
            "    (6): Sequential(\n",
            "      (0): Linear(in_features=4096, out_features=25, bias=True)\n",
            "    )\n",
            "  )\n",
            ")\n"
          ]
        }
      ]
    },
    {
      "cell_type": "code",
      "source": [
        "optimizer = torch.optim.Adam(model.parameters(), lr=learning_rate, weight_decay=reg)\n",
        "criterion = nn.CrossEntropyLoss()"
      ],
      "metadata": {
        "id": "KuAqgnJdtFQM"
      },
      "execution_count": null,
      "outputs": []
    },
    {
      "cell_type": "code",
      "execution_count": null,
      "metadata": {
        "colab": {
          "base_uri": "https://localhost:8080/",
          "height": 1000
        },
        "id": "UA1q6_Y5oKv9",
        "outputId": "831c5b72-2f03-4c2c-f817-0f4ed5cd9cd3"
      },
      "outputs": [
        {
          "output_type": "stream",
          "name": "stderr",
          "text": [
            "  2%|▏         | 1/66 [00:45<49:26, 45.63s/it]"
          ]
        },
        {
          "output_type": "stream",
          "name": "stdout",
          "text": [
            " Epoch [1/6], Step [1/66], Loss: 3.3445\n"
          ]
        },
        {
          "output_type": "stream",
          "name": "stderr",
          "text": [
            " 76%|███████▌  | 50/66 [36:48<11:46, 44.16s/it]"
          ]
        },
        {
          "output_type": "stream",
          "name": "stdout",
          "text": [
            " Epoch [1/6], Step [50/66], Loss: 0.7288\n"
          ]
        },
        {
          "output_type": "stream",
          "name": "stderr",
          "text": [
            ""
          ]
        },
        {
          "output_type": "stream",
          "name": "stdout",
          "text": [
            "Epoch [1/6]. Train: Loss 0.0089, Acc 66.28 | Valid: Loss 0.0057, Acc 81.06\n",
            "\n"
          ]
        },
        {
          "output_type": "stream",
          "name": "stderr",
          "text": [
            "  2%|▏         | 1/66 [00:00<00:39,  1.64it/s]"
          ]
        },
        {
          "output_type": "stream",
          "name": "stdout",
          "text": [
            " Epoch [2/6], Step [1/66], Loss: 0.6306\n"
          ]
        },
        {
          "output_type": "stream",
          "name": "stderr",
          "text": [
            " 76%|███████▌  | 50/66 [00:30<00:09,  1.66it/s]"
          ]
        },
        {
          "output_type": "stream",
          "name": "stdout",
          "text": [
            " Epoch [2/6], Step [50/66], Loss: 0.7316\n"
          ]
        },
        {
          "output_type": "stream",
          "name": "stderr",
          "text": [
            ""
          ]
        },
        {
          "output_type": "stream",
          "name": "stdout",
          "text": [
            "Epoch [2/6]. Train: Loss 0.0052, Acc 81.38 | Valid: Loss 0.0048, Acc 82.79\n",
            "\n"
          ]
        },
        {
          "output_type": "stream",
          "name": "stderr",
          "text": [
            "  2%|▏         | 1/66 [00:00<00:42,  1.53it/s]"
          ]
        },
        {
          "output_type": "stream",
          "name": "stdout",
          "text": [
            " Epoch [3/6], Step [1/66], Loss: 0.6820\n"
          ]
        },
        {
          "output_type": "stream",
          "name": "stderr",
          "text": [
            " 76%|███████▌  | 50/66 [00:30<00:09,  1.71it/s]"
          ]
        },
        {
          "output_type": "stream",
          "name": "stdout",
          "text": [
            " Epoch [3/6], Step [50/66], Loss: 0.7594\n"
          ]
        },
        {
          "output_type": "stream",
          "name": "stderr",
          "text": [
            ""
          ]
        },
        {
          "output_type": "stream",
          "name": "stdout",
          "text": [
            "Epoch [3/6]. Train: Loss 0.0049, Acc 82.21 | Valid: Loss 0.0046, Acc 84.31\n",
            "\n"
          ]
        },
        {
          "output_type": "stream",
          "name": "stderr",
          "text": [
            "  2%|▏         | 1/66 [00:00<00:38,  1.67it/s]"
          ]
        },
        {
          "output_type": "stream",
          "name": "stdout",
          "text": [
            " Epoch [4/6], Step [1/66], Loss: 0.6960\n"
          ]
        },
        {
          "output_type": "stream",
          "name": "stderr",
          "text": [
            " 76%|███████▌  | 50/66 [00:29<00:09,  1.64it/s]"
          ]
        },
        {
          "output_type": "stream",
          "name": "stdout",
          "text": [
            " Epoch [4/6], Step [50/66], Loss: 0.6682\n"
          ]
        },
        {
          "output_type": "stream",
          "name": "stderr",
          "text": [
            ""
          ]
        },
        {
          "output_type": "stream",
          "name": "stdout",
          "text": [
            "Epoch [4/6]. Train: Loss 0.0047, Acc 83.26 | Valid: Loss 0.0047, Acc 81.93\n",
            "\n"
          ]
        },
        {
          "output_type": "stream",
          "name": "stderr",
          "text": [
            "  2%|▏         | 1/66 [00:00<00:37,  1.75it/s]"
          ]
        },
        {
          "output_type": "stream",
          "name": "stdout",
          "text": [
            " Epoch [5/6], Step [1/66], Loss: 0.3757\n"
          ]
        },
        {
          "output_type": "stream",
          "name": "stderr",
          "text": [
            " 76%|███████▌  | 50/66 [00:29<00:09,  1.64it/s]"
          ]
        },
        {
          "output_type": "stream",
          "name": "stdout",
          "text": [
            " Epoch [5/6], Step [50/66], Loss: 0.5639\n"
          ]
        },
        {
          "output_type": "stream",
          "name": "stderr",
          "text": [
            ""
          ]
        },
        {
          "output_type": "stream",
          "name": "stdout",
          "text": [
            "Epoch [5/6]. Train: Loss 0.0047, Acc 83.00 | Valid: Loss 0.0047, Acc 83.66\n",
            "\n"
          ]
        },
        {
          "output_type": "stream",
          "name": "stderr",
          "text": [
            "  2%|▏         | 1/66 [00:00<00:36,  1.79it/s]"
          ]
        },
        {
          "output_type": "stream",
          "name": "stdout",
          "text": [
            " Epoch [6/6], Step [1/66], Loss: 0.4874\n"
          ]
        },
        {
          "output_type": "stream",
          "name": "stderr",
          "text": [
            " 76%|███████▌  | 50/66 [00:30<00:09,  1.69it/s]"
          ]
        },
        {
          "output_type": "stream",
          "name": "stdout",
          "text": [
            " Epoch [6/6], Step [50/66], Loss: 0.7049\n"
          ]
        },
        {
          "output_type": "stream",
          "name": "stderr",
          "text": [
            "                                             "
          ]
        },
        {
          "output_type": "stream",
          "name": "stdout",
          "text": [
            "Epoch [6/6]. Train: Loss 0.0047, Acc 83.07 | Valid: Loss 0.0048, Acc 83.66\n",
            "\n"
          ]
        },
        {
          "output_type": "stream",
          "name": "stderr",
          "text": [
            "\r"
          ]
        },
        {
          "output_type": "display_data",
          "data": {
            "text/plain": [
              "<Figure size 432x288 with 1 Axes>"
            ],
            "image/png": "[encoded data removed]"
          },
          "metadata": {
            "needs_background": "light"
          }
        },
        {
          "output_type": "display_data",
          "data": {
            "text/plain": [
              "<Figure size 432x288 with 1 Axes>"
            ],
            "image/png": "[encoded data removed]"
          },
          "metadata": {
            "needs_background": "light"
          }
        },
        {
          "output_type": "stream",
          "name": "stdout",
          "text": [
            "Confusion matrix\n",
            "[[ 25   0   0   0   0   0   0   0   0   0   0   0   0   0   0   0   0   0\n",
            "    0   0   0   0   0   0   0]\n",
            " [  0  23   1   0   0   0   0   0   0   0   0   0   0   0   0   0   0   0\n",
            "    0   0   0   0   1   0   0]\n",
            " [  0   0 105   9   0   0   0   0   0   0   0   0   0   0   0   0   0   0\n",
            "    0   0   0   0   0   0   0]\n",
            " [  0   0  38  62   0   0   0   0   0   0   0   0   0   0   0   0   0   0\n",
            "    0   0   0   0   0   0   0]\n",
            " [  0   0   0   0  24   0   0   0   0   0   0   0   0   0   0   0   1   0\n",
            "    0   0   0   0   0   0   0]\n",
            " [  0   0   0   0   0   0   0   0   0   0   0   0   0   0   0   0   0   0\n",
            "    0   0   0   0   0   0  25]\n",
            " [  0   0   5   1   0   0  11   2   0   0   0   0   0   0   0   0   0   0\n",
            "    2   0   0   3   1   0   0]\n",
            " [  0   0   1   0   0   0   1  22   0   0   0   0   0   0   0   0   0   0\n",
            "    0   0   0   0   1   0   0]\n",
            " [  0   0   0   0   0   0   0   0  25   0   0   0   0   0   0   0   0   0\n",
            "    0   0   0   0   0   0   0]\n",
            " [  0   0   0   0   0   0   0   0   0  25   0   0   0   0   0   0   0   0\n",
            "    0   0   0   0   0   0   0]\n",
            " [  0   0   1   0   0   0   0   0   0   0  74   0   0   0   0   0   0   0\n",
            "    0   0   0   0   0   0   0]\n",
            " [  0   0   0   0   0   0   0   0   0   0   0  75   0   0   0   0   0   0\n",
            "    0   0   0   0   0   0   0]\n",
            " [  0   0   0   0   0   0   0   0   0   0   0   0  58   0   0   0   0   0\n",
            "    0   0   0   0   2   0   0]\n",
            " [  0   0   0   2   0   0   0   0   0   0   0   0   0  23   0   0   0   0\n",
            "    0   0   0   0   0   0   0]\n",
            " [  0   0   0   0   0   0   0   0   0   0   0   0   0   0  25   0   0   0\n",
            "    0   0   0   0   0   0   0]\n",
            " [  0   0   0   0   0   0   0   0   0   0   0   0   0   0   0  25   0   0\n",
            "    0   0   0   0   0   0   0]\n",
            " [  0   0   5   3   0   0   0   0   0   0   0   0   0   0   0   0  17   0\n",
            "    0   0   0   0   0   0   0]\n",
            " [  0   0   0   0   0   0   0   0   0   0   0   0   0   0   0   0   0  25\n",
            "    0   0   0   0   0   0   0]\n",
            " [  0   0   1   3   0   0   0   0   0   0   0   0   0   0   0   0   0   0\n",
            "   21   0   0   0   0   0   0]\n",
            " [  0   0   0   0   0   0   0   0   0   0   0   1   0   0   0   0   0   0\n",
            "    0  24   0   0   0   0   0]\n",
            " [  0   0   1   1   0   0   0  12   0   0   0   0   0   0   0   0   0   0\n",
            "    2   0   1   8   0   0   0]\n",
            " [  0   0   6   0   0   0   1   4   0   0   0   0   0   0   0   0   0   0\n",
            "    4   0   0   9   1   0   0]\n",
            " [  0   0   0   0   0   0   0   0   0   0   0   0   0   0   0   0   0   0\n",
            "    0   0   0   0  25   0   0]\n",
            " [  0   0   1   0   0   0   0   0   0   0   0   0   0   0   0   0   0   0\n",
            "    0   0   0   0   0  24   0]\n",
            " [  0   0   0   0   0   0   0   0   0   0   0   0   0   0   0   0   0   0\n",
            "    0   0   0   0   0   0  25]]\n"
          ]
        },
        {
          "output_type": "display_data",
          "data": {
            "text/plain": [
              "<Figure size 2160x648 with 2 Axes>"
            ],
            "image/png": "[encoded data removed]"
          },
          "metadata": {
            "needs_background": "light"
          }
        }
      ],
      "source": [
        "PrintEveryN = 1\n",
        "for epoch in range(num_epochs):\n",
        "    correct = 0\n",
        "    total = 0\n",
        "\n",
        "    model.to(device)\n",
        "    model.train()\n",
        "\n",
        "    loss_iter = 0\n",
        "    for i, (images, labels) in tqdm(enumerate(train_loader), total = len(train_loader), leave = False):\n",
        "        # Move tensors to the configured device\n",
        "        images = images.to(device)\n",
        "        labels = labels.to(device)\n",
        "\n",
        "        # Forward pass\n",
        "        outputs = model(images)\n",
        "        loss = criterion(outputs, labels)\n",
        "\n",
        "        # Backward and optimize\n",
        "        optimizer.zero_grad()\n",
        "        loss.backward()\n",
        "        optimizer.step()\n",
        "\n",
        "        _, predicted = torch.max(outputs.data, 1)\n",
        "        total += labels.size(0)\n",
        "        correct += (predicted == labels).sum().item()\n",
        "\n",
        "        loss_iter += loss.item()\n",
        "        if i == 0 or (i+1) % 50 == 0:\n",
        "            print (' Epoch [{}/{}], Step [{}/{}], Loss: {:.4f}'\n",
        "                   .format(epoch+1, num_epochs, i+1, total_step, loss.item()))\n",
        "        \n",
        "    loss_train.append(loss_iter/(len(train_loader)*batch_size))\n",
        "    \n",
        "    ###\n",
        "    _train_acc = 100 * correct / total\n",
        "    train_acc_curve.append(_train_acc)\n",
        "    ###\n",
        "\n",
        "    # Code to update the lr\n",
        "    lr *= learning_rate_decay\n",
        "    update_lr(optimizer, lr)\n",
        "    \n",
        "    predictions = []\n",
        "    targets = []\n",
        "    model.eval()\n",
        "    with torch.no_grad():\n",
        "        correct = 0\n",
        "        total = 0\n",
        "        loss_iter = 0\n",
        "        for images, labels in tqdm(val_loader, total = len(val_loader), leave = False):\n",
        "            images = images.to(device)\n",
        "            labels = labels.to(device)\n",
        "            \n",
        "            outputs = model(images)\n",
        "            _, predicted = torch.max(outputs.data, 1)\n",
        "            predictions.append(predicted.cpu().numpy())\n",
        "            targets.append(labels.cpu().numpy())\n",
        "            \n",
        "            total += labels.size(0)\n",
        "            correct += (predicted == labels).sum().item()\n",
        "            \n",
        "            loss = criterion(outputs, labels)\n",
        "            loss_iter += loss.item()\n",
        "        \n",
        "        loss_val.append(loss_iter/(len(val_loader)*batch_size))\n",
        "\n",
        "        accuracy = 100 * correct / total\n",
        "        accuracy_val.append(accuracy)\n",
        "\n",
        "    predictions = np.concatenate(predictions)\n",
        "    targets = np.concatenate(targets)\n",
        "\n",
        "    if epoch == 0 or (epoch+1) % PrintEveryN == 0 or (epoch+1) == num_epochs:\n",
        "        print ('Epoch [{}/{}]. Train: Loss {:.4f}, Acc {:.2f} | Valid: Loss {:.4f}, Acc {:.2f}\\n'.format(epoch+1, num_epochs, loss_train[-1], _train_acc, loss_val[-1], accuracy))\n",
        "\n",
        "model.eval()\n",
        "\n",
        "plt.figure(2)\n",
        "plt.plot(loss_train, 'r', label='Train loss')\n",
        "plt.plot(loss_val, 'g', label='Validation loss')\n",
        "plt.legend()\n",
        "plt.grid(True)\n",
        "plt.show()\n",
        "\n",
        "\n",
        "plt.figure(3)\n",
        "plt.plot(accuracy_val, 'g', label='Validation accuracy')\n",
        "plt.plot(train_acc_curve, 'r', label='Train accuracy')\n",
        "plt.xlabel(\"Number of Epochs\")\n",
        "plt.ylabel(\"Accuracy\")\n",
        "plt.legend()\n",
        "plt.grid(True)\n",
        "plt.show()\n",
        "\n",
        "#Viewing the overall Categorical metrics and Plotting the Confusion Matrix\n",
        "PlotCategoricalMetrics(predictions, targets, range(25), Normalise = True, figsize = [30, 9])"
      ]
    },
    {
      "cell_type": "code",
      "source": [
        ""
      ],
      "metadata": {
        "id": "c-fmJO_shR3B"
      },
      "execution_count": null,
      "outputs": []
    }
  ],
  "metadata": {
    "accelerator": "GPU",
    "colab": {
      "background_execution": "on",
      "machine_shape": "hm",
      "name": "Progetto-fiverr-2.ipynb",
      "provenance": [],
      "include_colab_link": true
    },
    "kernelspec": {
      "display_name": "Python 3",
      "name": "python3"
    },
    "widgets": {
      "application/vnd.jupyter.widget-state+json": {
        "0e9e1ec34fb14a81aa25c011aa191489": {
          "model_module": "@jupyter-widgets/controls",
          "model_name": "HBoxModel",
          "model_module_version": "1.5.0",
          "state": {
            "_dom_classes": [],
            "_model_module": "@jupyter-widgets/controls",
            "_model_module_version": "1.5.0",
            "_model_name": "HBoxModel",
            "_view_count": null,
            "_view_module": "@jupyter-widgets/controls",
            "_view_module_version": "1.5.0",
            "_view_name": "HBoxView",
            "box_style": "",
            "children": [
              "IPY_MODEL_2e94a216cf7e4b9981cc29d9283e7d33",
              "IPY_MODEL_af266a2d8ad04b2cbd9e04eec3569c95",
              "IPY_MODEL_3296436bba624aaf9f17c3bec375d21c"
            ],
            "layout": "IPY_MODEL_8c43a73a7a874fcf948c6a77230b325e"
          }
        },
        "2e94a216cf7e4b9981cc29d9283e7d33": {
          "model_module": "@jupyter-widgets/controls",
          "model_name": "HTMLModel",
          "model_module_version": "1.5.0",
          "state": {
            "_dom_classes": [],
            "_model_module": "@jupyter-widgets/controls",
            "_model_module_version": "1.5.0",
            "_model_name": "HTMLModel",
            "_view_count": null,
            "_view_module": "@jupyter-widgets/controls",
            "_view_module_version": "1.5.0",
            "_view_name": "HTMLView",
            "description": "",
            "description_tooltip": null,
            "layout": "IPY_MODEL_97814b2f8310496793bee519e4b752b8",
            "placeholder": "​",
            "style": "IPY_MODEL_3374d034af4f4fc2a4d77d70eae13e58",
            "value": "100%"
          }
        },
        "af266a2d8ad04b2cbd9e04eec3569c95": {
          "model_module": "@jupyter-widgets/controls",
          "model_name": "FloatProgressModel",
          "model_module_version": "1.5.0",
          "state": {
            "_dom_classes": [],
            "_model_module": "@jupyter-widgets/controls",
            "_model_module_version": "1.5.0",
            "_model_name": "FloatProgressModel",
            "_view_count": null,
            "_view_module": "@jupyter-widgets/controls",
            "_view_module_version": "1.5.0",
            "_view_name": "ProgressView",
            "bar_style": "success",
            "description": "",
            "description_tooltip": null,
            "layout": "IPY_MODEL_fffbc68379ac4b3283769ff5660c9d98",
            "max": 553507836,
            "min": 0,
            "orientation": "horizontal",
            "style": "IPY_MODEL_af0ac60b595841fe922fef59d1f2627f",
            "value": 553507836
          }
        },
        "3296436bba624aaf9f17c3bec375d21c": {
          "model_module": "@jupyter-widgets/controls",
          "model_name": "HTMLModel",
          "model_module_version": "1.5.0",
          "state": {
            "_dom_classes": [],
            "_model_module": "@jupyter-widgets/controls",
            "_model_module_version": "1.5.0",
            "_model_name": "HTMLModel",
            "_view_count": null,
            "_view_module": "@jupyter-widgets/controls",
            "_view_module_version": "1.5.0",
            "_view_name": "HTMLView",
            "description": "",
            "description_tooltip": null,
            "layout": "IPY_MODEL_a64b8df418c642a0b321735bb7084133",
            "placeholder": "​",
            "style": "IPY_MODEL_3ea89cb9c9224a73a9228abed329e8c0",
            "value": " 528M/528M [00:03&lt;00:00, 171MB/s]"
          }
        },
        "8c43a73a7a874fcf948c6a77230b325e": {
          "model_module": "@jupyter-widgets/base",
          "model_name": "LayoutModel",
          "model_module_version": "1.2.0",
          "state": {
            "_model_module": "@jupyter-widgets/base",
            "_model_module_version": "1.2.0",
            "_model_name": "LayoutModel",
            "_view_count": null,
            "_view_module": "@jupyter-widgets/base",
            "_view_module_version": "1.2.0",
            "_view_name": "LayoutView",
            "align_content": null,
            "align_items": null,
            "align_self": null,
            "border": null,
            "bottom": null,
            "display": null,
            "flex": null,
            "flex_flow": null,
            "grid_area": null,
            "grid_auto_columns": null,
            "grid_auto_flow": null,
            "grid_auto_rows": null,
            "grid_column": null,
            "grid_gap": null,
            "grid_row": null,
            "grid_template_areas": null,
            "grid_template_columns": null,
            "grid_template_rows": null,
            "height": null,
            "justify_content": null,
            "justify_items": null,
            "left": null,
            "margin": null,
            "max_height": null,
            "max_width": null,
            "min_height": null,
            "min_width": null,
            "object_fit": null,
            "object_position": null,
            "order": null,
            "overflow": null,
            "overflow_x": null,
            "overflow_y": null,
            "padding": null,
            "right": null,
            "top": null,
            "visibility": null,
            "width": null
          }
        },
        "97814b2f8310496793bee519e4b752b8": {
          "model_module": "@jupyter-widgets/base",
          "model_name": "LayoutModel",
          "model_module_version": "1.2.0",
          "state": {
            "_model_module": "@jupyter-widgets/base",
            "_model_module_version": "1.2.0",
            "_model_name": "LayoutModel",
            "_view_count": null,
            "_view_module": "@jupyter-widgets/base",
            "_view_module_version": "1.2.0",
            "_view_name": "LayoutView",
            "align_content": null,
            "align_items": null,
            "align_self": null,
            "border": null,
            "bottom": null,
            "display": null,
            "flex": null,
            "flex_flow": null,
            "grid_area": null,
            "grid_auto_columns": null,
            "grid_auto_flow": null,
            "grid_auto_rows": null,
            "grid_column": null,
            "grid_gap": null,
            "grid_row": null,
            "grid_template_areas": null,
            "grid_template_columns": null,
            "grid_template_rows": null,
            "height": null,
            "justify_content": null,
            "justify_items": null,
            "left": null,
            "margin": null,
            "max_height": null,
            "max_width": null,
            "min_height": null,
            "min_width": null,
            "object_fit": null,
            "object_position": null,
            "order": null,
            "overflow": null,
            "overflow_x": null,
            "overflow_y": null,
            "padding": null,
            "right": null,
            "top": null,
            "visibility": null,
            "width": null
          }
        },
        "3374d034af4f4fc2a4d77d70eae13e58": {
          "model_module": "@jupyter-widgets/controls",
          "model_name": "DescriptionStyleModel",
          "model_module_version": "1.5.0",
          "state": {
            "_model_module": "@jupyter-widgets/controls",
            "_model_module_version": "1.5.0",
            "_model_name": "DescriptionStyleModel",
            "_view_count": null,
            "_view_module": "@jupyter-widgets/base",
            "_view_module_version": "1.2.0",
            "_view_name": "StyleView",
            "description_width": ""
          }
        },
        "fffbc68379ac4b3283769ff5660c9d98": {
          "model_module": "@jupyter-widgets/base",
          "model_name": "LayoutModel",
          "model_module_version": "1.2.0",
          "state": {
            "_model_module": "@jupyter-widgets/base",
            "_model_module_version": "1.2.0",
            "_model_name": "LayoutModel",
            "_view_count": null,
            "_view_module": "@jupyter-widgets/base",
            "_view_module_version": "1.2.0",
            "_view_name": "LayoutView",
            "align_content": null,
            "align_items": null,
            "align_self": null,
            "border": null,
            "bottom": null,
            "display": null,
            "flex": null,
            "flex_flow": null,
            "grid_area": null,
            "grid_auto_columns": null,
            "grid_auto_flow": null,
            "grid_auto_rows": null,
            "grid_column": null,
            "grid_gap": null,
            "grid_row": null,
            "grid_template_areas": null,
            "grid_template_columns": null,
            "grid_template_rows": null,
            "height": null,
            "justify_content": null,
            "justify_items": null,
            "left": null,
            "margin": null,
            "max_height": null,
            "max_width": null,
            "min_height": null,
            "min_width": null,
            "object_fit": null,
            "object_position": null,
            "order": null,
            "overflow": null,
            "overflow_x": null,
            "overflow_y": null,
            "padding": null,
            "right": null,
            "top": null,
            "visibility": null,
            "width": null
          }
        },
        "af0ac60b595841fe922fef59d1f2627f": {
          "model_module": "@jupyter-widgets/controls",
          "model_name": "ProgressStyleModel",
          "model_module_version": "1.5.0",
          "state": {
            "_model_module": "@jupyter-widgets/controls",
            "_model_module_version": "1.5.0",
            "_model_name": "ProgressStyleModel",
            "_view_count": null,
            "_view_module": "@jupyter-widgets/base",
            "_view_module_version": "1.2.0",
            "_view_name": "StyleView",
            "bar_color": null,
            "description_width": ""
          }
        },
        "a64b8df418c642a0b321735bb7084133": {
          "model_module": "@jupyter-widgets/base",
          "model_name": "LayoutModel",
          "model_module_version": "1.2.0",
          "state": {
            "_model_module": "@jupyter-widgets/base",
            "_model_module_version": "1.2.0",
            "_model_name": "LayoutModel",
            "_view_count": null,
            "_view_module": "@jupyter-widgets/base",
            "_view_module_version": "1.2.0",
            "_view_name": "LayoutView",
            "align_content": null,
            "align_items": null,
            "align_self": null,
            "border": null,
            "bottom": null,
            "display": null,
            "flex": null,
            "flex_flow": null,
            "grid_area": null,
            "grid_auto_columns": null,
            "grid_auto_flow": null,
            "grid_auto_rows": null,
            "grid_column": null,
            "grid_gap": null,
            "grid_row": null,
            "grid_template_areas": null,
            "grid_template_columns": null,
            "grid_template_rows": null,
            "height": null,
            "justify_content": null,
            "justify_items": null,
            "left": null,
            "margin": null,
            "max_height": null,
            "max_width": null,
            "min_height": null,
            "min_width": null,
            "object_fit": null,
            "object_position": null,
            "order": null,
            "overflow": null,
            "overflow_x": null,
            "overflow_y": null,
            "padding": null,
            "right": null,
            "top": null,
            "visibility": null,
            "width": null
          }
        },
        "3ea89cb9c9224a73a9228abed329e8c0": {
          "model_module": "@jupyter-widgets/controls",
          "model_name": "DescriptionStyleModel",
          "model_module_version": "1.5.0",
          "state": {
            "_model_module": "@jupyter-widgets/controls",
            "_model_module_version": "1.5.0",
            "_model_name": "DescriptionStyleModel",
            "_view_count": null,
            "_view_module": "@jupyter-widgets/base",
            "_view_module_version": "1.2.0",
            "_view_name": "StyleView",
            "description_width": ""
          }
        }
      }
    }
  },
  "nbformat": 4,
  "nbformat_minor": 0
}