{
  "cells": [
    {
      "cell_type": "markdown",
      "metadata": {
        "id": "view-in-github",
        "colab_type": "text"
      },
      "source": [
        "<a href=\"https://colab.research.google.com/github/robertobruzzese/article-lab/blob/main/Copia_di_Progetto_con_Debugger_6.ipynb\" target=\"_parent\"><img src=\"https://colab.research.google.com/assets/colab-badge.svg\" alt=\"Open In Colab\"/></a>"
      ]
    },
    {
      "cell_type": "markdown",
      "metadata": {
        "id": "PZ3gS5ZRm69M"
      },
      "source": [
        "# Python Debugger\n",
        "\n"
      ]
    },
    {
      "cell_type": "code",
      "execution_count": null,
      "metadata": {
        "id": "BuVrrNpdnUdt"
      },
      "outputs": [],
      "source": [
        "import random"
      ]
    },
    {
      "cell_type": "code",
      "execution_count": null,
      "metadata": {
        "id": "re2D5U05nHHE"
      },
      "outputs": [],
      "source": [
        "def code_to_debug():\n",
        "  import pdb; pdb.set_trace()\n",
        "  \n",
        "  for i in range(10):\n",
        "    x = random.random()\n",
        "    factorial(x)"
      ]
    },
    {
      "cell_type": "code",
      "execution_count": null,
      "metadata": {
        "id": "89SyNIUYo5Hq"
      },
      "outputs": [],
      "source": [
        ""
      ]
    },
    {
      "cell_type": "code",
      "execution_count": null,
      "metadata": {
        "id": "Oou-duc3nVpz"
      },
      "outputs": [],
      "source": [
        "code_to_debug()"
      ]
    },
    {
      "cell_type": "code",
      "execution_count": null,
      "metadata": {
        "id": "08lGR-NHnZs6"
      },
      "outputs": [],
      "source": [
        "code_to_debug()"
      ]
    },
    {
      "cell_type": "code",
      "execution_count": null,
      "metadata": {
        "id": "EFNLKnKAn36d"
      },
      "outputs": [],
      "source": [
        "def factorial_debugged(x):\n",
        "  if (not isinstance(x,int)):\n",
        "    print('this is not int')\n",
        "    return -1\n",
        "  if(x == 0):\n",
        "    return 1\n",
        "  return x * factorial(x-1)"
      ]
    },
    {
      "cell_type": "code",
      "execution_count": null,
      "metadata": {
        "id": "Y57dhVbUo7aw"
      },
      "outputs": [],
      "source": [
        "def code_to_debug():\n",
        "  import pdb; pdb.set_trace()\n",
        "  \n",
        "  for i in range(10):\n",
        "    x = random.random()\n",
        "    factorial_debugged(x)"
      ]
    },
    {
      "cell_type": "code",
      "execution_count": null,
      "metadata": {
        "id": "Wh6LLicvpCnj"
      },
      "outputs": [],
      "source": [
        "code_to_debug()"
      ]
    },
    {
      "cell_type": "markdown",
      "metadata": {
        "id": "X8VHGuGgpUr4"
      },
      "source": [
        "### using xmode\n"
      ]
    },
    {
      "cell_type": "code",
      "execution_count": null,
      "metadata": {
        "id": "0HIGQYCUpEU4"
      },
      "outputs": [],
      "source": [
        "def factorial_debugged(x):\n",
        "  if(x == 0):\n",
        "    return 1\n",
        "  return x * factorial(x-1)"
      ]
    },
    {
      "cell_type": "code",
      "execution_count": null,
      "metadata": {
        "id": "vQYo0lhApi6k"
      },
      "outputs": [],
      "source": [
        "%xmode Verbose"
      ]
    },
    {
      "cell_type": "code",
      "execution_count": null,
      "metadata": {
        "id": "qZce3GX6pepW"
      },
      "outputs": [],
      "source": [
        "def code_to_debug():\n",
        "  #import pdb; pdb.set_trace()\n",
        "  \n",
        "  for i in range(10):\n",
        "    x = random.random()\n",
        "    factorial_debugged(x)"
      ]
    },
    {
      "cell_type": "code",
      "execution_count": null,
      "metadata": {
        "id": "pLs5Rqi9pmYh"
      },
      "outputs": [],
      "source": [
        "code_to_debug()"
      ]
    },
    {
      "cell_type": "code",
      "execution_count": null,
      "metadata": {
        "colab": {
          "base_uri": "https://localhost:8080/"
        },
        "id": "KcKFNha2kbyG",
        "outputId": "2d2671b3-0402-4cf9-f288-d5be1f5c42d6"
      },
      "outputs": [
        {
          "name": "stdout",
          "output_type": "stream",
          "text": [
            "Requirement already satisfied: einops in /usr/local/lib/python3.7/dist-packages (0.4.1)\n"
          ]
        }
      ],
      "source": [
        "pip install einops"
      ]
    },
    {
      "cell_type": "code",
      "execution_count": null,
      "metadata": {
        "colab": {
          "base_uri": "https://localhost:8080/"
        },
        "id": "S54seBLHpqFG",
        "outputId": "a7734a34-69d3-4e29-8536-5c28d2ccc3b7"
      },
      "outputs": [
        {
          "name": "stderr",
          "output_type": "stream",
          "text": [
            "/usr/local/lib/python3.7/dist-packages/torch/functional.py:445: UserWarning: torch.meshgrid: in an upcoming release, it will be required to pass the indexing argument. (Triggered internally at  ../aten/src/ATen/native/TensorShape.cpp:2157.)\n",
            "  return _VF.meshgrid(tensors, **kwargs)  # type: ignore[attr-defined]\n"
          ]
        },
        {
          "name": "stdout",
          "output_type": "stream",
          "text": [
            "torch.Size([1, 3]) 17023928\n",
            "torch.Size([1, 1000]) 33170624\n",
            "torch.Size([1, 1000]) 55767564\n",
            "torch.Size([1, 1000]) 117724480\n",
            "torch.Size([1, 1000]) 203960368\n"
          ]
        }
      ],
      "source": [
        "import torch\n",
        "import torch.nn as nn\n",
        "\n",
        "from einops import rearrange\n",
        "from einops.layers.torch import Rearrange\n",
        "\n",
        "\n",
        "def conv_3x3_bn(inp, oup, image_size, downsample=False):\n",
        "    stride = 1 if downsample == False else 2\n",
        "    return nn.Sequential(\n",
        "        nn.Conv2d(inp, oup, 3, stride, 1, bias=False),\n",
        "        nn.BatchNorm2d(oup),\n",
        "        nn.GELU()\n",
        "    )\n",
        "\n",
        "\n",
        "class PreNorm(nn.Module):\n",
        "    def __init__(self, dim, fn, norm):\n",
        "        super().__init__()\n",
        "        self.norm = norm(dim)\n",
        "        self.fn = fn\n",
        "\n",
        "    def forward(self, x, **kwargs):\n",
        "        return self.fn(self.norm(x), **kwargs)\n",
        "\n",
        "\n",
        "class SE(nn.Module):\n",
        "    def __init__(self, inp, oup, expansion=0.25):\n",
        "        super().__init__()\n",
        "        self.avg_pool = nn.AdaptiveAvgPool2d(1)\n",
        "        self.fc = nn.Sequential(\n",
        "            nn.Linear(oup, int(inp * expansion), bias=False),\n",
        "            nn.GELU(),\n",
        "            nn.Linear(int(inp * expansion), oup, bias=False),\n",
        "            nn.Sigmoid()\n",
        "        )\n",
        "\n",
        "    def forward(self, x):\n",
        "        b, c, _, _ = x.size()\n",
        "        y = self.avg_pool(x).view(b, c)\n",
        "        y = self.fc(y).view(b, c, 1, 1)\n",
        "        return x * y\n",
        "\n",
        "\n",
        "class FeedForward(nn.Module):\n",
        "    def __init__(self, dim, hidden_dim, dropout=0.):\n",
        "        super().__init__()\n",
        "        self.net = nn.Sequential(\n",
        "            nn.Linear(dim, hidden_dim),\n",
        "            nn.GELU(),\n",
        "            nn.Dropout(dropout),\n",
        "            nn.Linear(hidden_dim, dim),\n",
        "            nn.Dropout(dropout)\n",
        "        )\n",
        "\n",
        "    def forward(self, x):\n",
        "        return self.net(x)\n",
        "\n",
        "\n",
        "class MBConv(nn.Module):\n",
        "    def __init__(self, inp, oup, image_size, downsample=False, expansion=4):\n",
        "        super().__init__()\n",
        "        self.downsample = downsample\n",
        "        stride = 1 if self.downsample == False else 2\n",
        "        hidden_dim = int(inp * expansion)\n",
        "\n",
        "        if self.downsample:\n",
        "            self.pool = nn.MaxPool2d(3, 2, 1)\n",
        "            self.proj = nn.Conv2d(inp, oup, 1, 1, 0, bias=False)\n",
        "\n",
        "        if expansion == 1:\n",
        "            self.conv = nn.Sequential(\n",
        "                # dw\n",
        "                nn.Conv2d(hidden_dim, hidden_dim, 3, stride,\n",
        "                          1, groups=hidden_dim, bias=False),\n",
        "                nn.BatchNorm2d(hidden_dim),\n",
        "                nn.GELU(),\n",
        "                # pw-linear\n",
        "                nn.Conv2d(hidden_dim, oup, 1, 1, 0, bias=False),\n",
        "                nn.BatchNorm2d(oup),\n",
        "            )\n",
        "        else:\n",
        "            self.conv = nn.Sequential(\n",
        "                # pw\n",
        "                # down-sample in the first conv\n",
        "                nn.Conv2d(inp, hidden_dim, 1, stride, 0, bias=False),\n",
        "                nn.BatchNorm2d(hidden_dim),\n",
        "                nn.GELU(),\n",
        "                # dw\n",
        "                nn.Conv2d(hidden_dim, hidden_dim, 3, 1, 1,\n",
        "                          groups=hidden_dim, bias=False),\n",
        "                nn.BatchNorm2d(hidden_dim),\n",
        "                nn.GELU(),\n",
        "                SE(inp, hidden_dim),\n",
        "                # pw-linear\n",
        "                nn.Conv2d(hidden_dim, oup, 1, 1, 0, bias=False),\n",
        "                nn.BatchNorm2d(oup),\n",
        "            )\n",
        "        \n",
        "        self.conv = PreNorm(inp, self.conv, nn.BatchNorm2d)\n",
        "\n",
        "    def forward(self, x):\n",
        "        if self.downsample:\n",
        "            return self.proj(self.pool(x)) + self.conv(x)\n",
        "        else:\n",
        "            return x + self.conv(x)\n",
        "\n",
        "\n",
        "class Attention(nn.Module):\n",
        "    def __init__(self, inp, oup, image_size, heads=8, dim_head=32, dropout=0.):\n",
        "        super().__init__()\n",
        "        inner_dim = dim_head * heads\n",
        "        project_out = not (heads == 1 and dim_head == inp)\n",
        "\n",
        "        self.ih, self.iw = image_size\n",
        "\n",
        "        self.heads = heads\n",
        "        self.scale = dim_head ** -0.5\n",
        "\n",
        "        # parameter table of relative position bias\n",
        "        self.relative_bias_table = nn.Parameter(\n",
        "            torch.zeros((2 * self.ih - 1) * (2 * self.iw - 1), heads))\n",
        "\n",
        "        coords = torch.meshgrid((torch.arange(self.ih), torch.arange(self.iw)))\n",
        "        coords = torch.flatten(torch.stack(coords), 1)\n",
        "        relative_coords = coords[:, :, None] - coords[:, None, :]\n",
        "\n",
        "        relative_coords[0] += self.ih - 1\n",
        "        relative_coords[1] += self.iw - 1\n",
        "        relative_coords[0] *= 2 * self.iw - 1\n",
        "        relative_coords = rearrange(relative_coords, 'c h w -> h w c')\n",
        "        relative_index = relative_coords.sum(-1).flatten().unsqueeze(1)\n",
        "        self.register_buffer(\"relative_index\", relative_index)\n",
        "\n",
        "        self.attend = nn.Softmax(dim=-1)\n",
        "        self.to_qkv = nn.Linear(inp, inner_dim * 3, bias=False)\n",
        "\n",
        "        self.to_out = nn.Sequential(\n",
        "            nn.Linear(inner_dim, oup),\n",
        "            nn.Dropout(dropout)\n",
        "        ) if project_out else nn.Identity()\n",
        "\n",
        "    def forward(self, x):\n",
        "        qkv = self.to_qkv(x).chunk(3, dim=-1)\n",
        "        q, k, v = map(lambda t: rearrange(\n",
        "            t, 'b n (h d) -> b h n d', h=self.heads), qkv)\n",
        "\n",
        "        dots = torch.matmul(q, k.transpose(-1, -2)) * self.scale\n",
        "\n",
        "        # Use \"gather\" for more efficiency on GPUs\n",
        "        relative_bias = self.relative_bias_table.gather(\n",
        "            0, self.relative_index.repeat(1, self.heads))\n",
        "        relative_bias = rearrange(\n",
        "            relative_bias, '(h w) c -> 1 c h w', h=self.ih*self.iw, w=self.ih*self.iw)\n",
        "        dots = dots + relative_bias\n",
        "\n",
        "        attn = self.attend(dots)\n",
        "        out = torch.matmul(attn, v)\n",
        "        out = rearrange(out, 'b h n d -> b n (h d)')\n",
        "        out = self.to_out(out)\n",
        "        return out\n",
        "\n",
        "\n",
        "class Transformer(nn.Module):\n",
        "    def __init__(self, inp, oup, image_size, heads=8, dim_head=32, downsample=False, dropout=0.):\n",
        "        super().__init__()\n",
        "        hidden_dim = int(inp * 4)\n",
        "\n",
        "        self.ih, self.iw = image_size\n",
        "        self.downsample = downsample\n",
        "\n",
        "        if self.downsample:\n",
        "            self.pool1 = nn.MaxPool2d(3, 2, 1)\n",
        "            self.pool2 = nn.MaxPool2d(3, 2, 1)\n",
        "            self.proj = nn.Conv2d(inp, oup, 1, 1, 0, bias=False)\n",
        "\n",
        "        self.attn = Attention(inp, oup, image_size, heads, dim_head, dropout)\n",
        "        self.ff = FeedForward(oup, hidden_dim, dropout)\n",
        "\n",
        "        self.attn = nn.Sequential(\n",
        "            Rearrange('b c ih iw -> b (ih iw) c'),\n",
        "            PreNorm(inp, self.attn, nn.LayerNorm),\n",
        "            Rearrange('b (ih iw) c -> b c ih iw', ih=self.ih, iw=self.iw)\n",
        "        )\n",
        "\n",
        "        self.ff = nn.Sequential(\n",
        "            Rearrange('b c ih iw -> b (ih iw) c'),\n",
        "            PreNorm(oup, self.ff, nn.LayerNorm),\n",
        "            Rearrange('b (ih iw) c -> b c ih iw', ih=self.ih, iw=self.iw)\n",
        "        )\n",
        "\n",
        "    def forward(self, x):\n",
        "        if self.downsample:\n",
        "            x = self.proj(self.pool1(x)) + self.attn(self.pool2(x))\n",
        "        else:\n",
        "            x = x + self.attn(x)\n",
        "        x = x + self.ff(x)\n",
        "        return x\n",
        "\n",
        "\n",
        "class CoAtNet(nn.Module):\n",
        "    def __init__(self, image_size, in_channels, num_blocks, channels, num_classes=1000, block_types=['C', 'C', 'T', 'T']):\n",
        "        super().__init__()\n",
        "        ih, iw = image_size\n",
        "        block = {'C': MBConv, 'T': Transformer}\n",
        "\n",
        "        self.s0 = self._make_layer(\n",
        "            conv_3x3_bn, in_channels, channels[0], num_blocks[0], (ih // 2, iw // 2))\n",
        "        self.s1 = self._make_layer(\n",
        "            block[block_types[0]], channels[0], channels[1], num_blocks[1], (ih // 4, iw // 4))\n",
        "        self.s2 = self._make_layer(\n",
        "            block[block_types[1]], channels[1], channels[2], num_blocks[2], (ih // 8, iw // 8))\n",
        "        self.s3 = self._make_layer(\n",
        "            block[block_types[2]], channels[2], channels[3], num_blocks[3], (ih // 16, iw // 16))\n",
        "        self.s4 = self._make_layer(\n",
        "            block[block_types[3]], channels[3], channels[4], num_blocks[4], (ih // 32, iw // 32))\n",
        "\n",
        "        self.pool = nn.AvgPool2d(ih // 32, 1)\n",
        "        self.fc = nn.Linear(channels[-1], num_classes, bias=False)\n",
        "\n",
        "    def forward(self, x):\n",
        "        x = self.s0(x)\n",
        "        x = self.s1(x)\n",
        "        x = self.s2(x)\n",
        "        x = self.s3(x)\n",
        "        x = self.s4(x)\n",
        "\n",
        "        x = self.pool(x).view(-1, x.shape[1])\n",
        "        x = self.fc(x)\n",
        "        return x\n",
        "\n",
        "    def _make_layer(self, block, inp, oup, depth, image_size):\n",
        "        layers = nn.ModuleList([])\n",
        "        for i in range(depth):\n",
        "            if i == 0:\n",
        "                layers.append(block(inp, oup, image_size, downsample=True))\n",
        "            else:\n",
        "                layers.append(block(oup, oup, image_size))\n",
        "        return nn.Sequential(*layers)\n",
        "\n",
        "\n",
        "def coatnet_0():\n",
        "    num_blocks = [2, 2, 3, 5, 2]            # L\n",
        "    channels = [64, 96, 192, 384, 768]      # D\n",
        "    return CoAtNet((224, 224), 3, num_blocks, channels, num_classes=3)\n",
        "\n",
        "\n",
        "def coatnet_1():\n",
        "    num_blocks = [2, 2, 6, 14, 2]           # L\n",
        "    channels = [64, 96, 192, 384, 768]      # D\n",
        "    return CoAtNet((224, 224), 3, num_blocks, channels, num_classes=1000)\n",
        "\n",
        "\n",
        "def coatnet_2():\n",
        "    num_blocks = [2, 2, 6, 14, 2]           # L\n",
        "    channels = [128, 128, 256, 512, 1026]   # D\n",
        "    return CoAtNet((224, 224), 3, num_blocks, channels, num_classes=1000)\n",
        "\n",
        "\n",
        "def coatnet_3():\n",
        "    num_blocks = [2, 2, 6, 14, 2]           # L\n",
        "    channels = [192, 192, 384, 768, 1536]   # D\n",
        "    return CoAtNet((224, 224), 3, num_blocks, channels, num_classes=1000)\n",
        "\n",
        "\n",
        "def coatnet_4():\n",
        "    num_blocks = [2, 2, 12, 28, 2]          # L\n",
        "    channels = [192, 192, 384, 768, 1536]   # D\n",
        "    return CoAtNet((224, 224), 3, num_blocks, channels, num_classes=1000)\n",
        "\n",
        "\n",
        "def count_parameters(model):\n",
        "    return sum(p.numel() for p in model.parameters() if p.requires_grad)\n",
        "\n",
        "\n",
        "if __name__ == '__main__':\n",
        "    img = torch.randn(1, 3, 224, 224)\n",
        "\n",
        "    net = coatnet_0()\n",
        "    out = net(img)\n",
        "    print(out.shape, count_parameters(net))\n",
        "\n",
        "    net = coatnet_1()\n",
        "    out = net(img)\n",
        "    print(out.shape, count_parameters(net))\n",
        "\n",
        "    net = coatnet_2()\n",
        "    out = net(img)\n",
        "    print(out.shape, count_parameters(net))\n",
        "\n",
        "    net = coatnet_3()\n",
        "    out = net(img)\n",
        "    print(out.shape, count_parameters(net))\n",
        "\n",
        "    net = coatnet_4()\n",
        "    out = net(img)\n",
        "    print(out.shape, count_parameters(net))"
      ]
    },
    {
      "cell_type": "code",
      "execution_count": null,
      "metadata": {
        "id": "1AzDkq1YmStA"
      },
      "outputs": [],
      "source": [
        "import matplotlib.pyplot as plt\n",
        "import numpy as np \n",
        "import os\n",
        "\n",
        "\n",
        "import torch # PyTorch package\n",
        "import torchvision # load datasets\n",
        "from torch.utils.data import DataLoader\n",
        "from torchvision.utils import make_grid\n",
        "\n",
        "\n",
        "from torch.nn import Linear, ReLU, CrossEntropyLoss, Sequential, Conv2d, MaxPool2d, Module, Softmax, Dropout\n",
        "\n",
        "import torchvision.transforms as transforms #  agument data\n",
        "import torch.nn as nn #  building  neural neteorks\n",
        "import torch.nn.functional as F #  convolution functions like Relu\n",
        "import torch.optim as optim # optimzer \n",
        "from torchsummary import summary"
      ]
    },
    {
      "cell_type": "code",
      "execution_count": null,
      "metadata": {
        "id": "U_c3Unmlmd7s"
      },
      "outputs": [],
      "source": [
        "train_root='./dataset_9010/dataset_9010/malimg_dataset/train'\n",
        "val_root='./validation_ds_update_924/validation_ds_update_924/malimg_dataset/validation'"
      ]
    },
    {
      "cell_type": "code",
      "execution_count": null,
      "metadata": {
        "id": "ol06oYhLnFpN"
      },
      "outputs": [],
      "source": [
        "data_aug_transforms = [\n",
        "     transforms.RandomHorizontalFlip(), \n",
        "     transforms.RandomVerticalFlip(p=0.5),\n",
        "     transforms.RandomAffine(degrees=75),\n",
        "     transforms.RandomAffine(degrees=0,translate=(0.5,0.5)),\n",
        "     transforms.RandomAffine(degrees=0,scale=(0.7,0.7))\n",
        " ]"
      ]
    },
    {
      "cell_type": "code",
      "execution_count": null,
      "metadata": {
        "id": "AmUkhKAPneuZ"
      },
      "outputs": [],
      "source": [
        "from google.colab import drive"
      ]
    },
    {
      "cell_type": "code",
      "execution_count": null,
      "metadata": {
        "colab": {
          "base_uri": "https://localhost:8080/"
        },
        "id": "iKNZfN4HnjqP",
        "outputId": "df496395-f8ec-46b8-df1b-492c8ac5dec3"
      },
      "outputs": [
        {
          "name": "stdout",
          "output_type": "stream",
          "text": [
            "Mounted at /content/drive\n"
          ]
        }
      ],
      "source": [
        "drive.mount('/content/drive')"
      ]
    },
    {
      "cell_type": "code",
      "execution_count": null,
      "metadata": {
        "colab": {
          "base_uri": "https://localhost:8080/"
        },
        "id": "1R1d0Lqhnwrh",
        "outputId": "a145cc88-d5ea-4368-c1ce-33673e4fc4ed"
      },
      "outputs": [
        {
          "name": "stdout",
          "output_type": "stream",
          "text": [
            "/content/drive/.shortcut-targets-by-id/1PHQ0lh7VNfUJjD9R69bWwquzSpqaGt3s/AML_DATA\n"
          ]
        }
      ],
      "source": [
        "cd '/content/drive/MyDrive/AML_DATA/'"
      ]
    },
    {
      "cell_type": "code",
      "execution_count": null,
      "metadata": {
        "colab": {
          "base_uri": "https://localhost:8080/"
        },
        "id": "8J-J3_WcNp_R",
        "outputId": "40e95cea-9b55-42ad-8f7d-d43c425c5490"
      },
      "outputs": [
        {
          "name": "stdout",
          "output_type": "stream",
          "text": [
            "Number of original examples: 8404\n",
            "Number of Validation examples: 924\n",
            "Number of classes in training set : \n",
            " 25\n",
            "The follwing classes are in training set : \n",
            " ['Adialer.C', 'Agent.FYI', 'Allaple.A', 'Allaple.L', 'Alueron.gen!J', 'Autorun.K', 'C2LOP.P', 'C2LOP.gen!g', 'Dialplatform.B', 'Dontovo.A', 'Fakerean', 'Instantaccess', 'Lolyda.AA1', 'Lolyda.AA2', 'Lolyda.AA3', 'Lolyda.AT', 'Malex.gen!J', 'Obfuscator.AD', 'Rbot!gen', 'Skintrim.N', 'Swizzor.gen!E', 'Swizzor.gen!I', 'VB.AT', 'Wintrim.BX', 'Yuner.A']\n"
          ]
        }
      ],
      "source": [
        "img_size=(384, 384)\n",
        "\n",
        "data_transform=transforms.Compose(\n",
        "   [ transforms.Resize(img_size),\n",
        "    transforms.ToTensor(),\n",
        "    transforms.Normalize(mean=[0.485, 0.456, 0.406],\n",
        "                    std=[0.229, 0.224, 0.225])\n",
        "   ])\n",
        "# mean and std are calculated from the ImageNet images\n",
        "\n",
        "\n",
        "\n",
        "orig_set = torchvision.datasets.ImageFolder(root=train_root , transform=data_transform )\n",
        "val_= torchvision.datasets.ImageFolder(root=val_root )\n",
        "\n",
        "\n",
        "n = len(orig_set)  # total number of examples\n",
        "\n",
        "\n",
        "print(f'Number of original examples: {len(orig_set)}')\n",
        "print(f'Number of Validation examples: {len(val_)}')\n",
        "\n",
        "print(\"Number of classes in training set : \\n\", len(orig_set.classes))\n",
        "print(\"The follwing classes are in training set : \\n\",orig_set.classes)"
      ]
    },
    {
      "cell_type": "code",
      "execution_count": null,
      "metadata": {
        "colab": {
          "base_uri": "https://localhost:8080/"
        },
        "id": "46mIRlptmASP",
        "outputId": "22a982b8-97ab-4b68-8407-5b4238b35849"
      },
      "outputs": [
        {
          "name": "stdout",
          "output_type": "stream",
          "text": [
            "Number of training examples: 8404\n",
            "Number of Validation examples: 924\n"
          ]
        }
      ],
      "source": [
        "train_dataset = torchvision.datasets.ImageFolder(root=train_root , transform=data_transform )\n",
        "val_dataset = torchvision.datasets.ImageFolder(root=val_root , transform=data_transform)\n",
        "\n",
        "print(f'Number of training examples: {len(train_dataset)}')\n",
        "print(f'Number of Validation examples: {len(val_dataset)}')\n",
        "\n",
        "batch_size = 32\n",
        "train_loader=DataLoader(train_dataset,batch_size=batch_size , shuffle=True )\n",
        "val_loader=DataLoader(val_dataset,batch_size=batch_size ,shuffle=False)"
      ]
    },
    {
      "cell_type": "code",
      "execution_count": null,
      "metadata": {
        "id": "Cx40LemLNoAv"
      },
      "outputs": [],
      "source": [
        ""
      ]
    },
    {
      "cell_type": "code",
      "execution_count": null,
      "metadata": {
        "colab": {
          "base_uri": "https://localhost:8080/"
        },
        "id": "PaH0Ts81lIhJ",
        "outputId": "afbbc02a-4142-4b50-b5e3-5a28cd955b70"
      },
      "outputs": [
        {
          "name": "stdout",
          "output_type": "stream",
          "text": [
            "Using device: cpu\n"
          ]
        }
      ],
      "source": [
        "device = torch.device('cuda' if torch.cuda.is_available() else 'cpu')\n",
        "print('Using device: %s'%device)\n",
        "\n",
        "\n",
        "input_size = 3\n",
        "num_classes = 25\n",
        "num_epochs = 20\n",
        "batch_size = 32\n",
        "learning_rate = 2e-3\n",
        "learning_rate_decay = 0.95\n",
        "reg=0.001\n",
        "num_training= 8404\n",
        "num_validation =924\n",
        "\n",
        "\n",
        "# Train the model\n",
        "lr = learning_rate\n",
        "total_step = len(train_loader)\n",
        "loss_train = []\n",
        "loss_val = []\n",
        "accuracy_val = []\n",
        "train_acc_curve=[]\n",
        "\n",
        "\n",
        "num_blocks = [2, 2, 6, 8, 2]\n",
        "channels = [16, 32, 64, 128, 256]\n",
        "block_types = ['C', 'C', 'T', 'T']\n",
        "\n",
        "model_ = CoAtNet((384,384),3,num_blocks=num_blocks, channels=channels, block_types=block_types, num_classes=25).to(device)\n",
        "\n",
        "optimizer = torch.optim.Adam(model_.parameters(), lr=learning_rate, weight_decay=reg)\n",
        "criterion = nn.CrossEntropyLoss()"
      ]
    },
    {
      "cell_type": "code",
      "execution_count": null,
      "metadata": {
        "id": "IJICsJi5b9zu"
      },
      "outputs": [],
      "source": [
        "def weights_init(m):\n",
        "    if type(m) == nn.Linear:\n",
        "        m.weight.data.normal_(0.0, 1e-3)\n",
        "        m.bias.data.fill_(0.)\n",
        "\n",
        "def update_lr(optimizer, lr):\n",
        "    for param_group in optimizer.param_groups:\n",
        "        param_group['lr'] = lr"
      ]
    },
    {
      "cell_type": "code",
      "execution_count": null,
      "metadata": {
        "colab": {
          "base_uri": "https://localhost:8080/",
          "height": 1000
        },
        "id": "UA1q6_Y5oKv9",
        "outputId": "3b11f815-5911-4d6c-97ab-801863a9c7d8"
      },
      "outputs": [
        {
          "output_type": "stream",
          "name": "stdout",
          "text": [
            "Epoch [1/20], Step [100/263], Loss: 0.5740\n",
            "Epoch [1/20], Step [200/263], Loss: 0.4149\n",
            "Training accuracy is: 86.35173726796764 %\n",
            "Validation accuracy is: 90.36796536796537 %\n",
            "Epoch [2/20], Step [100/263], Loss: 0.1888\n",
            "Epoch [2/20], Step [200/263], Loss: 0.0803\n",
            "Training accuracy is: 96.26368396001904 %\n",
            "Validation accuracy is: 86.36363636363636 %\n",
            "Epoch [3/20], Step [100/263], Loss: 0.0544\n",
            "Epoch [3/20], Step [200/263], Loss: 0.2720\n",
            "Training accuracy is: 96.12089481199429 %\n",
            "Validation accuracy is: 90.04329004329004 %\n",
            "Epoch [4/20], Step [100/263], Loss: 0.1715\n",
            "Epoch [4/20], Step [200/263], Loss: 0.0232\n",
            "Training accuracy is: 96.91813422179915 %\n",
            "Validation accuracy is: 94.48051948051948 %\n",
            "Epoch [5/20], Step [100/263], Loss: 0.0718\n",
            "Epoch [5/20], Step [200/263], Loss: 0.1298\n",
            "Training accuracy is: 95.37125178486436 %\n",
            "Validation accuracy is: 68.18181818181819 %\n",
            "Epoch [6/20], Step [100/263], Loss: 0.0967\n",
            "Epoch [6/20], Step [200/263], Loss: 0.0090\n",
            "Training accuracy is: 96.60875773441218 %\n",
            "Validation accuracy is: 94.04761904761905 %\n",
            "Epoch [7/20], Step [100/263], Loss: 0.0695\n",
            "Epoch [7/20], Step [200/263], Loss: 0.1497\n",
            "Training accuracy is: 97.53688719657306 %\n",
            "Validation accuracy is: 94.04761904761905 %\n",
            "Epoch [8/20], Step [100/263], Loss: 0.0081\n",
            "Epoch [8/20], Step [200/263], Loss: 0.1155\n",
            "Training accuracy is: 97.144217039505 %\n",
            "Validation accuracy is: 95.67099567099567 %\n",
            "Epoch [9/20], Step [100/263], Loss: 0.2714\n",
            "Epoch [9/20], Step [200/263], Loss: 0.0663\n",
            "Training accuracy is: 97.64397905759162 %\n",
            "Validation accuracy is: 93.50649350649351 %\n",
            "Epoch [10/20], Step [100/263], Loss: 0.0323\n",
            "Epoch [10/20], Step [200/263], Loss: 0.0184\n",
            "Training accuracy is: 97.66777724892908 %\n",
            "Validation accuracy is: 94.04761904761905 %\n",
            "Epoch [11/20], Step [100/263], Loss: 0.0086\n",
            "Epoch [11/20], Step [200/263], Loss: 0.0271\n",
            "Training accuracy is: 97.27510709186102 %\n",
            "Validation accuracy is: 90.58441558441558 %\n",
            "Epoch [12/20], Step [100/263], Loss: 0.1232\n",
            "Epoch [12/20], Step [200/263], Loss: 0.1465\n",
            "Training accuracy is: 97.03712517848643 %\n",
            "Validation accuracy is: 93.18181818181819 %\n",
            "Epoch [13/20], Step [100/263], Loss: 0.1999\n",
            "Epoch [13/20], Step [200/263], Loss: 0.0065\n",
            "Training accuracy is: 97.46549262256069 %\n",
            "Validation accuracy is: 94.91341991341992 %\n",
            "Epoch [14/20], Step [100/263], Loss: 0.0850\n",
            "Epoch [14/20], Step [200/263], Loss: 0.0826\n",
            "Training accuracy is: 98.0009519276535 %\n",
            "Validation accuracy is: 94.15584415584415 %\n",
            "Epoch [15/20], Step [100/263], Loss: 0.1653\n",
            "Epoch [15/20], Step [200/263], Loss: 0.0950\n",
            "Training accuracy is: 98.13184198000953 %\n",
            "Validation accuracy is: 95.34632034632034 %\n",
            "Epoch [16/20], Step [100/263], Loss: 0.0695\n",
            "Epoch [16/20], Step [200/263], Loss: 0.0232\n",
            "Training accuracy is: 98.02475011899095 %\n",
            "Validation accuracy is: 95.34632034632034 %\n",
            "Epoch [17/20], Step [100/263], Loss: 0.0180\n",
            "Epoch [17/20], Step [200/263], Loss: 0.1018\n",
            "Training accuracy is: 98.01285102332223 %\n",
            "Validation accuracy is: 93.3982683982684 %\n",
            "Epoch [18/20], Step [100/263], Loss: 0.0143\n",
            "Epoch [18/20], Step [200/263], Loss: 0.0158\n",
            "Training accuracy is: 98.01285102332223 %\n",
            "Validation accuracy is: 94.48051948051948 %\n",
            "Epoch [19/20], Step [100/263], Loss: 0.1051\n",
            "Epoch [19/20], Step [200/263], Loss: 0.1165\n",
            "Training accuracy is: 97.82246549262256 %\n",
            "Validation accuracy is: 94.26406926406926 %\n",
            "Epoch [20/20], Step [100/263], Loss: 0.0039\n",
            "Epoch [20/20], Step [200/263], Loss: 0.0108\n",
            "Training accuracy is: 98.13184198000953 %\n",
            "Validation accuracy is: 90.9090909090909 %\n"
          ]
        },
        {
          "output_type": "display_data",
          "data": {
            "image/png": "[encoded data removed]",
            "text/plain": [
              "<Figure size 432x288 with 1 Axes>"
            ]
          },
          "metadata": {
            "needs_background": "light"
          }
        },
        {
          "output_type": "display_data",
          "data": {
            "image/png": "[encoded data removed]",
            "text/plain": [
              "<Figure size 432x288 with 1 Axes>"
            ]
          },
          "metadata": {
            "needs_background": "light"
          }
        }
      ],
      "source": [
        "for epoch in range(num_epochs):\n",
        "    correct = 0\n",
        "    total = 0\n",
        "\n",
        "    model_.train()\n",
        "\n",
        "    loss_iter = 0\n",
        "    for i, (images, labels) in enumerate(train_loader):\n",
        "        # Move tensors to the configured device\n",
        "        images = images.to(device)\n",
        "        labels = labels.to(device)\n",
        "\n",
        "        # Forward pass\n",
        "        outputs = model_(images)\n",
        "        loss = criterion(outputs, labels)\n",
        "\n",
        "        # Backward and optimize\n",
        "        optimizer.zero_grad()\n",
        "        loss.backward()\n",
        "        optimizer.step()\n",
        "\n",
        "        ###\n",
        "        \n",
        "        _, predicted = torch.max(outputs.data, 1)\n",
        "        total += labels.size(0)\n",
        "        correct += (predicted == labels).sum().item()\n",
        "\n",
        "        ###\n",
        "\n",
        "        loss_iter += loss.item()\n",
        "        \n",
        "        if (i+1) % 100 == 0:\n",
        "            print ('Epoch [{}/{}], Step [{}/{}], Loss: {:.4f}'\n",
        "                   .format(epoch+1, num_epochs, i+1, total_step, loss.item()))\n",
        "            \n",
        "    loss_train.append(loss_iter/(len(train_loader)*batch_size))\n",
        "    \n",
        "    ###\n",
        "    _train_acc = 100 * correct / total\n",
        "    train_acc_curve.append(_train_acc)\n",
        "    print('Training accuracy is: {} %'.format(_train_acc))\n",
        "    ###\n",
        "\n",
        "\n",
        "    \n",
        "    # Code to update the lr\n",
        "    lr *= learning_rate_decay\n",
        "    update_lr(optimizer, lr)\n",
        "    \n",
        "    \n",
        "    \n",
        "     \n",
        "    model_.eval()\n",
        "    with torch.no_grad():\n",
        "        correct = 0\n",
        "        total = 0\n",
        "        loss_iter = 0\n",
        "        for images, labels in val_loader:\n",
        "            images = images.to(device)\n",
        "            labels = labels.to(device)\n",
        "            \n",
        "            outputs = model_(images)\n",
        "            _, predicted = torch.max(outputs.data, 1)\n",
        "            \n",
        "            total += labels.size(0)\n",
        "            correct += (predicted == labels).sum().item()\n",
        "            \n",
        "            loss = criterion(outputs, labels)\n",
        "            loss_iter += loss.item()\n",
        "        \n",
        "        loss_val.append(loss_iter/(len(val_loader)*batch_size))\n",
        "\n",
        "        accuracy = 100 * correct / total\n",
        "        accuracy_val.append(accuracy)\n",
        "        print('Validation accuracy is: {} %'.format(accuracy))\n",
        "        \n",
        "\n",
        "\n",
        "    \n",
        "\n",
        "\n",
        "model_.eval()\n",
        "\n",
        "\n",
        "\n",
        "plt.figure(2)\n",
        "plt.plot(loss_train, 'r', label='Train loss')\n",
        "plt.plot(loss_val, 'g', label='Validation loss')\n",
        "plt.legend()\n",
        "plt.grid(True)\n",
        "plt.show()\n",
        "\n",
        "\n",
        "plt.figure(3)\n",
        "plt.plot(accuracy_val, 'g', label='Validation accuracy')\n",
        "plt.plot(train_acc_curve, 'r', label='Train accuracy')\n",
        "plt.xlabel(\"Number of Epochs\")\n",
        "plt.ylabel(\"Accuracy\")\n",
        "plt.legend()\n",
        "plt.grid(True)\n",
        "plt.show()"
      ]
    }
  ],
  "metadata": {
    "accelerator": "TPU",
    "colab": {
      "background_execution": "on",
      "machine_shape": "hm",
      "name": "Copia di Progetto con  Debugger 6.ipynb",
      "provenance": [],
      "include_colab_link": true
    },
    "kernelspec": {
      "display_name": "Python 3",
      "name": "python3"
    }
  },
  "nbformat": 4,
  "nbformat_minor": 0
}