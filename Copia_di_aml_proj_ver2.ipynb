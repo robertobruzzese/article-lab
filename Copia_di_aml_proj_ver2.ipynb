{
  "cells": [
    {
      "cell_type": "markdown",
      "metadata": {
        "id": "view-in-github",
        "colab_type": "text"
      },
      "source": [
        "<a href=\"https://colab.research.google.com/github/robertobruzzese/article-lab/blob/main/Copia_di_aml_proj_ver2.ipynb\" target=\"_parent\"><img src=\"https://colab.research.google.com/assets/colab-badge.svg\" alt=\"Open In Colab\"/></a>"
      ]
    },
    {
      "cell_type": "code",
      "execution_count": 3,
      "metadata": {
        "id": "vENdLFtJJsta"
      },
      "outputs": [],
      "source": [
        "from google.colab import drive\n",
        "\n"
      ]
    },
    {
      "cell_type": "code",
      "source": [
        "drive.mount('/content/drive')"
      ],
      "metadata": {
        "colab": {
          "base_uri": "https://localhost:8080/"
        },
        "id": "VXbiE1Lb0Opo",
        "outputId": "bac1dace-75f3-4399-dd2d-8e39809a6d64"
      },
      "execution_count": 4,
      "outputs": [
        {
          "output_type": "stream",
          "name": "stdout",
          "text": [
            "Mounted at /content/drive\n"
          ]
        }
      ]
    },
    {
      "cell_type": "code",
      "execution_count": 5,
      "metadata": {
        "colab": {
          "base_uri": "https://localhost:8080/"
        },
        "id": "dVMO4hhOLsg4",
        "outputId": "66058d6b-4c4a-447b-96e1-e8a28774d2fb"
      },
      "outputs": [
        {
          "output_type": "stream",
          "name": "stdout",
          "text": [
            "/content/drive/.shortcut-targets-by-id/1PHQ0lh7VNfUJjD9R69bWwquzSpqaGt3s/AML_DATA\n"
          ]
        }
      ],
      "source": [
        "cd '/content/drive/MyDrive/AML_DATA/'"
      ]
    },
    {
      "cell_type": "markdown",
      "source": [
        "# Nuova sezione"
      ],
      "metadata": {
        "id": "toRvScCYQyH6"
      }
    },
    {
      "cell_type": "code",
      "execution_count": 6,
      "metadata": {
        "colab": {
          "base_uri": "https://localhost:8080/"
        },
        "id": "dG0U6akeMa2E",
        "outputId": "4a6afcc1-1508-4f16-f526-ed779f0850cb"
      },
      "outputs": [
        {
          "output_type": "stream",
          "name": "stdout",
          "text": [
            "AML_PROJ_VER1.ipynb  dataset_9010  malimg-dataset9010.zip\n",
            "aml_proj_ver2.ipynb  kaggle.json   validation_ds_update_924\n"
          ]
        }
      ],
      "source": [
        "! ls"
      ]
    },
    {
      "cell_type": "code",
      "execution_count": 7,
      "metadata": {
        "id": "0xh0lwvlMf9e"
      },
      "outputs": [],
      "source": [
        "import matplotlib.pyplot as plt\n",
        "import numpy as np \n",
        "import os\n",
        "\n",
        "\n",
        "import torch # PyTorch package\n",
        "import torchvision # load datasets\n",
        "from torch.utils.data import DataLoader\n",
        "from torchvision.utils import make_grid\n",
        "\n",
        "\n",
        "from torch.nn import Linear, ReLU, CrossEntropyLoss, Sequential, Conv2d, MaxPool2d, Module, Softmax, Dropout\n",
        "\n",
        "import torchvision.transforms as transforms #  agument data\n",
        "import torch.nn as nn #  building  neural neteorks\n",
        "import torch.nn.functional as F #  convolution functions like Relu\n",
        "import torch.optim as optim # optimzer \n",
        "from torchsummary import summary\n"
      ]
    },
    {
      "cell_type": "markdown",
      "metadata": {
        "id": "rIZ3jsQytDW-"
      },
      "source": [
        "## 1. Read the DS "
      ]
    },
    {
      "cell_type": "code",
      "execution_count": 8,
      "metadata": {
        "id": "gDICX6kAMzWS"
      },
      "outputs": [],
      "source": [
        "train_root='./dataset_9010/dataset_9010/malimg_dataset/train'\n",
        "val_root='./validation_ds_update_924/validation_ds_update_924/malimg_dataset/validation'"
      ]
    },
    {
      "cell_type": "code",
      "execution_count": 9,
      "metadata": {
        "id": "zasdoSG-wncw"
      },
      "outputs": [],
      "source": [
        "data_aug_transforms = [\n",
        "     transforms.RandomHorizontalFlip(), \n",
        "     transforms.RandomVerticalFlip(p=0.5),\n",
        "     transforms.RandomAffine(degrees=75),\n",
        "     transforms.RandomAffine(degrees=0,translate=(0.5,0.5)),\n",
        "     transforms.RandomAffine(degrees=0,scale=(0.7,0.7))\n",
        " ]"
      ]
    },
    {
      "cell_type": "code",
      "execution_count": 10,
      "metadata": {
        "colab": {
          "base_uri": "https://localhost:8080/"
        },
        "id": "3zxLnIduMzY5",
        "outputId": "a3f188ed-196f-4a9f-980e-d8cc8da2ac8c"
      },
      "outputs": [
        {
          "output_type": "stream",
          "name": "stdout",
          "text": [
            "Number of original examples: 8404\n",
            "Number of Validation examples: 924\n",
            "Number of classes in training set : \n",
            " 25\n",
            "The follwing classes are in training set : \n",
            " ['Adialer.C', 'Agent.FYI', 'Allaple.A', 'Allaple.L', 'Alueron.gen!J', 'Autorun.K', 'C2LOP.P', 'C2LOP.gen!g', 'Dialplatform.B', 'Dontovo.A', 'Fakerean', 'Instantaccess', 'Lolyda.AA1', 'Lolyda.AA2', 'Lolyda.AA3', 'Lolyda.AT', 'Malex.gen!J', 'Obfuscator.AD', 'Rbot!gen', 'Skintrim.N', 'Swizzor.gen!E', 'Swizzor.gen!I', 'VB.AT', 'Wintrim.BX', 'Yuner.A']\n"
          ]
        }
      ],
      "source": [
        "img_size=(64, 64)\n",
        "\n",
        "data_transform=transforms.Compose(\n",
        "     data_aug_transforms+\n",
        "   [ transforms.Resize(img_size),\n",
        "    transforms.ToTensor(),\n",
        "    transforms.Normalize(mean=[0.485, 0.456, 0.406],\n",
        "                    std=[0.229, 0.224, 0.225])\n",
        "   ])\n",
        "# mean and std are calculated from the ImageNet images\n",
        "\n",
        "\n",
        "\n",
        "orig_set = torchvision.datasets.ImageFolder(root=train_root , transform=data_transform )\n",
        "val_= torchvision.datasets.ImageFolder(root=val_root )\n",
        "\n",
        "\n",
        "n = len(orig_set)  # total number of examples\n",
        "\n",
        "\n",
        "print(f'Number of original examples: {len(orig_set)}')\n",
        "print(f'Number of Validation examples: {len(val_)}')\n",
        "\n",
        "print(\"Number of classes in training set : \\n\", len(orig_set.classes))\n",
        "print(\"The follwing classes are in training set : \\n\",orig_set.classes)\n",
        "\n"
      ]
    },
    {
      "cell_type": "code",
      "execution_count": 11,
      "metadata": {
        "colab": {
          "base_uri": "https://localhost:8080/",
          "height": 323
        },
        "id": "3lZqrg9JM-Lx",
        "outputId": "b7540561-41f9-4e58-d86e-e6376207d60d"
      },
      "outputs": [
        {
          "output_type": "stream",
          "name": "stderr",
          "text": [
            "Clipping input data to the valid range for imshow with RGB data ([0..1] for floats or [0..255] for integers).\n"
          ]
        },
        {
          "output_type": "stream",
          "name": "stdout",
          "text": [
            "Label : Adialer.C\n"
          ]
        },
        {
          "output_type": "display_data",
          "data": {
            "image/png": "[encoded data removed]",
            "text/plain": [
              "<Figure size 432x288 with 1 Axes>"
            ]
          },
          "metadata": {
            "needs_background": "light"
          }
        }
      ],
      "source": [
        "def display_img(img,label):\n",
        "    print(f\"Label : {orig_set.classes[label]}\")\n",
        "    plt.imshow(img.permute(1,2,0))\n",
        "\n",
        "#display an image from the dataset\n",
        "display_img(*orig_set[22])"
      ]
    },
    {
      "cell_type": "markdown",
      "metadata": {
        "id": "pvMjiUtkMEOa"
      },
      "source": [
        "# The first model is trained without data augmentation "
      ]
    },
    {
      "cell_type": "code",
      "execution_count": 12,
      "metadata": {
        "colab": {
          "base_uri": "https://localhost:8080/"
        },
        "id": "cGCy5BUtMzbA",
        "outputId": "5c4891bb-7c20-4bb2-c3ab-7156615c8228"
      },
      "outputs": [
        {
          "output_type": "stream",
          "name": "stdout",
          "text": [
            "Number of training examples: 8404\n",
            "Number of Validation examples: 924\n"
          ]
        }
      ],
      "source": [
        "train_dataset = torchvision.datasets.ImageFolder(root=train_root , transform=data_transform )\n",
        "val_dataset = torchvision.datasets.ImageFolder(root=val_root , transform=data_transform)\n",
        "\n",
        "print(f'Number of training examples: {len(train_dataset)}')\n",
        "print(f'Number of Validation examples: {len(val_dataset)}')\n",
        "\n",
        "batch_size = 32\n",
        "train_loader=DataLoader(train_dataset,batch_size=batch_size , shuffle=True )\n",
        "val_loader=DataLoader(val_dataset,batch_size=batch_size ,shuffle=False)"
      ]
    },
    {
      "cell_type": "code",
      "execution_count": 13,
      "metadata": {
        "colab": {
          "base_uri": "https://localhost:8080/",
          "height": 144
        },
        "id": "ZLp-8w5lM-OX",
        "outputId": "f453ca1b-0b87-43c7-f435-5d629834ce79"
      },
      "outputs": [
        {
          "output_type": "stream",
          "name": "stderr",
          "text": [
            "Clipping input data to the valid range for imshow with RGB data ([0..1] for floats or [0..255] for integers).\n"
          ]
        },
        {
          "output_type": "display_data",
          "data": {
            "image/png": "[encoded data removed]",
            "text/plain": [
              "<Figure size 1152x864 with 1 Axes>"
            ]
          },
          "metadata": {}
        }
      ],
      "source": [
        "def show_batch(train_loader):\n",
        "    for images, labels in train_loader:\n",
        "        fig,ax = plt.subplots(figsize = (16,12))\n",
        "        ax.set_xticks([])\n",
        "        ax.set_yticks([])\n",
        "        ax.imshow(make_grid(images,nrow=16).permute(1,2,0))\n",
        "        break\n",
        "        \n",
        "show_batch(train_loader)"
      ]
    },
    {
      "cell_type": "code",
      "execution_count": 14,
      "metadata": {
        "id": "uAUYI9CChnly"
      },
      "outputs": [],
      "source": [
        "num_training= 8404\n",
        "num_validation =924"
      ]
    },
    {
      "cell_type": "code",
      "execution_count": 15,
      "metadata": {
        "colab": {
          "base_uri": "https://localhost:8080/"
        },
        "id": "bA20rRLQMzdx",
        "outputId": "7596e81b-52d5-4ed9-e9b3-19e3ceeff9f7"
      },
      "outputs": [
        {
          "output_type": "stream",
          "name": "stdout",
          "text": [
            "torch.Size([3, 64, 64]) 22\n"
          ]
        }
      ],
      "source": [
        "img, label = train_dataset[7403]\n",
        "print(img.shape,label)"
      ]
    },
    {
      "cell_type": "markdown",
      "metadata": {
        "id": "xejUr3ynQx67"
      },
      "source": [
        "# Visualise Data agumentation"
      ]
    },
    {
      "cell_type": "code",
      "execution_count": 16,
      "metadata": {
        "colab": {
          "base_uri": "https://localhost:8080/",
          "height": 323
        },
        "id": "RmaPD2NV3g3f",
        "outputId": "1d5dc246-80d9-45a9-b5f2-51903f36dbf8"
      },
      "outputs": [
        {
          "output_type": "stream",
          "name": "stderr",
          "text": [
            "Clipping input data to the valid range for imshow with RGB data ([0..1] for floats or [0..255] for integers).\n"
          ]
        },
        {
          "output_type": "stream",
          "name": "stdout",
          "text": [
            "Label : Adialer.C\n"
          ]
        },
        {
          "output_type": "display_data",
          "data": {
            "image/png": "[encoded data removed]",
            "text/plain": [
              "<Figure size 432x288 with 1 Axes>"
            ]
          },
          "metadata": {
            "needs_background": "light"
          }
        }
      ],
      "source": [
        "# with data agumentation\n",
        "def display_img(img,label):\n",
        "    print(f\"Label : {orig_set.classes[label]}\")\n",
        "    plt.imshow(img.permute(1,2,0))\n",
        "\n",
        "#display an image from the dataset\n",
        "display_img(*orig_set[22])"
      ]
    },
    {
      "cell_type": "code",
      "execution_count": 17,
      "metadata": {
        "colab": {
          "base_uri": "https://localhost:8080/",
          "height": 144
        },
        "id": "RLDvc4_r3oP8",
        "outputId": "82112948-ac07-4f2d-c3e6-f692ad2ae185"
      },
      "outputs": [
        {
          "output_type": "stream",
          "name": "stderr",
          "text": [
            "Clipping input data to the valid range for imshow with RGB data ([0..1] for floats or [0..255] for integers).\n"
          ]
        },
        {
          "output_type": "display_data",
          "data": {
            "image/png": "[encoded data removed]",
            "text/plain": [
              "<Figure size 1152x864 with 1 Axes>"
            ]
          },
          "metadata": {}
        }
      ],
      "source": [
        "# With data aug\n",
        "def show_batch(train_loader):\n",
        "    for images, labels in train_loader:\n",
        "        fig,ax = plt.subplots(figsize = (16,12))\n",
        "        ax.set_xticks([])\n",
        "        ax.set_yticks([])\n",
        "        ax.imshow(make_grid(images,nrow=16).permute(1,2,0))\n",
        "        break\n",
        "        \n",
        "show_batch(train_loader)"
      ]
    },
    {
      "cell_type": "code",
      "execution_count": 18,
      "metadata": {
        "id": "Blg3bzW9Roq5"
      },
      "outputs": [],
      "source": [
        "def weights_init(m):\n",
        "    if type(m) == nn.Linear:\n",
        "        m.weight.data.normal_(0.0, 1e-3)\n",
        "        m.bias.data.fill_(0.)\n",
        "\n",
        "def update_lr(optimizer, lr):\n",
        "    for param_group in optimizer.param_groups:\n",
        "        param_group['lr'] = lr"
      ]
    },
    {
      "cell_type": "markdown",
      "metadata": {
        "id": "BbgnXscYKFkW"
      },
      "source": [
        "# Baseline CNN implementation "
      ]
    },
    {
      "cell_type": "code",
      "execution_count": 19,
      "metadata": {
        "id": "a5ddwWyNnW4E"
      },
      "outputs": [],
      "source": [
        "# five convo layer , relu activation function \n",
        "class ConvNet(nn.Module):\n",
        "    def __init__(self, num_classes=25):\n",
        "        super(ConvNet, self).__init__()\n",
        "\n",
        "        self.features = torch.nn.Sequential(\n",
        "            \n",
        "            nn.Conv2d(3, 64, kernel_size=11, stride=2, padding=2),\n",
        "            nn.ReLU(),\n",
        "            nn.MaxPool2d(kernel_size=3, stride=2),\n",
        "\n",
        "            nn.Conv2d(64, 192, kernel_size=5, padding=1),\n",
        "            nn.ReLU(),\n",
        "            nn.MaxPool2d(kernel_size=3, stride=2),\n",
        "\n",
        "            nn.Conv2d(192, 384, kernel_size=3, padding=1),\n",
        "            nn.ReLU(),\n",
        "\n",
        "            nn.Conv2d(384, 256, kernel_size=3, padding=1),\n",
        "            nn.ReLU(),\n",
        "\n",
        "            nn.Conv2d(256, 256, kernel_size=3, padding=1),\n",
        "            nn.ReLU(),\n",
        "\n",
        "            nn.MaxPool2d(kernel_size=3, stride=2),\n",
        "        )\n",
        "        self.avgpool = nn.AdaptiveAvgPool2d((6, 6))\n",
        "\n",
        "        self.classifier = torch.nn.Sequential(\n",
        "            \n",
        "            nn.Dropout(),\n",
        "            nn.Linear(256 * 6 * 6, 4096), # outout if last conv layer*target output h*w\n",
        "            nn.ReLU(),\n",
        "            \n",
        "            nn.Dropout(),\n",
        "            nn.Linear(4096, 4096),\n",
        "            nn.ReLU(),\n",
        "            nn.Linear(4096, num_classes)\n",
        "        )\n",
        "    \n",
        "    def forward(self, x):\n",
        "        x = self.features(x)\n",
        "        x = self.avgpool(x)\n",
        "        x = torch.flatten(x, 1)\n",
        "        out = self.classifier(x)\n",
        "        return out\n",
        "    \n"
      ]
    },
    {
      "cell_type": "markdown",
      "metadata": {
        "id": "7ulWafKFRANk"
      },
      "source": [
        "# First model without Data augmentation"
      ]
    },
    {
      "cell_type": "code",
      "execution_count": 20,
      "metadata": {
        "colab": {
          "base_uri": "https://localhost:8080/",
          "height": 1000
        },
        "id": "OYk3TYlQM6Og",
        "outputId": "c32954fa-61a1-4891-df55-001a7e5fc982"
      },
      "outputs": [
        {
          "output_type": "stream",
          "name": "stdout",
          "text": [
            "Using device: cpu\n",
            "ConvNet(\n",
            "  (features): Sequential(\n",
            "    (0): Conv2d(3, 64, kernel_size=(11, 11), stride=(2, 2), padding=(2, 2))\n",
            "    (1): ReLU()\n",
            "    (2): MaxPool2d(kernel_size=3, stride=2, padding=0, dilation=1, ceil_mode=False)\n",
            "    (3): Conv2d(64, 192, kernel_size=(5, 5), stride=(1, 1), padding=(1, 1))\n",
            "    (4): ReLU()\n",
            "    (5): MaxPool2d(kernel_size=3, stride=2, padding=0, dilation=1, ceil_mode=False)\n",
            "    (6): Conv2d(192, 384, kernel_size=(3, 3), stride=(1, 1), padding=(1, 1))\n",
            "    (7): ReLU()\n",
            "    (8): Conv2d(384, 256, kernel_size=(3, 3), stride=(1, 1), padding=(1, 1))\n",
            "    (9): ReLU()\n",
            "    (10): Conv2d(256, 256, kernel_size=(3, 3), stride=(1, 1), padding=(1, 1))\n",
            "    (11): ReLU()\n",
            "    (12): MaxPool2d(kernel_size=3, stride=2, padding=0, dilation=1, ceil_mode=False)\n",
            "  )\n",
            "  (avgpool): AdaptiveAvgPool2d(output_size=(6, 6))\n",
            "  (classifier): Sequential(\n",
            "    (0): Dropout(p=0.5, inplace=False)\n",
            "    (1): Linear(in_features=9216, out_features=4096, bias=True)\n",
            "    (2): ReLU()\n",
            "    (3): Dropout(p=0.5, inplace=False)\n",
            "    (4): Linear(in_features=4096, out_features=4096, bias=True)\n",
            "    (5): ReLU()\n",
            "    (6): Linear(in_features=4096, out_features=25, bias=True)\n",
            "  )\n",
            ")\n",
            "Epoch [1/20], Step [100/263], Loss: 2.0264\n",
            "Epoch [1/20], Step [200/263], Loss: 2.4260\n",
            "Training accuracy is: 41.26606377915279 %\n",
            "Validation accuracy is: 22.186147186147185 %\n",
            "Epoch [2/20], Step [100/263], Loss: 1.3243\n",
            "Epoch [2/20], Step [200/263], Loss: 1.6963\n",
            "Training accuracy is: 50.642551166111375 %\n",
            "Validation accuracy is: 23.80952380952381 %\n",
            "Epoch [3/20], Step [100/263], Loss: 1.5655\n",
            "Epoch [3/20], Step [200/263], Loss: 0.9168\n",
            "Training accuracy is: 52.225130890052355 %\n",
            "Validation accuracy is: 24.242424242424242 %\n",
            "Epoch [4/20], Step [100/263], Loss: 1.7042\n",
            "Epoch [4/20], Step [200/263], Loss: 1.7673\n",
            "Training accuracy is: 54.4859590671109 %\n",
            "Validation accuracy is: 26.515151515151516 %\n",
            "Epoch [5/20], Step [100/263], Loss: 1.7178\n",
            "Epoch [5/20], Step [200/263], Loss: 1.5980\n",
            "Training accuracy is: 56.41361256544503 %\n",
            "Validation accuracy is: 26.406926406926406 %\n",
            "Epoch [6/20], Step [100/263], Loss: 1.6364\n",
            "Epoch [6/20], Step [200/263], Loss: 1.9451\n",
            "Training accuracy is: 56.13993336506425 %\n",
            "Validation accuracy is: 29.437229437229437 %\n",
            "Epoch [7/20], Step [100/263], Loss: 1.6646\n",
            "Epoch [7/20], Step [200/263], Loss: 1.1154\n",
            "Training accuracy is: 58.1151832460733 %\n",
            "Validation accuracy is: 27.92207792207792 %\n",
            "Epoch [8/20], Step [100/263], Loss: 1.8588\n",
            "Epoch [8/20], Step [200/263], Loss: 0.9919\n",
            "Training accuracy is: 59.10280818657782 %\n",
            "Validation accuracy is: 32.467532467532465 %\n",
            "Epoch [9/20], Step [100/263], Loss: 1.8204\n",
            "Epoch [9/20], Step [200/263], Loss: 0.9890\n",
            "Training accuracy is: 59.662065683008095 %\n",
            "Validation accuracy is: 30.086580086580085 %\n",
            "Epoch [10/20], Step [100/263], Loss: 1.9318\n",
            "Epoch [10/20], Step [200/263], Loss: 1.1148\n",
            "Training accuracy is: 59.97144217039505 %\n",
            "Validation accuracy is: 35.064935064935064 %\n",
            "Epoch [11/20], Step [100/263], Loss: 1.3556\n",
            "Epoch [11/20], Step [200/263], Loss: 1.3579\n",
            "Training accuracy is: 61.31603998096145 %\n",
            "Validation accuracy is: 34.1991341991342 %\n",
            "Epoch [12/20], Step [100/263], Loss: 0.8080\n",
            "Epoch [12/20], Step [200/263], Loss: 1.0412\n",
            "Training accuracy is: 61.85149928605426 %\n",
            "Validation accuracy is: 35.497835497835496 %\n",
            "Epoch [13/20], Step [100/263], Loss: 1.0721\n",
            "Epoch [13/20], Step [200/263], Loss: 1.6890\n",
            "Training accuracy is: 62.45835316515945 %\n",
            "Validation accuracy is: 37.33766233766234 %\n",
            "Epoch [14/20], Step [100/263], Loss: 1.4439\n",
            "Epoch [14/20], Step [200/263], Loss: 0.9905\n",
            "Training accuracy is: 64.08852927177534 %\n",
            "Validation accuracy is: 42.42424242424242 %\n",
            "Epoch [15/20], Step [100/263], Loss: 1.2263\n",
            "Epoch [15/20], Step [200/263], Loss: 1.2916\n",
            "Training accuracy is: 64.24321751546883 %\n",
            "Validation accuracy is: 40.25974025974026 %\n",
            "Epoch [16/20], Step [100/263], Loss: 0.9434\n",
            "Epoch [16/20], Step [200/263], Loss: 0.9922\n",
            "Training accuracy is: 64.98096144693004 %\n",
            "Validation accuracy is: 41.23376623376623 %\n",
            "Epoch [17/20], Step [100/263], Loss: 1.2437\n",
            "Epoch [17/20], Step [200/263], Loss: 0.9802\n",
            "Training accuracy is: 65.9090909090909 %\n",
            "Validation accuracy is: 42.42424242424242 %\n",
            "Epoch [18/20], Step [100/263], Loss: 0.9483\n",
            "Epoch [18/20], Step [200/263], Loss: 1.1878\n",
            "Training accuracy is: 67.12279866730128 %\n",
            "Validation accuracy is: 43.83116883116883 %\n",
            "Epoch [19/20], Step [100/263], Loss: 1.0704\n",
            "Epoch [19/20], Step [200/263], Loss: 0.6802\n",
            "Training accuracy is: 67.46787244169442 %\n",
            "Validation accuracy is: 47.83549783549783 %\n",
            "Epoch [20/20], Step [100/263], Loss: 1.0104\n",
            "Epoch [20/20], Step [200/263], Loss: 0.9399\n",
            "Training accuracy is: 68.50309376487387 %\n",
            "Validation accuracy is: 47.077922077922075 %\n"
          ]
        },
        {
          "output_type": "display_data",
          "data": {
            "image/png": "[encoded data removed]",
            "text/plain": [
              "<Figure size 432x288 with 1 Axes>"
            ]
          },
          "metadata": {
            "needs_background": "light"
          }
        },
        {
          "output_type": "display_data",
          "data": {
            "image/png": "[encoded data removed]",
            "text/plain": [
              "<Figure size 432x288 with 1 Axes>"
            ]
          },
          "metadata": {
            "needs_background": "light"
          }
        }
      ],
      "source": [
        "device = torch.device('cuda' if torch.cuda.is_available() else 'cpu')\n",
        "print('Using device: %s'%device)\n",
        "\n",
        "input_size = 3\n",
        "num_classes = 25\n",
        "num_epochs = 20\n",
        "batch_size = 32\n",
        "learning_rate = 2e-3\n",
        "learning_rate_decay = 0.95\n",
        "reg=0.001\n",
        "num_training= 8404\n",
        "num_validation =924\n",
        "\n",
        "\n",
        "model = ConvNet().to(device)\n",
        "model.apply(weights_init)\n",
        "print(model)\n",
        "\n",
        "\n",
        "# Loss and optimizer\n",
        "criterion = nn.CrossEntropyLoss()\n",
        "optimizer = torch.optim.Adam(model.parameters(), lr=learning_rate, weight_decay=reg)\n",
        "\n",
        "# Train the model\n",
        "lr = learning_rate\n",
        "total_step = len(train_loader)\n",
        "loss_train = []\n",
        "loss_val = []\n",
        "accuracy_val = []\n",
        "train_acc_curve=[]\n",
        "\n",
        "for epoch in range(num_epochs):\n",
        "    correct = 0\n",
        "    total = 0\n",
        "\n",
        "    model.train()\n",
        "\n",
        "    loss_iter = 0\n",
        "    for i, (images, labels) in enumerate(train_loader):\n",
        "        # Move tensors to the configured device\n",
        "        images = images.to(device)\n",
        "        labels = labels.to(device)\n",
        "\n",
        "        # Forward pass\n",
        "        outputs = model(images)\n",
        "        loss = criterion(outputs, labels)\n",
        "\n",
        "        # Backward and optimize\n",
        "        optimizer.zero_grad()\n",
        "        loss.backward()\n",
        "        optimizer.step()\n",
        "\n",
        "        ###\n",
        "        \n",
        "        _, predicted = torch.max(outputs.data, 1)\n",
        "        total += labels.size(0)\n",
        "        correct += (predicted == labels).sum().item()\n",
        "\n",
        "        ###\n",
        "\n",
        "        loss_iter += loss.item()\n",
        "        \n",
        "        if (i+1) % 100 == 0:\n",
        "            print ('Epoch [{}/{}], Step [{}/{}], Loss: {:.4f}'\n",
        "                   .format(epoch+1, num_epochs, i+1, total_step, loss.item()))\n",
        "            \n",
        "    loss_train.append(loss_iter/(len(train_loader)*batch_size))\n",
        "    \n",
        "    ###\n",
        "    _train_acc = 100 * correct / total\n",
        "    train_acc_curve.append(_train_acc)\n",
        "    print('Training accuracy is: {} %'.format(_train_acc))\n",
        "    ###\n",
        "\n",
        "\n",
        "    \n",
        "    # Code to update the lr\n",
        "    lr *= learning_rate_decay\n",
        "    update_lr(optimizer, lr)\n",
        "    \n",
        "    \n",
        "    \n",
        "     \n",
        "    model.eval()\n",
        "    with torch.no_grad():\n",
        "        correct = 0\n",
        "        total = 0\n",
        "        loss_iter = 0\n",
        "        for images, labels in val_loader:\n",
        "            images = images.to(device)\n",
        "            labels = labels.to(device)\n",
        "            \n",
        "            outputs = model(images)\n",
        "            _, predicted = torch.max(outputs.data, 1)\n",
        "            \n",
        "            total += labels.size(0)\n",
        "            correct += (predicted == labels).sum().item()\n",
        "            \n",
        "            loss = criterion(outputs, labels)\n",
        "            loss_iter += loss.item()\n",
        "        \n",
        "        loss_val.append(loss_iter/(len(val_loader)*batch_size))\n",
        "\n",
        "        accuracy = 100 * correct / total\n",
        "        accuracy_val.append(accuracy)\n",
        "        print('Validation accuracy is: {} %'.format(accuracy))\n",
        "        \n",
        "\n",
        "\n",
        "    \n",
        "\n",
        "model.eval()\n",
        "\n",
        "\n",
        "\n",
        "plt.figure(2)\n",
        "plt.plot(loss_train, 'r', label='Train loss')\n",
        "plt.plot(loss_val, 'g', label='Validation loss')\n",
        "plt.legend()\n",
        "plt.grid(True)\n",
        "plt.show()\n",
        "\n",
        "\n",
        "plt.figure(3)\n",
        "plt.plot(accuracy_val, 'g', label='Validation accuracy')\n",
        "plt.plot(train_acc_curve, 'r', label='Train accuracy')\n",
        "plt.xlabel(\"Number of Epochs\")\n",
        "plt.ylabel(\"Accuracy\")\n",
        "plt.legend()\n",
        "plt.grid(True)\n",
        "plt.show()\n",
        "\n"
      ]
    },
    {
      "cell_type": "markdown",
      "metadata": {
        "id": "BuD4KeIURKSc"
      },
      "source": [
        "# Second training with Data augmentation"
      ]
    },
    {
      "cell_type": "code",
      "execution_count": 21,
      "metadata": {
        "colab": {
          "base_uri": "https://localhost:8080/",
          "height": 1000
        },
        "id": "cpVH17BUnl5c",
        "outputId": "4c66209e-7d9a-4769-cbb9-8e3d91ce9efa"
      },
      "outputs": [
        {
          "output_type": "stream",
          "name": "stdout",
          "text": [
            "Using device: cpu\n",
            "ConvNet(\n",
            "  (features): Sequential(\n",
            "    (0): Conv2d(3, 64, kernel_size=(11, 11), stride=(2, 2), padding=(2, 2))\n",
            "    (1): ReLU()\n",
            "    (2): MaxPool2d(kernel_size=3, stride=2, padding=0, dilation=1, ceil_mode=False)\n",
            "    (3): Conv2d(64, 192, kernel_size=(5, 5), stride=(1, 1), padding=(1, 1))\n",
            "    (4): ReLU()\n",
            "    (5): MaxPool2d(kernel_size=3, stride=2, padding=0, dilation=1, ceil_mode=False)\n",
            "    (6): Conv2d(192, 384, kernel_size=(3, 3), stride=(1, 1), padding=(1, 1))\n",
            "    (7): ReLU()\n",
            "    (8): Conv2d(384, 256, kernel_size=(3, 3), stride=(1, 1), padding=(1, 1))\n",
            "    (9): ReLU()\n",
            "    (10): Conv2d(256, 256, kernel_size=(3, 3), stride=(1, 1), padding=(1, 1))\n",
            "    (11): ReLU()\n",
            "    (12): MaxPool2d(kernel_size=3, stride=2, padding=0, dilation=1, ceil_mode=False)\n",
            "  )\n",
            "  (avgpool): AdaptiveAvgPool2d(output_size=(6, 6))\n",
            "  (classifier): Sequential(\n",
            "    (0): Dropout(p=0.5, inplace=False)\n",
            "    (1): Linear(in_features=9216, out_features=4096, bias=True)\n",
            "    (2): ReLU()\n",
            "    (3): Dropout(p=0.5, inplace=False)\n",
            "    (4): Linear(in_features=4096, out_features=4096, bias=True)\n",
            "    (5): ReLU()\n",
            "    (6): Linear(in_features=4096, out_features=25, bias=True)\n",
            "  )\n",
            ")\n",
            "Epoch [1/20], Step [100/263], Loss: 2.2516\n",
            "Epoch [1/20], Step [200/263], Loss: 1.6740\n",
            "Training accuracy is: 42.02760590195145 %\n",
            "Validation accuracy is: 20.562770562770563 %\n",
            "Epoch [2/20], Step [100/263], Loss: 1.7190\n",
            "Epoch [2/20], Step [200/263], Loss: 2.0604\n",
            "Training accuracy is: 50.46406473108044 %\n",
            "Validation accuracy is: 21.103896103896105 %\n",
            "Epoch [3/20], Step [100/263], Loss: 1.7847\n",
            "Epoch [3/20], Step [200/263], Loss: 1.4347\n",
            "Training accuracy is: 51.74916706330319 %\n",
            "Validation accuracy is: 24.567099567099568 %\n",
            "Epoch [4/20], Step [100/263], Loss: 1.6426\n",
            "Epoch [4/20], Step [200/263], Loss: 1.8074\n",
            "Training accuracy is: 54.03379343169919 %\n",
            "Validation accuracy is: 26.515151515151516 %\n",
            "Epoch [5/20], Step [100/263], Loss: 1.7354\n",
            "Epoch [5/20], Step [200/263], Loss: 1.9838\n",
            "Training accuracy is: 55.35459305092813 %\n",
            "Validation accuracy is: 25.432900432900432 %\n",
            "Epoch [6/20], Step [100/263], Loss: 1.3550\n",
            "Epoch [6/20], Step [200/263], Loss: 1.5412\n",
            "Training accuracy is: 56.88957639219419 %\n",
            "Validation accuracy is: 26.19047619047619 %\n",
            "Epoch [7/20], Step [100/263], Loss: 1.8415\n",
            "Epoch [7/20], Step [200/263], Loss: 1.3428\n",
            "Training accuracy is: 58.61494526415992 %\n",
            "Validation accuracy is: 28.463203463203463 %\n",
            "Epoch [8/20], Step [100/263], Loss: 1.7240\n",
            "Epoch [8/20], Step [200/263], Loss: 1.4021\n",
            "Training accuracy is: 59.29319371727749 %\n",
            "Validation accuracy is: 32.03463203463203 %\n",
            "Epoch [9/20], Step [100/263], Loss: 1.1131\n",
            "Epoch [9/20], Step [200/263], Loss: 1.1543\n",
            "Training accuracy is: 60.07853403141361 %\n",
            "Validation accuracy is: 28.354978354978353 %\n",
            "Epoch [10/20], Step [100/263], Loss: 1.4318\n",
            "Epoch [10/20], Step [200/263], Loss: 1.6215\n",
            "Training accuracy is: 61.10185625892432 %\n",
            "Validation accuracy is: 31.16883116883117 %\n",
            "Epoch [11/20], Step [100/263], Loss: 1.5644\n",
            "Epoch [11/20], Step [200/263], Loss: 1.1427\n",
            "Training accuracy is: 62.196573060447406 %\n",
            "Validation accuracy is: 38.85281385281385 %\n",
            "Epoch [12/20], Step [100/263], Loss: 0.9580\n",
            "Epoch [12/20], Step [200/263], Loss: 1.4226\n",
            "Training accuracy is: 63.207996192289386 %\n",
            "Validation accuracy is: 36.904761904761905 %\n",
            "Epoch [13/20], Step [100/263], Loss: 1.1629\n",
            "Epoch [13/20], Step [200/263], Loss: 1.1033\n",
            "Training accuracy is: 63.98143741075678 %\n",
            "Validation accuracy is: 39.06926406926407 %\n",
            "Epoch [14/20], Step [100/263], Loss: 1.1487\n",
            "Epoch [14/20], Step [200/263], Loss: 0.7956\n",
            "Training accuracy is: 64.79057591623037 %\n",
            "Validation accuracy is: 41.55844155844156 %\n",
            "Epoch [15/20], Step [100/263], Loss: 0.9669\n",
            "Epoch [15/20], Step [200/263], Loss: 1.3620\n",
            "Training accuracy is: 65.77820085673488 %\n",
            "Validation accuracy is: 40.476190476190474 %\n",
            "Epoch [16/20], Step [100/263], Loss: 1.5709\n",
            "Epoch [16/20], Step [200/263], Loss: 1.0849\n",
            "Training accuracy is: 67.3726796763446 %\n",
            "Validation accuracy is: 43.18181818181818 %\n",
            "Epoch [17/20], Step [100/263], Loss: 1.0124\n",
            "Epoch [17/20], Step [200/263], Loss: 1.5215\n",
            "Training accuracy is: 67.18229414564493 %\n",
            "Validation accuracy is: 46.53679653679654 %\n",
            "Epoch [18/20], Step [100/263], Loss: 1.0918\n",
            "Epoch [18/20], Step [200/263], Loss: 0.9890\n",
            "Training accuracy is: 67.69395525940028 %\n",
            "Validation accuracy is: 44.15584415584416 %\n",
            "Epoch [19/20], Step [100/263], Loss: 0.6570\n",
            "Epoch [19/20], Step [200/263], Loss: 1.0655\n",
            "Training accuracy is: 69.64540694907187 %\n",
            "Validation accuracy is: 54.22077922077922 %\n",
            "Epoch [20/20], Step [100/263], Loss: 0.8941\n",
            "Epoch [20/20], Step [200/263], Loss: 0.8101\n",
            "Training accuracy is: 71.1684911946692 %\n",
            "Validation accuracy is: 49.675324675324674 %\n"
          ]
        },
        {
          "output_type": "display_data",
          "data": {
            "image/png": "[encoded data removed]",
            "text/plain": [
              "<Figure size 432x288 with 1 Axes>"
            ]
          },
          "metadata": {
            "needs_background": "light"
          }
        },
        {
          "output_type": "display_data",
          "data": {
            "image/png": "[encoded data removed]",
            "text/plain": [
              "<Figure size 432x288 with 1 Axes>"
            ]
          },
          "metadata": {
            "needs_background": "light"
          }
        }
      ],
      "source": [
        "device = torch.device('cuda' if torch.cuda.is_available() else 'cpu')\n",
        "print('Using device: %s'%device)\n",
        "\n",
        "input_size = 3\n",
        "num_classes = 25\n",
        "num_epochs = 20\n",
        "batch_size = 32\n",
        "learning_rate = 2e-3\n",
        "learning_rate_decay = 0.95\n",
        "reg=0.001\n",
        "num_training= 8404\n",
        "num_validation =924\n",
        "\n",
        "\n",
        "model = ConvNet().to(device)\n",
        "model.apply(weights_init)\n",
        "print(model)\n",
        "\n",
        "\n",
        "# Loss and optimizer\n",
        "criterion = nn.CrossEntropyLoss()\n",
        "optimizer = torch.optim.Adam(model.parameters(), lr=learning_rate, weight_decay=reg)\n",
        "\n",
        "# Train the model\n",
        "lr = learning_rate\n",
        "total_step = len(train_loader)\n",
        "loss_train = []\n",
        "loss_val = []\n",
        "accuracy_val = []\n",
        "train_acc_curve=[]\n",
        "\n",
        "for epoch in range(num_epochs):\n",
        "    correct = 0\n",
        "    total = 0\n",
        "\n",
        "    model.train()\n",
        "\n",
        "    loss_iter = 0\n",
        "    for i, (images, labels) in enumerate(train_loader):\n",
        "        # Move tensors to the configured device\n",
        "        images = images.to(device)\n",
        "        labels = labels.to(device)\n",
        "\n",
        "        # Forward pass\n",
        "        outputs = model(images)\n",
        "        loss = criterion(outputs, labels)\n",
        "\n",
        "        # Backward and optimize\n",
        "        optimizer.zero_grad()\n",
        "        loss.backward()\n",
        "        optimizer.step()\n",
        "\n",
        "        ###\n",
        "        \n",
        "        _, predicted = torch.max(outputs.data, 1)\n",
        "        total += labels.size(0)\n",
        "        correct += (predicted == labels).sum().item()\n",
        "\n",
        "        ###\n",
        "\n",
        "        loss_iter += loss.item()\n",
        "        \n",
        "        if (i+1) % 100 == 0:\n",
        "            print ('Epoch [{}/{}], Step [{}/{}], Loss: {:.4f}'\n",
        "                   .format(epoch+1, num_epochs, i+1, total_step, loss.item()))\n",
        "            \n",
        "    loss_train.append(loss_iter/(len(train_loader)*batch_size))\n",
        "    \n",
        "    ###\n",
        "    _train_acc = 100 * correct / total\n",
        "    train_acc_curve.append(_train_acc)\n",
        "    print('Training accuracy is: {} %'.format(_train_acc))\n",
        "    ###\n",
        "\n",
        "\n",
        "    \n",
        "    # Code to update the lr\n",
        "    lr *= learning_rate_decay\n",
        "    update_lr(optimizer, lr)\n",
        "    \n",
        "    \n",
        "    \n",
        "     \n",
        "    model.eval()\n",
        "    with torch.no_grad():\n",
        "        correct = 0\n",
        "        total = 0\n",
        "        loss_iter = 0\n",
        "        for images, labels in val_loader:\n",
        "            images = images.to(device)\n",
        "            labels = labels.to(device)\n",
        "            \n",
        "            outputs = model(images)\n",
        "            _, predicted = torch.max(outputs.data, 1)\n",
        "            \n",
        "            total += labels.size(0)\n",
        "            correct += (predicted == labels).sum().item()\n",
        "            \n",
        "            loss = criterion(outputs, labels)\n",
        "            loss_iter += loss.item()\n",
        "        \n",
        "        loss_val.append(loss_iter/(len(val_loader)*batch_size))\n",
        "\n",
        "        accuracy = 100 * correct / total\n",
        "        accuracy_val.append(accuracy)\n",
        "        print('Validation accuracy is: {} %'.format(accuracy))\n",
        "        \n",
        "\n",
        "\n",
        "    \n",
        "\n",
        "\n",
        "model.eval()\n",
        "\n",
        "\n",
        "\n",
        "plt.figure(2)\n",
        "plt.plot(loss_train, 'r', label='Train loss')\n",
        "plt.plot(loss_val, 'g', label='Validation loss')\n",
        "plt.legend()\n",
        "plt.grid(True)\n",
        "plt.show()\n",
        "\n",
        "\n",
        "## plot accuracy of dropout\n",
        "plt.figure(3)\n",
        "plt.plot(accuracy_val, 'g', label='Validation accuracy')\n",
        "plt.plot(train_acc_curve, 'r', label='Train accuracy')\n",
        "plt.xlabel(\"Number of Epochs\")\n",
        "plt.ylabel(\"Accuracy\")\n",
        "plt.legend()\n",
        "plt.grid(True)\n",
        "plt.show()\n",
        "\n"
      ]
    },
    {
      "cell_type": "markdown",
      "metadata": {
        "id": "7AOc1VPfWTCj"
      },
      "source": [
        "#  To be done :improve model generlization (solutions to over-fitting)\n",
        "1- lowering learniing rate.\n",
        "2- increase regularization term "
      ]
    },
    {
      "cell_type": "code",
      "execution_count": 22,
      "metadata": {
        "colab": {
          "base_uri": "https://localhost:8080/"
        },
        "id": "VCgrxhfXYsib",
        "outputId": "74031892-ccde-4e9a-9d2a-19d878a216c4"
      },
      "outputs": [
        {
          "output_type": "stream",
          "name": "stdout",
          "text": [
            "1.10.0+cu111\n"
          ]
        }
      ],
      "source": [
        "print(torch.__version__)"
      ]
    },
    {
      "cell_type": "code",
      "execution_count": 23,
      "metadata": {
        "colab": {
          "base_uri": "https://localhost:8080/",
          "height": 1000
        },
        "id": "El_fFB-gSYhH",
        "outputId": "3d5d54c7-2149-4551-9678-850a207a6ffd"
      },
      "outputs": [
        {
          "output_type": "stream",
          "name": "stdout",
          "text": [
            "Using device: cpu\n",
            "ConvNet(\n",
            "  (features): Sequential(\n",
            "    (0): Conv2d(3, 64, kernel_size=(11, 11), stride=(2, 2), padding=(2, 2))\n",
            "    (1): ReLU()\n",
            "    (2): MaxPool2d(kernel_size=3, stride=2, padding=0, dilation=1, ceil_mode=False)\n",
            "    (3): Conv2d(64, 192, kernel_size=(5, 5), stride=(1, 1), padding=(1, 1))\n",
            "    (4): ReLU()\n",
            "    (5): MaxPool2d(kernel_size=3, stride=2, padding=0, dilation=1, ceil_mode=False)\n",
            "    (6): Conv2d(192, 384, kernel_size=(3, 3), stride=(1, 1), padding=(1, 1))\n",
            "    (7): ReLU()\n",
            "    (8): Conv2d(384, 256, kernel_size=(3, 3), stride=(1, 1), padding=(1, 1))\n",
            "    (9): ReLU()\n",
            "    (10): Conv2d(256, 256, kernel_size=(3, 3), stride=(1, 1), padding=(1, 1))\n",
            "    (11): ReLU()\n",
            "    (12): MaxPool2d(kernel_size=3, stride=2, padding=0, dilation=1, ceil_mode=False)\n",
            "  )\n",
            "  (avgpool): AdaptiveAvgPool2d(output_size=(6, 6))\n",
            "  (classifier): Sequential(\n",
            "    (0): Dropout(p=0.5, inplace=False)\n",
            "    (1): Linear(in_features=9216, out_features=4096, bias=True)\n",
            "    (2): ReLU()\n",
            "    (3): Dropout(p=0.5, inplace=False)\n",
            "    (4): Linear(in_features=4096, out_features=4096, bias=True)\n",
            "    (5): ReLU()\n",
            "    (6): Linear(in_features=4096, out_features=25, bias=True)\n",
            "  )\n",
            ")\n",
            "Epoch [1/20], Step [100/263], Loss: 3.1782\n",
            "Epoch [1/20], Step [200/263], Loss: 3.0040\n",
            "Training accuracy is: 33.49595430747263 %\n",
            "Validation accuracy is: 12.337662337662337 %\n",
            "Epoch [2/20], Step [100/263], Loss: 2.8833\n",
            "Epoch [2/20], Step [200/263], Loss: 2.8278\n",
            "Training accuracy is: 33.6030461684912 %\n",
            "Validation accuracy is: 12.337662337662337 %\n",
            "Epoch [3/20], Step [100/263], Loss: 2.8854\n",
            "Epoch [3/20], Step [200/263], Loss: 2.9084\n",
            "Training accuracy is: 33.6030461684912 %\n",
            "Validation accuracy is: 12.337662337662337 %\n",
            "Epoch [4/20], Step [100/263], Loss: 2.9739\n",
            "Epoch [4/20], Step [200/263], Loss: 2.9655\n",
            "Training accuracy is: 33.6030461684912 %\n",
            "Validation accuracy is: 12.337662337662337 %\n",
            "Epoch [5/20], Step [100/263], Loss: 2.9291\n",
            "Epoch [5/20], Step [200/263], Loss: 2.9081\n",
            "Training accuracy is: 33.6030461684912 %\n",
            "Validation accuracy is: 12.337662337662337 %\n",
            "Epoch [6/20], Step [100/263], Loss: 2.9371\n",
            "Epoch [6/20], Step [200/263], Loss: 2.9011\n",
            "Training accuracy is: 33.6030461684912 %\n",
            "Validation accuracy is: 12.337662337662337 %\n",
            "Epoch [7/20], Step [100/263], Loss: 2.9356\n",
            "Epoch [7/20], Step [200/263], Loss: 2.9760\n",
            "Training accuracy is: 33.6030461684912 %\n",
            "Validation accuracy is: 12.337662337662337 %\n",
            "Epoch [8/20], Step [100/263], Loss: 2.8277\n",
            "Epoch [8/20], Step [200/263], Loss: 2.9683\n",
            "Training accuracy is: 33.6030461684912 %\n",
            "Validation accuracy is: 12.337662337662337 %\n",
            "Epoch [9/20], Step [100/263], Loss: 2.8770\n",
            "Epoch [9/20], Step [200/263], Loss: 2.9389\n",
            "Training accuracy is: 33.6030461684912 %\n",
            "Validation accuracy is: 12.337662337662337 %\n",
            "Epoch [10/20], Step [100/263], Loss: 2.8204\n",
            "Epoch [10/20], Step [200/263], Loss: 2.9660\n",
            "Training accuracy is: 33.6030461684912 %\n",
            "Validation accuracy is: 12.337662337662337 %\n",
            "Epoch [11/20], Step [100/263], Loss: 2.9094\n",
            "Epoch [11/20], Step [200/263], Loss: 2.8800\n",
            "Training accuracy is: 33.6030461684912 %\n",
            "Validation accuracy is: 12.337662337662337 %\n",
            "Epoch [12/20], Step [100/263], Loss: 2.8992\n",
            "Epoch [12/20], Step [200/263], Loss: 2.8389\n",
            "Training accuracy is: 33.6030461684912 %\n",
            "Validation accuracy is: 12.337662337662337 %\n",
            "Epoch [13/20], Step [100/263], Loss: 2.8580\n",
            "Epoch [13/20], Step [200/263], Loss: 2.8680\n",
            "Training accuracy is: 33.6030461684912 %\n",
            "Validation accuracy is: 12.337662337662337 %\n",
            "Epoch [14/20], Step [100/263], Loss: 3.0395\n",
            "Epoch [14/20], Step [200/263], Loss: 2.9819\n",
            "Training accuracy is: 33.6030461684912 %\n",
            "Validation accuracy is: 12.337662337662337 %\n",
            "Epoch [15/20], Step [100/263], Loss: 2.9320\n",
            "Epoch [15/20], Step [200/263], Loss: 2.8636\n",
            "Training accuracy is: 33.6030461684912 %\n",
            "Validation accuracy is: 12.337662337662337 %\n",
            "Epoch [16/20], Step [100/263], Loss: 2.9019\n",
            "Epoch [16/20], Step [200/263], Loss: 2.8005\n",
            "Training accuracy is: 33.6030461684912 %\n",
            "Validation accuracy is: 12.337662337662337 %\n",
            "Epoch [17/20], Step [100/263], Loss: 2.9454\n",
            "Epoch [17/20], Step [200/263], Loss: 3.0572\n",
            "Training accuracy is: 33.6030461684912 %\n",
            "Validation accuracy is: 12.337662337662337 %\n",
            "Epoch [18/20], Step [100/263], Loss: 2.9795\n",
            "Epoch [18/20], Step [200/263], Loss: 2.8816\n",
            "Training accuracy is: 33.6030461684912 %\n",
            "Validation accuracy is: 12.337662337662337 %\n",
            "Epoch [19/20], Step [100/263], Loss: 2.9486\n",
            "Epoch [19/20], Step [200/263], Loss: 2.9166\n",
            "Training accuracy is: 33.6030461684912 %\n",
            "Validation accuracy is: 12.337662337662337 %\n",
            "Epoch [20/20], Step [100/263], Loss: 2.8800\n",
            "Epoch [20/20], Step [200/263], Loss: 2.8901\n",
            "Training accuracy is: 33.6030461684912 %\n",
            "Validation accuracy is: 12.337662337662337 %\n"
          ]
        },
        {
          "output_type": "display_data",
          "data": {
            "image/png": "[encoded data removed]",
            "text/plain": [
              "<Figure size 432x288 with 1 Axes>"
            ]
          },
          "metadata": {
            "needs_background": "light"
          }
        },
        {
          "output_type": "display_data",
          "data": {
            "image/png": "[encoded data removed]",
            "text/plain": [
              "<Figure size 432x288 with 1 Axes>"
            ]
          },
          "metadata": {
            "needs_background": "light"
          }
        }
      ],
      "source": [
        "# increase reg term to improv over-fitting \n",
        "\n",
        "device = torch.device('cuda' if torch.cuda.is_available() else 'cpu')\n",
        "print('Using device: %s'%device)\n",
        "\n",
        "input_size = 3\n",
        "num_classes = 25\n",
        "num_epochs = 20\n",
        "batch_size = 32\n",
        "\n",
        "#\n",
        "learning_rate = 1e-4\n",
        "learning_rate_decay = 0.90\n",
        "reg=0.30\n",
        "#\n",
        "num_training= 8404\n",
        "num_validation =924\n",
        "\n",
        "\n",
        "model = ConvNet().to(device)\n",
        "model.apply(weights_init)\n",
        "print(model)\n",
        "\n",
        "\n",
        "# Loss and optimizer\n",
        "criterion = nn.CrossEntropyLoss()\n",
        "optimizer = torch.optim.Adam(model.parameters(), lr=learning_rate, weight_decay=reg)\n",
        "\n",
        "# Train the model\n",
        "lr = learning_rate\n",
        "total_step = len(train_loader)\n",
        "loss_train = []\n",
        "loss_val = []\n",
        "accuracy_val = []\n",
        "train_acc_curve=[]\n",
        "\n",
        "for epoch in range(num_epochs):\n",
        "    correct = 0\n",
        "    total = 0\n",
        "\n",
        "    model.train()\n",
        "\n",
        "    loss_iter = 0\n",
        "    for i, (images, labels) in enumerate(train_loader):\n",
        "        # Move tensors to the configured device\n",
        "        images = images.to(device)\n",
        "        labels = labels.to(device)\n",
        "\n",
        "        # Forward pass\n",
        "        outputs = model(images)\n",
        "        loss = criterion(outputs, labels)\n",
        "\n",
        "        # Backward and optimize\n",
        "        optimizer.zero_grad()\n",
        "        loss.backward()\n",
        "        optimizer.step()\n",
        "\n",
        "        ###\n",
        "        \n",
        "        _, predicted = torch.max(outputs.data, 1)\n",
        "        total += labels.size(0)\n",
        "        correct += (predicted == labels).sum().item()\n",
        "\n",
        "        ###\n",
        "\n",
        "        loss_iter += loss.item()\n",
        "        \n",
        "        if (i+1) % 100 == 0:\n",
        "            print ('Epoch [{}/{}], Step [{}/{}], Loss: {:.4f}'\n",
        "                   .format(epoch+1, num_epochs, i+1, total_step, loss.item()))\n",
        "            \n",
        "    loss_train.append(loss_iter/(len(train_loader)*batch_size))\n",
        "    \n",
        "    ###\n",
        "    _train_acc = 100 * correct / total\n",
        "    train_acc_curve.append(_train_acc)\n",
        "    print('Training accuracy is: {} %'.format(_train_acc))\n",
        "    ###\n",
        "\n",
        "\n",
        "    \n",
        "    # Code to update the lr\n",
        "    lr *= learning_rate_decay\n",
        "    update_lr(optimizer, lr)\n",
        "    \n",
        "    \n",
        "    \n",
        "     \n",
        "    model.eval()\n",
        "    with torch.no_grad():\n",
        "        correct = 0\n",
        "        total = 0\n",
        "        loss_iter = 0\n",
        "        for images, labels in val_loader:\n",
        "            images = images.to(device)\n",
        "            labels = labels.to(device)\n",
        "            \n",
        "            outputs = model(images)\n",
        "            _, predicted = torch.max(outputs.data, 1)\n",
        "            \n",
        "            total += labels.size(0)\n",
        "            correct += (predicted == labels).sum().item()\n",
        "            \n",
        "            loss = criterion(outputs, labels)\n",
        "            loss_iter += loss.item()\n",
        "        \n",
        "        loss_val.append(loss_iter/(len(val_loader)*batch_size))\n",
        "\n",
        "        accuracy = 100 * correct / total\n",
        "        accuracy_val.append(accuracy)\n",
        "        print('Validation accuracy is: {} %'.format(accuracy))\n",
        "        \n",
        "\n",
        "\n",
        "    \n",
        "\n",
        "\n",
        "model.eval()\n",
        "\n",
        "\n",
        "\n",
        "plt.figure(2)\n",
        "plt.plot(loss_train, 'r', label='Train loss')\n",
        "plt.plot(loss_val, 'g', label='Validation loss')\n",
        "plt.legend()\n",
        "plt.grid(True)\n",
        "plt.show()\n",
        "\n",
        "\n",
        "## plot accuracy of dropout\n",
        "plt.figure(3)\n",
        "plt.plot(accuracy_val, 'g', label='Validation accuracy')\n",
        "plt.plot(train_acc_curve, 'r', label='Train accuracy')\n",
        "plt.xlabel(\"Number of Epochs\")\n",
        "plt.ylabel(\"Accuracy\")\n",
        "plt.legend()\n",
        "plt.grid(True)\n",
        "plt.show()\n",
        "\n"
      ]
    },
    {
      "cell_type": "markdown",
      "metadata": {
        "id": "BgkOdGhvRYfQ"
      },
      "source": [
        "# SOTA model  [CoAtnet](https://paperswithcode.com/paper/coatnet-marrying-convolution-and-attention#code) , as for the code the main refrence was [github](https://github.com/tyeso/Image_Classification_with_CoAtNet_and_ResNet18)"
      ]
    },
    {
      "cell_type": "code",
      "execution_count": 24,
      "metadata": {
        "colab": {
          "base_uri": "https://localhost:8080/"
        },
        "id": "emQzKkEz7Gek",
        "outputId": "530088af-5b95-4ae9-dbd4-6d4646c6e0a0"
      },
      "outputs": [
        {
          "output_type": "stream",
          "name": "stdout",
          "text": [
            "Collecting einops\n",
            "  Downloading einops-0.4.0-py3-none-any.whl (28 kB)\n",
            "Installing collected packages: einops\n",
            "Successfully installed einops-0.4.0\n"
          ]
        }
      ],
      "source": [
        "pip install einops"
      ]
    },
    {
      "cell_type": "code",
      "execution_count": 25,
      "metadata": {
        "colab": {
          "base_uri": "https://localhost:8080/"
        },
        "id": "k-S5_PJYSDyM",
        "outputId": "db1e5811-48bf-4ea0-880e-c7ef1579dc23"
      },
      "outputs": [
        {
          "output_type": "stream",
          "name": "stderr",
          "text": [
            "/usr/local/lib/python3.7/dist-packages/torch/functional.py:445: UserWarning: torch.meshgrid: in an upcoming release, it will be required to pass the indexing argument. (Triggered internally at  ../aten/src/ATen/native/TensorShape.cpp:2157.)\n",
            "  return _VF.meshgrid(tensors, **kwargs)  # type: ignore[attr-defined]\n"
          ]
        },
        {
          "output_type": "stream",
          "name": "stdout",
          "text": [
            "torch.Size([1, 3]) 17023928\n",
            "torch.Size([1, 1000]) 33170624\n",
            "torch.Size([1, 1000]) 55767564\n",
            "torch.Size([1, 1000]) 117724480\n",
            "torch.Size([1, 1000]) 203960368\n"
          ]
        }
      ],
      "source": [
        "import torch\n",
        "import torch.nn as nn\n",
        "\n",
        "from einops import rearrange\n",
        "from einops.layers.torch import Rearrange\n",
        "\n",
        "\n",
        "def conv_3x3_bn(inp, oup, image_size, downsample=False):\n",
        "    stride = 1 if downsample == False else 2\n",
        "    return nn.Sequential(\n",
        "        nn.Conv2d(inp, oup, 3, stride, 1, bias=False),\n",
        "        nn.BatchNorm2d(oup),\n",
        "        nn.GELU()\n",
        "    )\n",
        "\n",
        "\n",
        "class PreNorm(nn.Module):\n",
        "    def __init__(self, dim, fn, norm):\n",
        "        super().__init__()\n",
        "        self.norm = norm(dim)\n",
        "        self.fn = fn\n",
        "\n",
        "    def forward(self, x, **kwargs):\n",
        "        return self.fn(self.norm(x), **kwargs)\n",
        "\n",
        "\n",
        "class SE(nn.Module):\n",
        "    def __init__(self, inp, oup, expansion=0.25):\n",
        "        super().__init__()\n",
        "        self.avg_pool = nn.AdaptiveAvgPool2d(1)\n",
        "        self.fc = nn.Sequential(\n",
        "            nn.Linear(oup, int(inp * expansion), bias=False),\n",
        "            nn.GELU(),\n",
        "            nn.Linear(int(inp * expansion), oup, bias=False),\n",
        "            nn.Sigmoid()\n",
        "        )\n",
        "\n",
        "    def forward(self, x):\n",
        "        b, c, _, _ = x.size()\n",
        "        y = self.avg_pool(x).view(b, c)\n",
        "        y = self.fc(y).view(b, c, 1, 1)\n",
        "        return x * y\n",
        "\n",
        "\n",
        "class FeedForward(nn.Module):\n",
        "    def __init__(self, dim, hidden_dim, dropout=0.):\n",
        "        super().__init__()\n",
        "        self.net = nn.Sequential(\n",
        "            nn.Linear(dim, hidden_dim),\n",
        "            nn.GELU(),\n",
        "            nn.Dropout(dropout),\n",
        "            nn.Linear(hidden_dim, dim),\n",
        "            nn.Dropout(dropout)\n",
        "        )\n",
        "\n",
        "    def forward(self, x):\n",
        "        return self.net(x)\n",
        "\n",
        "\n",
        "class MBConv(nn.Module):\n",
        "    def __init__(self, inp, oup, image_size, downsample=False, expansion=4):\n",
        "        super().__init__()\n",
        "        self.downsample = downsample\n",
        "        stride = 1 if self.downsample == False else 2\n",
        "        hidden_dim = int(inp * expansion)\n",
        "\n",
        "        if self.downsample:\n",
        "            self.pool = nn.MaxPool2d(3, 2, 1)\n",
        "            self.proj = nn.Conv2d(inp, oup, 1, 1, 0, bias=False)\n",
        "\n",
        "        if expansion == 1:\n",
        "            self.conv = nn.Sequential(\n",
        "                # dw\n",
        "                nn.Conv2d(hidden_dim, hidden_dim, 3, stride,\n",
        "                          1, groups=hidden_dim, bias=False),\n",
        "                nn.BatchNorm2d(hidden_dim),\n",
        "                nn.GELU(),\n",
        "                # pw-linear\n",
        "                nn.Conv2d(hidden_dim, oup, 1, 1, 0, bias=False),\n",
        "                nn.BatchNorm2d(oup),\n",
        "            )\n",
        "        else:\n",
        "            self.conv = nn.Sequential(\n",
        "                # pw\n",
        "                # down-sample in the first conv\n",
        "                nn.Conv2d(inp, hidden_dim, 1, stride, 0, bias=False),\n",
        "                nn.BatchNorm2d(hidden_dim),\n",
        "                nn.GELU(),\n",
        "                # dw\n",
        "                nn.Conv2d(hidden_dim, hidden_dim, 3, 1, 1,\n",
        "                          groups=hidden_dim, bias=False),\n",
        "                nn.BatchNorm2d(hidden_dim),\n",
        "                nn.GELU(),\n",
        "                SE(inp, hidden_dim),\n",
        "                # pw-linear\n",
        "                nn.Conv2d(hidden_dim, oup, 1, 1, 0, bias=False),\n",
        "                nn.BatchNorm2d(oup),\n",
        "            )\n",
        "        \n",
        "        self.conv = PreNorm(inp, self.conv, nn.BatchNorm2d)\n",
        "\n",
        "    def forward(self, x):\n",
        "        if self.downsample:\n",
        "            return self.proj(self.pool(x)) + self.conv(x)\n",
        "        else:\n",
        "            return x + self.conv(x)\n",
        "\n",
        "\n",
        "class Attention(nn.Module):\n",
        "    def __init__(self, inp, oup, image_size, heads=8, dim_head=32, dropout=0.):\n",
        "        super().__init__()\n",
        "        inner_dim = dim_head * heads\n",
        "        project_out = not (heads == 1 and dim_head == inp)\n",
        "\n",
        "        self.ih, self.iw = image_size\n",
        "\n",
        "        self.heads = heads\n",
        "        self.scale = dim_head ** -0.5\n",
        "\n",
        "        # parameter table of relative position bias\n",
        "        self.relative_bias_table = nn.Parameter(\n",
        "            torch.zeros((2 * self.ih - 1) * (2 * self.iw - 1), heads))\n",
        "\n",
        "        coords = torch.meshgrid((torch.arange(self.ih), torch.arange(self.iw)))\n",
        "        coords = torch.flatten(torch.stack(coords), 1)\n",
        "        relative_coords = coords[:, :, None] - coords[:, None, :]\n",
        "\n",
        "        relative_coords[0] += self.ih - 1\n",
        "        relative_coords[1] += self.iw - 1\n",
        "        relative_coords[0] *= 2 * self.iw - 1\n",
        "        relative_coords = rearrange(relative_coords, 'c h w -> h w c')\n",
        "        relative_index = relative_coords.sum(-1).flatten().unsqueeze(1)\n",
        "        self.register_buffer(\"relative_index\", relative_index)\n",
        "\n",
        "        self.attend = nn.Softmax(dim=-1)\n",
        "        self.to_qkv = nn.Linear(inp, inner_dim * 3, bias=False)\n",
        "\n",
        "        self.to_out = nn.Sequential(\n",
        "            nn.Linear(inner_dim, oup),\n",
        "            nn.Dropout(dropout)\n",
        "        ) if project_out else nn.Identity()\n",
        "\n",
        "    def forward(self, x):\n",
        "        qkv = self.to_qkv(x).chunk(3, dim=-1)\n",
        "        q, k, v = map(lambda t: rearrange(\n",
        "            t, 'b n (h d) -> b h n d', h=self.heads), qkv)\n",
        "\n",
        "        dots = torch.matmul(q, k.transpose(-1, -2)) * self.scale\n",
        "\n",
        "        # Use \"gather\" for more efficiency on GPUs\n",
        "        relative_bias = self.relative_bias_table.gather(\n",
        "            0, self.relative_index.repeat(1, self.heads))\n",
        "        relative_bias = rearrange(\n",
        "            relative_bias, '(h w) c -> 1 c h w', h=self.ih*self.iw, w=self.ih*self.iw)\n",
        "        dots = dots + relative_bias\n",
        "\n",
        "        attn = self.attend(dots)\n",
        "        out = torch.matmul(attn, v)\n",
        "        out = rearrange(out, 'b h n d -> b n (h d)')\n",
        "        out = self.to_out(out)\n",
        "        return out\n",
        "\n",
        "\n",
        "class Transformer(nn.Module):\n",
        "    def __init__(self, inp, oup, image_size, heads=8, dim_head=32, downsample=False, dropout=0.):\n",
        "        super().__init__()\n",
        "        hidden_dim = int(inp * 4)\n",
        "\n",
        "        self.ih, self.iw = image_size\n",
        "        self.downsample = downsample\n",
        "\n",
        "        if self.downsample:\n",
        "            self.pool1 = nn.MaxPool2d(3, 2, 1)\n",
        "            self.pool2 = nn.MaxPool2d(3, 2, 1)\n",
        "            self.proj = nn.Conv2d(inp, oup, 1, 1, 0, bias=False)\n",
        "\n",
        "        self.attn = Attention(inp, oup, image_size, heads, dim_head, dropout)\n",
        "        self.ff = FeedForward(oup, hidden_dim, dropout)\n",
        "\n",
        "        self.attn = nn.Sequential(\n",
        "            Rearrange('b c ih iw -> b (ih iw) c'),\n",
        "            PreNorm(inp, self.attn, nn.LayerNorm),\n",
        "            Rearrange('b (ih iw) c -> b c ih iw', ih=self.ih, iw=self.iw)\n",
        "        )\n",
        "\n",
        "        self.ff = nn.Sequential(\n",
        "            Rearrange('b c ih iw -> b (ih iw) c'),\n",
        "            PreNorm(oup, self.ff, nn.LayerNorm),\n",
        "            Rearrange('b (ih iw) c -> b c ih iw', ih=self.ih, iw=self.iw)\n",
        "        )\n",
        "\n",
        "    def forward(self, x):\n",
        "        if self.downsample:\n",
        "            x = self.proj(self.pool1(x)) + self.attn(self.pool2(x))\n",
        "        else:\n",
        "            x = x + self.attn(x)\n",
        "        x = x + self.ff(x)\n",
        "        return x\n",
        "\n",
        "\n",
        "class CoAtNet(nn.Module):\n",
        "    def __init__(self, image_size, in_channels, num_blocks, channels, num_classes=1000, block_types=['C', 'C', 'T', 'T']):\n",
        "        super().__init__()\n",
        "        ih, iw = image_size\n",
        "        block = {'C': MBConv, 'T': Transformer}\n",
        "\n",
        "        self.s0 = self._make_layer(\n",
        "            conv_3x3_bn, in_channels, channels[0], num_blocks[0], (ih // 2, iw // 2))\n",
        "        self.s1 = self._make_layer(\n",
        "            block[block_types[0]], channels[0], channels[1], num_blocks[1], (ih // 4, iw // 4))\n",
        "        self.s2 = self._make_layer(\n",
        "            block[block_types[1]], channels[1], channels[2], num_blocks[2], (ih // 8, iw // 8))\n",
        "        self.s3 = self._make_layer(\n",
        "            block[block_types[2]], channels[2], channels[3], num_blocks[3], (ih // 16, iw // 16))\n",
        "        self.s4 = self._make_layer(\n",
        "            block[block_types[3]], channels[3], channels[4], num_blocks[4], (ih // 32, iw // 32))\n",
        "\n",
        "        self.pool = nn.AvgPool2d(ih // 32, 1)\n",
        "        self.fc = nn.Linear(channels[-1], num_classes, bias=False)\n",
        "\n",
        "    def forward(self, x):\n",
        "        x = self.s0(x)\n",
        "        x = self.s1(x)\n",
        "        x = self.s2(x)\n",
        "        x = self.s3(x)\n",
        "        x = self.s4(x)\n",
        "\n",
        "        x = self.pool(x).view(-1, x.shape[1])\n",
        "        x = self.fc(x)\n",
        "        return x\n",
        "\n",
        "    def _make_layer(self, block, inp, oup, depth, image_size):\n",
        "        layers = nn.ModuleList([])\n",
        "        for i in range(depth):\n",
        "            if i == 0:\n",
        "                layers.append(block(inp, oup, image_size, downsample=True))\n",
        "            else:\n",
        "                layers.append(block(oup, oup, image_size))\n",
        "        return nn.Sequential(*layers)\n",
        "\n",
        "\n",
        "def coatnet_0():\n",
        "    num_blocks = [2, 2, 3, 5, 2]            # L\n",
        "    channels = [64, 96, 192, 384, 768]      # D\n",
        "    return CoAtNet((224, 224), 3, num_blocks, channels, num_classes=3)\n",
        "\n",
        "\n",
        "def coatnet_1():\n",
        "    num_blocks = [2, 2, 6, 14, 2]           # L\n",
        "    channels = [64, 96, 192, 384, 768]      # D\n",
        "    return CoAtNet((224, 224), 3, num_blocks, channels, num_classes=1000)\n",
        "\n",
        "\n",
        "def coatnet_2():\n",
        "    num_blocks = [2, 2, 6, 14, 2]           # L\n",
        "    channels = [128, 128, 256, 512, 1026]   # D\n",
        "    return CoAtNet((224, 224), 3, num_blocks, channels, num_classes=1000)\n",
        "\n",
        "\n",
        "def coatnet_3():\n",
        "    num_blocks = [2, 2, 6, 14, 2]           # L\n",
        "    channels = [192, 192, 384, 768, 1536]   # D\n",
        "    return CoAtNet((224, 224), 3, num_blocks, channels, num_classes=1000)\n",
        "\n",
        "\n",
        "def coatnet_4():\n",
        "    num_blocks = [2, 2, 12, 28, 2]          # L\n",
        "    channels = [192, 192, 384, 768, 1536]   # D\n",
        "    return CoAtNet((224, 224), 3, num_blocks, channels, num_classes=1000)\n",
        "\n",
        "\n",
        "def count_parameters(model):\n",
        "    return sum(p.numel() for p in model.parameters() if p.requires_grad)\n",
        "\n",
        "\n",
        "if __name__ == '__main__':\n",
        "    img = torch.randn(1, 3, 224, 224)\n",
        "\n",
        "    net = coatnet_0()\n",
        "    out = net(img)\n",
        "    print(out.shape, count_parameters(net))\n",
        "\n",
        "    net = coatnet_1()\n",
        "    out = net(img)\n",
        "    print(out.shape, count_parameters(net))\n",
        "\n",
        "    net = coatnet_2()\n",
        "    out = net(img)\n",
        "    print(out.shape, count_parameters(net))\n",
        "\n",
        "    net = coatnet_3()\n",
        "    out = net(img)\n",
        "    print(out.shape, count_parameters(net))\n",
        "\n",
        "    net = coatnet_4()\n",
        "    out = net(img)\n",
        "    print(out.shape, count_parameters(net))\n"
      ]
    },
    {
      "cell_type": "code",
      "execution_count": 26,
      "metadata": {
        "colab": {
          "base_uri": "https://localhost:8080/"
        },
        "id": "AuPhauSCEn7z",
        "outputId": "562b1a5d-98f6-44d0-8f03-f6c1018e329a"
      },
      "outputs": [
        {
          "output_type": "stream",
          "name": "stdout",
          "text": [
            "Using device: cpu\n"
          ]
        }
      ],
      "source": [
        "device = torch.device('cuda' if torch.cuda.is_available() else 'cpu')\n",
        "print('Using device: %s'%device)\n",
        "\n",
        "\n",
        "input_size = 3\n",
        "num_classes = 25\n",
        "num_epochs = 20\n",
        "batch_size = 32\n",
        "learning_rate = 2e-3\n",
        "learning_rate_decay = 0.95\n",
        "reg=0.001\n",
        "num_training= 8404\n",
        "num_validation =924\n",
        "\n",
        "\n",
        "# Train the model\n",
        "lr = learning_rate\n",
        "total_step = len(train_loader)\n",
        "loss_train = []\n",
        "loss_val = []\n",
        "accuracy_val = []\n",
        "train_acc_curve=[]\n",
        "\n",
        "\n",
        "num_blocks = [2, 2, 6, 8, 2]\n",
        "channels = [16, 32, 64, 128, 256]\n",
        "block_types = ['C', 'C', 'T', 'T']\n",
        "\n",
        "model_ = CoAtNet((64,64),3,num_blocks=num_blocks, channels=channels, block_types=block_types, num_classes=25).to(device)\n",
        "\n",
        "optimizer = torch.optim.Adam(model_.parameters(), lr=learning_rate, weight_decay=reg)\n",
        "criterion = nn.CrossEntropyLoss()\n"
      ]
    },
    {
      "cell_type": "code",
      "execution_count": 27,
      "metadata": {
        "colab": {
          "base_uri": "https://localhost:8080/",
          "height": 1000
        },
        "id": "s-vpkoXr40c5",
        "outputId": "d61213d8-0549-4d3c-dd74-e2620c450a89"
      },
      "outputs": [
        {
          "output_type": "stream",
          "name": "stdout",
          "text": [
            "Epoch [1/20], Step [100/263], Loss: 1.3538\n",
            "Epoch [1/20], Step [200/263], Loss: 1.5738\n",
            "Training accuracy is: 57.50832936696811 %\n",
            "Validation accuracy is: 5.627705627705628 %\n",
            "Epoch [2/20], Step [100/263], Loss: 1.0642\n",
            "Epoch [2/20], Step [200/263], Loss: 0.7501\n",
            "Training accuracy is: 71.97762970014278 %\n",
            "Validation accuracy is: 59.63203463203463 %\n",
            "Epoch [3/20], Step [100/263], Loss: 0.9563\n",
            "Epoch [3/20], Step [200/263], Loss: 0.7825\n",
            "Training accuracy is: 75.27367920038077 %\n",
            "Validation accuracy is: 55.41125541125541 %\n",
            "Epoch [4/20], Step [100/263], Loss: 1.3162\n",
            "Epoch [4/20], Step [200/263], Loss: 0.8784\n",
            "Training accuracy is: 78.40314136125654 %\n",
            "Validation accuracy is: 55.84415584415584 %\n",
            "Epoch [5/20], Step [100/263], Loss: 0.6389\n",
            "Epoch [5/20], Step [200/263], Loss: 0.6947\n",
            "Training accuracy is: 80.8781532603522 %\n",
            "Validation accuracy is: 72.61904761904762 %\n",
            "Epoch [6/20], Step [100/263], Loss: 0.5152\n",
            "Epoch [6/20], Step [200/263], Loss: 0.3252\n",
            "Training accuracy is: 83.17467872441695 %\n",
            "Validation accuracy is: 59.1991341991342 %\n",
            "Epoch [7/20], Step [100/263], Loss: 0.5652\n",
            "Epoch [7/20], Step [200/263], Loss: 0.3395\n",
            "Training accuracy is: 83.54355069014755 %\n",
            "Validation accuracy is: 56.6017316017316 %\n",
            "Epoch [8/20], Step [100/263], Loss: 0.5007\n",
            "Epoch [8/20], Step [200/263], Loss: 0.2933\n",
            "Training accuracy is: 84.2574964302713 %\n",
            "Validation accuracy is: 78.46320346320347 %\n",
            "Epoch [9/20], Step [100/263], Loss: 0.2829\n",
            "Epoch [9/20], Step [200/263], Loss: 0.2224\n",
            "Training accuracy is: 86.18514992860543 %\n",
            "Validation accuracy is: 75.97402597402598 %\n",
            "Epoch [10/20], Step [100/263], Loss: 0.4208\n",
            "Epoch [10/20], Step [200/263], Loss: 0.2597\n",
            "Training accuracy is: 86.56592099000476 %\n",
            "Validation accuracy is: 67.74891774891775 %\n",
            "Epoch [11/20], Step [100/263], Loss: 0.7928\n",
            "Epoch [11/20], Step [200/263], Loss: 0.3587\n",
            "Training accuracy is: 86.44693003331747 %\n",
            "Validation accuracy is: 75.32467532467533 %\n",
            "Epoch [12/20], Step [100/263], Loss: 0.2774\n",
            "Epoch [12/20], Step [200/263], Loss: 0.2995\n",
            "Training accuracy is: 87.8510233222275 %\n",
            "Validation accuracy is: 63.2034632034632 %\n",
            "Epoch [13/20], Step [100/263], Loss: 0.5624\n",
            "Epoch [13/20], Step [200/263], Loss: 0.3813\n",
            "Training accuracy is: 88.19609709662066 %\n",
            "Validation accuracy is: 60.60606060606061 %\n",
            "Epoch [14/20], Step [100/263], Loss: 0.2733\n",
            "Epoch [14/20], Step [200/263], Loss: 0.1766\n",
            "Training accuracy is: 88.29128986197048 %\n",
            "Validation accuracy is: 80.41125541125541 %\n",
            "Epoch [15/20], Step [100/263], Loss: 0.3582\n",
            "Epoch [15/20], Step [200/263], Loss: 0.5472\n",
            "Training accuracy is: 89.06473108043788 %\n",
            "Validation accuracy is: 80.3030303030303 %\n",
            "Epoch [16/20], Step [100/263], Loss: 0.1482\n",
            "Epoch [16/20], Step [200/263], Loss: 0.3980\n",
            "Training accuracy is: 88.57686815801999 %\n",
            "Validation accuracy is: 80.08658008658008 %\n",
            "Epoch [17/20], Step [100/263], Loss: 0.2901\n",
            "Epoch [17/20], Step [200/263], Loss: 0.5904\n",
            "Training accuracy is: 89.33841028081866 %\n",
            "Validation accuracy is: 81.38528138528139 %\n",
            "Epoch [18/20], Step [100/263], Loss: 0.3474\n",
            "Epoch [18/20], Step [200/263], Loss: 0.4342\n",
            "Training accuracy is: 89.52879581151832 %\n",
            "Validation accuracy is: 83.22510822510823 %\n",
            "Epoch [19/20], Step [100/263], Loss: 0.3432\n",
            "Epoch [19/20], Step [200/263], Loss: 0.2376\n",
            "Training accuracy is: 89.75487862922418 %\n",
            "Validation accuracy is: 85.06493506493507 %\n",
            "Epoch [20/20], Step [100/263], Loss: 0.1944\n",
            "Epoch [20/20], Step [200/263], Loss: 0.2090\n",
            "Training accuracy is: 90.37363160399809 %\n",
            "Validation accuracy is: 85.93073593073593 %\n"
          ]
        },
        {
          "output_type": "display_data",
          "data": {
            "image/png": "[encoded data removed]",
            "text/plain": [
              "<Figure size 432x288 with 1 Axes>"
            ]
          },
          "metadata": {
            "needs_background": "light"
          }
        },
        {
          "output_type": "display_data",
          "data": {
            "image/png": "[encoded data removed]",
            "text/plain": [
              "<Figure size 432x288 with 1 Axes>"
            ]
          },
          "metadata": {
            "needs_background": "light"
          }
        }
      ],
      "source": [
        "\n",
        "for epoch in range(num_epochs):\n",
        "    correct = 0\n",
        "    total = 0\n",
        "\n",
        "    model_.train()\n",
        "\n",
        "    loss_iter = 0\n",
        "    for i, (images, labels) in enumerate(train_loader):\n",
        "        # Move tensors to the configured device\n",
        "        images = images.to(device)\n",
        "        labels = labels.to(device)\n",
        "\n",
        "        # Forward pass\n",
        "        outputs = model_(images)\n",
        "        loss = criterion(outputs, labels)\n",
        "\n",
        "        # Backward and optimize\n",
        "        optimizer.zero_grad()\n",
        "        loss.backward()\n",
        "        optimizer.step()\n",
        "\n",
        "        ###\n",
        "        \n",
        "        _, predicted = torch.max(outputs.data, 1)\n",
        "        total += labels.size(0)\n",
        "        correct += (predicted == labels).sum().item()\n",
        "\n",
        "        ###\n",
        "\n",
        "        loss_iter += loss.item()\n",
        "        \n",
        "        if (i+1) % 100 == 0:\n",
        "            print ('Epoch [{}/{}], Step [{}/{}], Loss: {:.4f}'\n",
        "                   .format(epoch+1, num_epochs, i+1, total_step, loss.item()))\n",
        "            \n",
        "    loss_train.append(loss_iter/(len(train_loader)*batch_size))\n",
        "    \n",
        "    ###\n",
        "    _train_acc = 100 * correct / total\n",
        "    train_acc_curve.append(_train_acc)\n",
        "    print('Training accuracy is: {} %'.format(_train_acc))\n",
        "    ###\n",
        "\n",
        "\n",
        "    \n",
        "    # Code to update the lr\n",
        "    lr *= learning_rate_decay\n",
        "    update_lr(optimizer, lr)\n",
        "    \n",
        "    \n",
        "    \n",
        "     \n",
        "    model_.eval()\n",
        "    with torch.no_grad():\n",
        "        correct = 0\n",
        "        total = 0\n",
        "        loss_iter = 0\n",
        "        for images, labels in val_loader:\n",
        "            images = images.to(device)\n",
        "            labels = labels.to(device)\n",
        "            \n",
        "            outputs = model_(images)\n",
        "            _, predicted = torch.max(outputs.data, 1)\n",
        "            \n",
        "            total += labels.size(0)\n",
        "            correct += (predicted == labels).sum().item()\n",
        "            \n",
        "            loss = criterion(outputs, labels)\n",
        "            loss_iter += loss.item()\n",
        "        \n",
        "        loss_val.append(loss_iter/(len(val_loader)*batch_size))\n",
        "\n",
        "        accuracy = 100 * correct / total\n",
        "        accuracy_val.append(accuracy)\n",
        "        print('Validation accuracy is: {} %'.format(accuracy))\n",
        "        \n",
        "\n",
        "\n",
        "    \n",
        "\n",
        "\n",
        "model_.eval()\n",
        "\n",
        "\n",
        "\n",
        "plt.figure(2)\n",
        "plt.plot(loss_train, 'r', label='Train loss')\n",
        "plt.plot(loss_val, 'g', label='Validation loss')\n",
        "plt.legend()\n",
        "plt.grid(True)\n",
        "plt.show()\n",
        "\n",
        "\n",
        "plt.figure(3)\n",
        "plt.plot(accuracy_val, 'g', label='Validation accuracy')\n",
        "plt.plot(train_acc_curve, 'r', label='Train accuracy')\n",
        "plt.xlabel(\"Number of Epochs\")\n",
        "plt.ylabel(\"Accuracy\")\n",
        "plt.legend()\n",
        "plt.grid(True)\n",
        "plt.show()\n",
        "\n"
      ]
    },
    {
      "cell_type": "code",
      "execution_count": null,
      "metadata": {
        "id": "RQplz3rFBjO6"
      },
      "outputs": [],
      "source": [
        ""
      ]
    },
    {
      "cell_type": "code",
      "execution_count": null,
      "metadata": {
        "id": "KQCAk2PUn6wO"
      },
      "outputs": [],
      "source": [
        ""
      ]
    },
    {
      "cell_type": "code",
      "execution_count": null,
      "metadata": {
        "id": "vsPcTT04oM1T"
      },
      "outputs": [],
      "source": [
        ""
      ]
    },
    {
      "cell_type": "code",
      "execution_count": null,
      "metadata": {
        "id": "IbI3Ni8xkLCk"
      },
      "outputs": [],
      "source": [
        ""
      ]
    }
  ],
  "metadata": {
    "colab": {
      "collapsed_sections": [],
      "name": "Copia di aml_proj_ver2.ipynb",
      "provenance": [],
      "machine_shape": "hm",
      "include_colab_link": true
    },
    "kernelspec": {
      "display_name": "Python 3",
      "name": "python3"
    },
    "language_info": {
      "name": "python"
    },
    "accelerator": "TPU"
  },
  "nbformat": 4,
  "nbformat_minor": 0
}