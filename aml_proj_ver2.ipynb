{
  "cells": [
    {
      "cell_type": "markdown",
      "metadata": {
        "id": "view-in-github",
        "colab_type": "text"
      },
      "source": [
        "<a href=\"https://colab.research.google.com/github/robertobruzzese/article-lab/blob/main/aml_proj_ver2.ipynb\" target=\"_parent\"><img src=\"https://colab.research.google.com/assets/colab-badge.svg\" alt=\"Open In Colab\"/></a>"
      ]
    },
    {
      "cell_type": "code",
      "execution_count": null,
      "metadata": {
        "colab": {
          "base_uri": "https://localhost:8080/"
        },
        "id": "vENdLFtJJsta",
        "outputId": "fa77ba98-6ade-44c9-d359-24866fc75325"
      },
      "outputs": [
        {
          "name": "stdout",
          "output_type": "stream",
          "text": [
            "Mounted at /content/drive\n"
          ]
        }
      ],
      "source": [
        "from google.colab import drive\n",
        "drive._mount('/content/drive')\n"
      ]
    },
    {
      "cell_type": "code",
      "execution_count": null,
      "metadata": {
        "colab": {
          "base_uri": "https://localhost:8080/"
        },
        "id": "dVMO4hhOLsg4",
        "outputId": "8120825e-d4e1-4223-f9fa-896b3af3430d"
      },
      "outputs": [
        {
          "name": "stdout",
          "output_type": "stream",
          "text": [
            "/content/drive/.shortcut-targets-by-id/1PHQ0lh7VNfUJjD9R69bWwquzSpqaGt3s/AML_DATA\n"
          ]
        }
      ],
      "source": [
        "cd '/content/drive/MyDrive/AML_DATA/'"
      ]
    },
    {
      "cell_type": "code",
      "execution_count": null,
      "metadata": {
        "colab": {
          "base_uri": "https://localhost:8080/"
        },
        "id": "dG0U6akeMa2E",
        "outputId": "da8fd2ff-5189-4dd5-d6a9-ab2a6908dffb"
      },
      "outputs": [
        {
          "name": "stdout",
          "output_type": "stream",
          "text": [
            "AML_PROJ_VER1.ipynb  datasets\t\t     validation_ds_update_924\n",
            "aml_proj_ver2.ipynb  kaggle.json\n",
            "dataset_9010\t     malimg-dataset9010.zip\n"
          ]
        }
      ],
      "source": [
        "! ls"
      ]
    },
    {
      "cell_type": "code",
      "execution_count": null,
      "metadata": {
        "id": "0xh0lwvlMf9e"
      },
      "outputs": [],
      "source": [
        "import matplotlib.pyplot as plt\n",
        "import numpy as np \n",
        "import os\n",
        "\n",
        "\n",
        "import torch # PyTorch package\n",
        "import torchvision # load datasets\n",
        "from torch.utils.data import DataLoader\n",
        "from torchvision.utils import make_grid\n",
        "\n",
        "\n",
        "from torch.nn import Linear, ReLU, CrossEntropyLoss, Sequential, Conv2d, MaxPool2d, Module, Softmax, Dropout\n",
        "\n",
        "import torchvision.transforms as transforms #  agument data\n",
        "import torch.nn as nn #  building  neural neteorks\n",
        "import torch.nn.functional as F #  convolution functions like Relu\n",
        "import torch.optim as optim # optimzer \n",
        "from torchsummary import summary\n"
      ]
    },
    {
      "cell_type": "markdown",
      "metadata": {
        "id": "rIZ3jsQytDW-"
      },
      "source": [
        "## 1. Read the DS "
      ]
    },
    {
      "cell_type": "code",
      "execution_count": null,
      "metadata": {
        "id": "gDICX6kAMzWS"
      },
      "outputs": [],
      "source": [
        "train_root='./dataset_9010/dataset_9010/malimg_dataset/train'\n",
        "val_root='./validation_ds_update_924/validation_ds_update_924/malimg_dataset/validation'"
      ]
    },
    {
      "cell_type": "code",
      "execution_count": null,
      "metadata": {
        "id": "zasdoSG-wncw"
      },
      "outputs": [],
      "source": [
        "data_aug_transforms = [\n",
        "     transforms.RandomHorizontalFlip(), \n",
        "     transforms.RandomVerticalFlip(p=0.5),\n",
        "     transforms.RandomAffine(degrees=75),\n",
        "     transforms.RandomAffine(degrees=0,translate=(0.5,0.5)),\n",
        "     transforms.RandomAffine(degrees=0,scale=(0.7,0.7))\n",
        " ]"
      ]
    },
    {
      "cell_type": "code",
      "execution_count": null,
      "metadata": {
        "colab": {
          "base_uri": "https://localhost:8080/"
        },
        "id": "3zxLnIduMzY5",
        "outputId": "515beca7-e15d-4879-d7a0-67f00fc2606d"
      },
      "outputs": [
        {
          "name": "stdout",
          "output_type": "stream",
          "text": [
            "Number of original examples: 8404\n",
            "Number of Validation examples: 924\n",
            "Number of classes in training set : \n",
            " 25\n",
            "The follwing classes are in training set : \n",
            " ['Adialer.C', 'Agent.FYI', 'Allaple.A', 'Allaple.L', 'Alueron.gen!J', 'Autorun.K', 'C2LOP.P', 'C2LOP.gen!g', 'Dialplatform.B', 'Dontovo.A', 'Fakerean', 'Instantaccess', 'Lolyda.AA1', 'Lolyda.AA2', 'Lolyda.AA3', 'Lolyda.AT', 'Malex.gen!J', 'Obfuscator.AD', 'Rbot!gen', 'Skintrim.N', 'Swizzor.gen!E', 'Swizzor.gen!I', 'VB.AT', 'Wintrim.BX', 'Yuner.A']\n"
          ]
        }
      ],
      "source": [
        "img_size=(64, 64)\n",
        "\n",
        "data_transform=transforms.Compose(\n",
        "     data_aug_transforms+\n",
        "   [ transforms.Resize(img_size),\n",
        "    transforms.ToTensor(),\n",
        "    transforms.Normalize(mean=[0.485, 0.456, 0.406],\n",
        "                    std=[0.229, 0.224, 0.225])\n",
        "   ])\n",
        "# mean and std are calculated from the ImageNet images\n",
        "\n",
        "\n",
        "\n",
        "orig_set = torchvision.datasets.ImageFolder(root=train_root , transform=data_transform )\n",
        "val_= torchvision.datasets.ImageFolder(root=val_root )\n",
        "\n",
        "\n",
        "n = len(orig_set)  # total number of examples\n",
        "\n",
        "\n",
        "print(f'Number of original examples: {len(orig_set)}')\n",
        "print(f'Number of Validation examples: {len(val_)}')\n",
        "\n",
        "print(\"Number of classes in training set : \\n\", len(orig_set.classes))\n",
        "print(\"The follwing classes are in training set : \\n\",orig_set.classes)\n",
        "\n"
      ]
    },
    {
      "cell_type": "code",
      "execution_count": null,
      "metadata": {
        "colab": {
          "base_uri": "https://localhost:8080/",
          "height": 302
        },
        "id": "3lZqrg9JM-Lx",
        "outputId": "4e7452ad-036d-469e-9b26-50348985c2c7"
      },
      "outputs": [
        {
          "name": "stderr",
          "output_type": "stream",
          "text": [
            "Clipping input data to the valid range for imshow with RGB data ([0..1] for floats or [0..255] for integers).\n"
          ]
        },
        {
          "name": "stdout",
          "output_type": "stream",
          "text": [
            "Label : Adialer.C\n"
          ]
        },
        {
          "data": {
            "image/png": "[encoded data removed]",
            "text/plain": [
              "<Figure size 432x288 with 1 Axes>"
            ]
          },
          "metadata": {},
          "output_type": "display_data"
        }
      ],
      "source": [
        "def display_img(img,label):\n",
        "    print(f\"Label : {orig_set.classes[label]}\")\n",
        "    plt.imshow(img.permute(1,2,0))\n",
        "\n",
        "#display an image from the dataset\n",
        "display_img(*orig_set[22])"
      ]
    },
    {
      "cell_type": "markdown",
      "metadata": {
        "id": "pvMjiUtkMEOa"
      },
      "source": [
        "# The first model is trained without data augmentation "
      ]
    },
    {
      "cell_type": "code",
      "execution_count": null,
      "metadata": {
        "colab": {
          "base_uri": "https://localhost:8080/"
        },
        "id": "cGCy5BUtMzbA",
        "outputId": "a677e1f8-0054-4a49-b9d3-1c53da317813"
      },
      "outputs": [
        {
          "name": "stdout",
          "output_type": "stream",
          "text": [
            "Number of training examples: 8404\n",
            "Number of Validation examples: 924\n"
          ]
        }
      ],
      "source": [
        "train_dataset = torchvision.datasets.ImageFolder(root=train_root , transform=data_transform )\n",
        "val_dataset = torchvision.datasets.ImageFolder(root=val_root , transform=data_transform)\n",
        "\n",
        "print(f'Number of training examples: {len(train_dataset)}')\n",
        "print(f'Number of Validation examples: {len(val_dataset)}')\n",
        "\n",
        "batch_size = 32\n",
        "train_loader=DataLoader(train_dataset,batch_size=batch_size , shuffle=True )\n",
        "val_loader=DataLoader(val_dataset,batch_size=batch_size ,shuffle=False)"
      ]
    },
    {
      "cell_type": "code",
      "execution_count": null,
      "metadata": {
        "colab": {
          "base_uri": "https://localhost:8080/",
          "height": 164
        },
        "id": "ZLp-8w5lM-OX",
        "outputId": "7726a967-c16c-4372-f073-4e89767f5b27"
      },
      "outputs": [
        {
          "name": "stderr",
          "output_type": "stream",
          "text": [
            "Clipping input data to the valid range for imshow with RGB data ([0..1] for floats or [0..255] for integers).\n"
          ]
        },
        {
          "data": {
            "image/png": "[encoded data removed]",
            "text/plain": [
              "<Figure size 1152x864 with 1 Axes>"
            ]
          },
          "metadata": {},
          "output_type": "display_data"
        }
      ],
      "source": [
        "def show_batch(train_loader):\n",
        "    for images, labels in train_loader:\n",
        "        fig,ax = plt.subplots(figsize = (16,12))\n",
        "        ax.set_xticks([])\n",
        "        ax.set_yticks([])\n",
        "        ax.imshow(make_grid(images,nrow=16).permute(1,2,0))\n",
        "        break\n",
        "        \n",
        "show_batch(train_loader)"
      ]
    },
    {
      "cell_type": "code",
      "execution_count": null,
      "metadata": {
        "id": "uAUYI9CChnly"
      },
      "outputs": [],
      "source": [
        "num_training= 8404\n",
        "num_validation =924"
      ]
    },
    {
      "cell_type": "code",
      "execution_count": null,
      "metadata": {
        "colab": {
          "base_uri": "https://localhost:8080/"
        },
        "id": "bA20rRLQMzdx",
        "outputId": "1dca6650-2ed0-4939-d23b-2071c351ed60"
      },
      "outputs": [
        {
          "name": "stdout",
          "output_type": "stream",
          "text": [
            "torch.Size([3, 64, 64]) 22\n"
          ]
        }
      ],
      "source": [
        "img, label = train_dataset[7403]\n",
        "print(img.shape,label)"
      ]
    },
    {
      "cell_type": "markdown",
      "metadata": {
        "id": "xejUr3ynQx67"
      },
      "source": [
        "# Visualise Data agumentation"
      ]
    },
    {
      "cell_type": "code",
      "execution_count": null,
      "metadata": {
        "colab": {
          "base_uri": "https://localhost:8080/",
          "height": 302
        },
        "id": "RmaPD2NV3g3f",
        "outputId": "117e6bbc-4a3d-4e06-90aa-b593b31569c0"
      },
      "outputs": [
        {
          "name": "stderr",
          "output_type": "stream",
          "text": [
            "Clipping input data to the valid range for imshow with RGB data ([0..1] for floats or [0..255] for integers).\n"
          ]
        },
        {
          "name": "stdout",
          "output_type": "stream",
          "text": [
            "Label : Adialer.C\n"
          ]
        },
        {
          "data": {
            "image/png": "[encoded data removed]",
            "text/plain": [
              "<Figure size 432x288 with 1 Axes>"
            ]
          },
          "metadata": {},
          "output_type": "display_data"
        }
      ],
      "source": [
        "# with data agumentation\n",
        "def display_img(img,label):\n",
        "    print(f\"Label : {orig_set.classes[label]}\")\n",
        "    plt.imshow(img.permute(1,2,0))\n",
        "\n",
        "#display an image from the dataset\n",
        "display_img(*orig_set[22])"
      ]
    },
    {
      "cell_type": "code",
      "execution_count": null,
      "metadata": {
        "colab": {
          "base_uri": "https://localhost:8080/",
          "height": 164
        },
        "id": "RLDvc4_r3oP8",
        "outputId": "6644a56e-b283-4062-99f6-19573703ba82"
      },
      "outputs": [
        {
          "name": "stderr",
          "output_type": "stream",
          "text": [
            "Clipping input data to the valid range for imshow with RGB data ([0..1] for floats or [0..255] for integers).\n"
          ]
        },
        {
          "data": {
            "image/png": "[encoded data removed]",
            "text/plain": [
              "<Figure size 1152x864 with 1 Axes>"
            ]
          },
          "metadata": {},
          "output_type": "display_data"
        }
      ],
      "source": [
        "# With data aug\n",
        "def show_batch(train_loader):\n",
        "    for images, labels in train_loader:\n",
        "        fig,ax = plt.subplots(figsize = (16,12))\n",
        "        ax.set_xticks([])\n",
        "        ax.set_yticks([])\n",
        "        ax.imshow(make_grid(images,nrow=16).permute(1,2,0))\n",
        "        break\n",
        "        \n",
        "show_batch(train_loader)"
      ]
    },
    {
      "cell_type": "code",
      "execution_count": null,
      "metadata": {
        "id": "Blg3bzW9Roq5"
      },
      "outputs": [],
      "source": [
        "def weights_init(m):\n",
        "    if type(m) == nn.Linear:\n",
        "        m.weight.data.normal_(0.0, 1e-3)\n",
        "        m.bias.data.fill_(0.)\n",
        "\n",
        "def update_lr(optimizer, lr):\n",
        "    for param_group in optimizer.param_groups:\n",
        "        param_group['lr'] = lr"
      ]
    },
    {
      "cell_type": "markdown",
      "metadata": {
        "id": "BbgnXscYKFkW"
      },
      "source": [
        "# Baseline CNN implementation "
      ]
    },
    {
      "cell_type": "code",
      "execution_count": null,
      "metadata": {
        "id": "a5ddwWyNnW4E"
      },
      "outputs": [],
      "source": [
        "# five convo layer , relu activation function \n",
        "class ConvNet(nn.Module):\n",
        "    def __init__(self, num_classes=25):\n",
        "        super(ConvNet, self).__init__()\n",
        "\n",
        "        self.features = torch.nn.Sequential(\n",
        "            \n",
        "            nn.Conv2d(3, 64, kernel_size=11, stride=2, padding=2),\n",
        "            nn.ReLU(),\n",
        "            nn.MaxPool2d(kernel_size=3, stride=2),\n",
        "\n",
        "            nn.Conv2d(64, 192, kernel_size=5, padding=1),\n",
        "            nn.ReLU(),\n",
        "            nn.MaxPool2d(kernel_size=3, stride=2),\n",
        "\n",
        "            nn.Conv2d(192, 384, kernel_size=3, padding=1),\n",
        "            nn.ReLU(),\n",
        "\n",
        "            nn.Conv2d(384, 256, kernel_size=3, padding=1),\n",
        "            nn.ReLU(),\n",
        "\n",
        "            nn.Conv2d(256, 256, kernel_size=3, padding=1),\n",
        "            nn.ReLU(),\n",
        "\n",
        "            nn.MaxPool2d(kernel_size=3, stride=2),\n",
        "        )\n",
        "        self.avgpool = nn.AdaptiveAvgPool2d((6, 6))\n",
        "\n",
        "        self.classifier = torch.nn.Sequential(\n",
        "            \n",
        "            nn.Dropout(),\n",
        "            nn.Linear(256 * 6 * 6, 4096), # outout if last conv layer*target output h*w\n",
        "            nn.ReLU(),\n",
        "            \n",
        "            nn.Dropout(),\n",
        "            nn.Linear(4096, 4096),\n",
        "            nn.ReLU(),\n",
        "            nn.Linear(4096, num_classes)\n",
        "        )\n",
        "    \n",
        "    def forward(self, x):\n",
        "        x = self.features(x)\n",
        "        x = self.avgpool(x)\n",
        "        x = torch.flatten(x, 1)\n",
        "        out = self.classifier(x)\n",
        "        return out\n",
        "    \n"
      ]
    },
    {
      "cell_type": "markdown",
      "metadata": {
        "id": "7ulWafKFRANk"
      },
      "source": [
        "# First model without Data augmentation"
      ]
    },
    {
      "cell_type": "code",
      "execution_count": null,
      "metadata": {
        "colab": {
          "background_save": true,
          "base_uri": "https://localhost:8080/"
        },
        "id": "OYk3TYlQM6Og",
        "outputId": "29499ddb-363c-4f03-a2b0-5d0826855637"
      },
      "outputs": [
        {
          "name": "stdout",
          "output_type": "stream",
          "text": [
            "Using device: cpu\n",
            "ConvNet(\n",
            "  (features): Sequential(\n",
            "    (0): Conv2d(3, 64, kernel_size=(11, 11), stride=(2, 2), padding=(2, 2))\n",
            "    (1): ReLU()\n",
            "    (2): MaxPool2d(kernel_size=3, stride=2, padding=0, dilation=1, ceil_mode=False)\n",
            "    (3): Conv2d(64, 192, kernel_size=(5, 5), stride=(1, 1), padding=(1, 1))\n",
            "    (4): ReLU()\n",
            "    (5): MaxPool2d(kernel_size=3, stride=2, padding=0, dilation=1, ceil_mode=False)\n",
            "    (6): Conv2d(192, 384, kernel_size=(3, 3), stride=(1, 1), padding=(1, 1))\n",
            "    (7): ReLU()\n",
            "    (8): Conv2d(384, 256, kernel_size=(3, 3), stride=(1, 1), padding=(1, 1))\n",
            "    (9): ReLU()\n",
            "    (10): Conv2d(256, 256, kernel_size=(3, 3), stride=(1, 1), padding=(1, 1))\n",
            "    (11): ReLU()\n",
            "    (12): MaxPool2d(kernel_size=3, stride=2, padding=0, dilation=1, ceil_mode=False)\n",
            "  )\n",
            "  (avgpool): AdaptiveAvgPool2d(output_size=(6, 6))\n",
            "  (classifier): Sequential(\n",
            "    (0): Dropout(p=0.5, inplace=False)\n",
            "    (1): Linear(in_features=9216, out_features=4096, bias=True)\n",
            "    (2): ReLU()\n",
            "    (3): Dropout(p=0.5, inplace=False)\n",
            "    (4): Linear(in_features=4096, out_features=4096, bias=True)\n",
            "    (5): ReLU()\n",
            "    (6): Linear(in_features=4096, out_features=25, bias=True)\n",
            "  )\n",
            ")\n",
            "Epoch [1/20], Step [100/263], Loss: 2.1754\n",
            "Epoch [1/20], Step [200/263], Loss: 2.0643\n",
            "Training accuracy is: 37.244169443122324 %\n",
            "Validation accuracy is: 19.155844155844157 %\n",
            "Epoch [2/20], Step [100/263], Loss: 1.1369\n",
            "Epoch [2/20], Step [200/263], Loss: 1.5286\n",
            "Training accuracy is: 46.7396477867682 %\n",
            "Validation accuracy is: 20.88744588744589 %\n",
            "Epoch [3/20], Step [100/263], Loss: 1.9730\n",
            "Epoch [3/20], Step [200/263], Loss: 1.6541\n",
            "Training accuracy is: 48.726796763445975 %\n",
            "Validation accuracy is: 22.51082251082251 %\n",
            "Epoch [4/20], Step [100/263], Loss: 1.8470\n",
            "Epoch [4/20], Step [200/263], Loss: 1.7203\n",
            "Training accuracy is: 52.284626368396005 %\n",
            "Validation accuracy is: 25.216450216450216 %\n",
            "Epoch [5/20], Step [100/263], Loss: 2.1790\n",
            "Epoch [5/20], Step [200/263], Loss: 1.9104\n",
            "Training accuracy is: 54.43836268443598 %\n",
            "Validation accuracy is: 23.051948051948052 %\n",
            "Epoch [6/20], Step [100/263], Loss: 1.6431\n",
            "Epoch [6/20], Step [200/263], Loss: 1.7736\n",
            "Training accuracy is: 55.544978581627795 %\n",
            "Validation accuracy is: 26.2987012987013 %\n",
            "Epoch [7/20], Step [100/263], Loss: 1.4986\n",
            "Epoch [7/20], Step [200/263], Loss: 1.5451\n",
            "Training accuracy is: 56.9728700618753 %\n",
            "Validation accuracy is: 26.19047619047619 %\n",
            "Epoch [8/20], Step [100/263], Loss: 1.0509\n",
            "Epoch [8/20], Step [200/263], Loss: 1.4355\n",
            "Training accuracy is: 58.23417420276059 %\n",
            "Validation accuracy is: 27.705627705627705 %\n",
            "Epoch [9/20], Step [100/263], Loss: 1.4303\n",
            "Epoch [9/20], Step [200/263], Loss: 1.6109\n",
            "Training accuracy is: 59.01951451689671 %\n",
            "Validation accuracy is: 31.926406926406926 %\n",
            "Epoch [10/20], Step [100/263], Loss: 1.5067\n",
            "Epoch [10/20], Step [200/263], Loss: 1.6030\n",
            "Training accuracy is: 59.9119466920514 %\n",
            "Validation accuracy is: 32.35930735930736 %\n",
            "Epoch [11/20], Step [100/263], Loss: 1.5749\n",
            "Epoch [11/20], Step [200/263], Loss: 0.9954\n",
            "Training accuracy is: 61.43503093764874 %\n",
            "Validation accuracy is: 35.93073593073593 %\n",
            "Epoch [12/20], Step [100/263], Loss: 1.6093\n",
            "Epoch [12/20], Step [200/263], Loss: 1.3608\n",
            "Training accuracy is: 63.16039980961447 %\n",
            "Validation accuracy is: 36.904761904761905 %\n",
            "Epoch [13/20], Step [100/263], Loss: 1.4372\n",
            "Epoch [13/20], Step [200/263], Loss: 1.1598\n",
            "Training accuracy is: 64.32651118514993 %\n",
            "Validation accuracy is: 35.93073593073593 %\n",
            "Epoch [14/20], Step [100/263], Loss: 1.2143\n",
            "Epoch [14/20], Step [200/263], Loss: 1.1981\n",
            "Training accuracy is: 66.12327463112804 %\n",
            "Validation accuracy is: 45.23809523809524 %\n",
            "Epoch [15/20], Step [100/263], Loss: 1.4799\n",
            "Epoch [15/20], Step [200/263], Loss: 0.9511\n",
            "Training accuracy is: 67.55116611137554 %\n",
            "Validation accuracy is: 51.731601731601735 %\n",
            "Epoch [16/20], Step [100/263], Loss: 1.1664\n",
            "Epoch [16/20], Step [200/263], Loss: 0.9398\n",
            "Training accuracy is: 70.60923369823894 %\n",
            "Validation accuracy is: 53.67965367965368 %\n"
          ]
        }
      ],
      "source": [
        "device = torch.device('cuda' if torch.cuda.is_available() else 'cpu')\n",
        "print('Using device: %s'%device)\n",
        "\n",
        "input_size = 3\n",
        "num_classes = 25\n",
        "num_epochs = 20\n",
        "batch_size = 32\n",
        "learning_rate = 2e-3\n",
        "learning_rate_decay = 0.95\n",
        "reg=0.001\n",
        "num_training= 8404\n",
        "num_validation =924\n",
        "\n",
        "\n",
        "model = ConvNet().to(device)\n",
        "model.apply(weights_init)\n",
        "print(model)\n",
        "\n",
        "\n",
        "# Loss and optimizer\n",
        "criterion = nn.CrossEntropyLoss()\n",
        "optimizer = torch.optim.Adam(model.parameters(), lr=learning_rate, weight_decay=reg)\n",
        "\n",
        "# Train the model\n",
        "lr = learning_rate\n",
        "total_step = len(train_loader)\n",
        "loss_train = []\n",
        "loss_val = []\n",
        "accuracy_val = []\n",
        "train_acc_curve=[]\n",
        "\n",
        "for epoch in range(num_epochs):\n",
        "    correct = 0\n",
        "    total = 0\n",
        "\n",
        "    model.train()\n",
        "\n",
        "    loss_iter = 0\n",
        "    for i, (images, labels) in enumerate(train_loader):\n",
        "        # Move tensors to the configured device\n",
        "        images = images.to(device)\n",
        "        labels = labels.to(device)\n",
        "\n",
        "        # Forward pass\n",
        "        outputs = model(images)\n",
        "        loss = criterion(outputs, labels)\n",
        "\n",
        "        # Backward and optimize\n",
        "        optimizer.zero_grad()\n",
        "        loss.backward()\n",
        "        optimizer.step()\n",
        "\n",
        "        ###\n",
        "        \n",
        "        _, predicted = torch.max(outputs.data, 1)\n",
        "        total += labels.size(0)\n",
        "        correct += (predicted == labels).sum().item()\n",
        "\n",
        "        ###\n",
        "\n",
        "        loss_iter += loss.item()\n",
        "        \n",
        "        if (i+1) % 100 == 0:\n",
        "            print ('Epoch [{}/{}], Step [{}/{}], Loss: {:.4f}'\n",
        "                   .format(epoch+1, num_epochs, i+1, total_step, loss.item()))\n",
        "            \n",
        "    loss_train.append(loss_iter/(len(train_loader)*batch_size))\n",
        "    \n",
        "    ###\n",
        "    _train_acc = 100 * correct / total\n",
        "    train_acc_curve.append(_train_acc)\n",
        "    print('Training accuracy is: {} %'.format(_train_acc))\n",
        "    ###\n",
        "\n",
        "\n",
        "    \n",
        "    # Code to update the lr\n",
        "    lr *= learning_rate_decay\n",
        "    update_lr(optimizer, lr)\n",
        "    \n",
        "    \n",
        "    \n",
        "     \n",
        "    model.eval()\n",
        "    with torch.no_grad():\n",
        "        correct = 0\n",
        "        total = 0\n",
        "        loss_iter = 0\n",
        "        for images, labels in val_loader:\n",
        "            images = images.to(device)\n",
        "            labels = labels.to(device)\n",
        "            \n",
        "            outputs = model(images)\n",
        "            _, predicted = torch.max(outputs.data, 1)\n",
        "            \n",
        "            total += labels.size(0)\n",
        "            correct += (predicted == labels).sum().item()\n",
        "            \n",
        "            loss = criterion(outputs, labels)\n",
        "            loss_iter += loss.item()\n",
        "        \n",
        "        loss_val.append(loss_iter/(len(val_loader)*batch_size))\n",
        "\n",
        "        accuracy = 100 * correct / total\n",
        "        accuracy_val.append(accuracy)\n",
        "        print('Validation accuracy is: {} %'.format(accuracy))\n",
        "        \n",
        "\n",
        "\n",
        "    \n",
        "\n",
        "model.eval()\n",
        "\n",
        "\n",
        "\n",
        "plt.figure(2)\n",
        "plt.plot(loss_train, 'r', label='Train loss')\n",
        "plt.plot(loss_val, 'g', label='Validation loss')\n",
        "plt.legend()\n",
        "plt.grid(True)\n",
        "plt.show()\n",
        "\n",
        "\n",
        "plt.figure(3)\n",
        "plt.plot(accuracy_val, 'g', label='Validation accuracy')\n",
        "plt.plot(train_acc_curve, 'r', label='Train accuracy')\n",
        "plt.xlabel(\"Number of Epochs\")\n",
        "plt.ylabel(\"Accuracy\")\n",
        "plt.legend()\n",
        "plt.grid(True)\n",
        "plt.show()\n",
        "\n"
      ]
    },
    {
      "cell_type": "markdown",
      "metadata": {
        "id": "BuD4KeIURKSc"
      },
      "source": [
        "# Second training with Data augmentation"
      ]
    },
    {
      "cell_type": "code",
      "execution_count": null,
      "metadata": {
        "colab": {
          "base_uri": "https://localhost:8080/",
          "height": 1000
        },
        "id": "cpVH17BUnl5c",
        "outputId": "e66b1164-7c7f-4804-a92d-a4b33b3a73ec"
      },
      "outputs": [
        {
          "name": "stdout",
          "output_type": "stream",
          "text": [
            "Using device: cuda\n",
            "ConvNet(\n",
            "  (features): Sequential(\n",
            "    (0): Conv2d(3, 64, kernel_size=(11, 11), stride=(2, 2), padding=(2, 2))\n",
            "    (1): ReLU()\n",
            "    (2): MaxPool2d(kernel_size=3, stride=2, padding=0, dilation=1, ceil_mode=False)\n",
            "    (3): Conv2d(64, 192, kernel_size=(5, 5), stride=(1, 1), padding=(1, 1))\n",
            "    (4): ReLU()\n",
            "    (5): MaxPool2d(kernel_size=3, stride=2, padding=0, dilation=1, ceil_mode=False)\n",
            "    (6): Conv2d(192, 384, kernel_size=(3, 3), stride=(1, 1), padding=(1, 1))\n",
            "    (7): ReLU()\n",
            "    (8): Conv2d(384, 256, kernel_size=(3, 3), stride=(1, 1), padding=(1, 1))\n",
            "    (9): ReLU()\n",
            "    (10): Conv2d(256, 256, kernel_size=(3, 3), stride=(1, 1), padding=(1, 1))\n",
            "    (11): ReLU()\n",
            "    (12): MaxPool2d(kernel_size=3, stride=2, padding=0, dilation=1, ceil_mode=False)\n",
            "  )\n",
            "  (avgpool): AdaptiveAvgPool2d(output_size=(6, 6))\n",
            "  (classifier): Sequential(\n",
            "    (0): Dropout(p=0.5, inplace=False)\n",
            "    (1): Linear(in_features=9216, out_features=4096, bias=True)\n",
            "    (2): ReLU()\n",
            "    (3): Dropout(p=0.5, inplace=False)\n",
            "    (4): Linear(in_features=4096, out_features=4096, bias=True)\n",
            "    (5): ReLU()\n",
            "    (6): Linear(in_features=4096, out_features=25, bias=True)\n",
            "  )\n",
            ")\n",
            "Epoch [1/20], Step [100/263], Loss: 1.9121\n",
            "Epoch [1/20], Step [200/263], Loss: 2.0760\n",
            "Training accuracy is: 39.838172298905285 %\n",
            "Validation accuracy is: 22.186147186147185 %\n",
            "Epoch [2/20], Step [100/263], Loss: 2.1481\n",
            "Epoch [2/20], Step [200/263], Loss: 1.8281\n",
            "Training accuracy is: 47.596382674916704 %\n",
            "Validation accuracy is: 23.16017316017316 %\n",
            "Epoch [3/20], Step [100/263], Loss: 1.8409\n",
            "Epoch [3/20], Step [200/263], Loss: 1.5955\n",
            "Training accuracy is: 50.63065207044264 %\n",
            "Validation accuracy is: 25.757575757575758 %\n",
            "Epoch [4/20], Step [100/263], Loss: 1.6097\n",
            "Epoch [4/20], Step [200/263], Loss: 1.5759\n",
            "Training accuracy is: 54.60495002379819 %\n",
            "Validation accuracy is: 27.38095238095238 %\n",
            "Epoch [5/20], Step [100/263], Loss: 1.2634\n",
            "Epoch [5/20], Step [200/263], Loss: 1.5808\n",
            "Training accuracy is: 56.449309852451215 %\n",
            "Validation accuracy is: 29.87012987012987 %\n",
            "Epoch [6/20], Step [100/263], Loss: 1.3514\n",
            "Epoch [6/20], Step [200/263], Loss: 1.3080\n",
            "Training accuracy is: 57.627320323655404 %\n",
            "Validation accuracy is: 31.16883116883117 %\n",
            "Epoch [7/20], Step [100/263], Loss: 1.6109\n",
            "Epoch [7/20], Step [200/263], Loss: 1.7858\n",
            "Training accuracy is: 59.376487386958594 %\n",
            "Validation accuracy is: 29.11255411255411 %\n",
            "Epoch [8/20], Step [100/263], Loss: 1.1301\n",
            "Epoch [8/20], Step [200/263], Loss: 1.3498\n",
            "Training accuracy is: 59.8286530223703 %\n",
            "Validation accuracy is: 34.307359307359306 %\n",
            "Epoch [9/20], Step [100/263], Loss: 1.6383\n",
            "Epoch [9/20], Step [200/263], Loss: 1.2871\n",
            "Training accuracy is: 62.04188481675393 %\n",
            "Validation accuracy is: 42.96536796536797 %\n",
            "Epoch [10/20], Step [100/263], Loss: 1.3958\n",
            "Epoch [10/20], Step [200/263], Loss: 1.2756\n",
            "Training accuracy is: 64.43360304616849 %\n",
            "Validation accuracy is: 43.18181818181818 %\n",
            "Epoch [11/20], Step [100/263], Loss: 0.9106\n",
            "Epoch [11/20], Step [200/263], Loss: 0.8196\n",
            "Training accuracy is: 66.73012851023323 %\n",
            "Validation accuracy is: 44.696969696969695 %\n",
            "Epoch [12/20], Step [100/263], Loss: 1.2463\n",
            "Epoch [12/20], Step [200/263], Loss: 0.7870\n",
            "Training accuracy is: 67.9438362684436 %\n",
            "Validation accuracy is: 42.316017316017316 %\n",
            "Epoch [13/20], Step [100/263], Loss: 0.9836\n",
            "Epoch [13/20], Step [200/263], Loss: 0.9436\n",
            "Training accuracy is: 68.74107567824845 %\n",
            "Validation accuracy is: 45.995670995671 %\n",
            "Epoch [14/20], Step [100/263], Loss: 1.2948\n",
            "Epoch [14/20], Step [200/263], Loss: 1.1919\n",
            "Training accuracy is: 70.09757258448357 %\n",
            "Validation accuracy is: 50.108225108225106 %\n",
            "Epoch [15/20], Step [100/263], Loss: 1.0385\n",
            "Epoch [15/20], Step [200/263], Loss: 0.8711\n",
            "Training accuracy is: 71.04950023798192 %\n",
            "Validation accuracy is: 50.0 %\n",
            "Epoch [16/20], Step [100/263], Loss: 0.5177\n",
            "Epoch [16/20], Step [200/263], Loss: 0.8534\n",
            "Training accuracy is: 72.16801523084246 %\n",
            "Validation accuracy is: 58.76623376623377 %\n",
            "Epoch [17/20], Step [100/263], Loss: 1.0509\n",
            "Epoch [17/20], Step [200/263], Loss: 0.7022\n",
            "Training accuracy is: 73.60780580675869 %\n",
            "Validation accuracy is: 57.142857142857146 %\n",
            "Epoch [18/20], Step [100/263], Loss: 0.9882\n",
            "Epoch [18/20], Step [200/263], Loss: 0.7565\n",
            "Training accuracy is: 74.11946692051404 %\n",
            "Validation accuracy is: 54.54545454545455 %\n",
            "Epoch [19/20], Step [100/263], Loss: 0.6566\n",
            "Epoch [19/20], Step [200/263], Loss: 1.0908\n",
            "Training accuracy is: 74.6311280342694 %\n",
            "Validation accuracy is: 57.25108225108225 %\n",
            "Epoch [20/20], Step [100/263], Loss: 1.1237\n",
            "Epoch [20/20], Step [200/263], Loss: 0.5441\n",
            "Training accuracy is: 75.59495478343646 %\n",
            "Validation accuracy is: 60.17316017316017 %\n"
          ]
        },
        {
          "data": {
            "image/png": "[encoded data removed]",
            "text/plain": [
              "<Figure size 432x288 with 1 Axes>"
            ]
          },
          "metadata": {},
          "output_type": "display_data"
        },
        {
          "data": {
            "image/png": "[encoded data removed]",
            "text/plain": [
              "<Figure size 432x288 with 1 Axes>"
            ]
          },
          "metadata": {},
          "output_type": "display_data"
        }
      ],
      "source": [
        "device = torch.device('cuda' if torch.cuda.is_available() else 'cpu')\n",
        "print('Using device: %s'%device)\n",
        "\n",
        "input_size = 3\n",
        "num_classes = 25\n",
        "num_epochs = 20\n",
        "batch_size = 32\n",
        "learning_rate = 2e-3\n",
        "learning_rate_decay = 0.95\n",
        "reg=0.001\n",
        "num_training= 8404\n",
        "num_validation =924\n",
        "\n",
        "\n",
        "model = ConvNet().to(device)\n",
        "model.apply(weights_init)\n",
        "print(model)\n",
        "\n",
        "\n",
        "# Loss and optimizer\n",
        "criterion = nn.CrossEntropyLoss()\n",
        "optimizer = torch.optim.Adam(model.parameters(), lr=learning_rate, weight_decay=reg)\n",
        "\n",
        "# Train the model\n",
        "lr = learning_rate\n",
        "total_step = len(train_loader)\n",
        "loss_train = []\n",
        "loss_val = []\n",
        "accuracy_val = []\n",
        "train_acc_curve=[]\n",
        "\n",
        "for epoch in range(num_epochs):\n",
        "    correct = 0\n",
        "    total = 0\n",
        "\n",
        "    model.train()\n",
        "\n",
        "    loss_iter = 0\n",
        "    for i, (images, labels) in enumerate(train_loader):\n",
        "        # Move tensors to the configured device\n",
        "        images = images.to(device)\n",
        "        labels = labels.to(device)\n",
        "\n",
        "        # Forward pass\n",
        "        outputs = model(images)\n",
        "        loss = criterion(outputs, labels)\n",
        "\n",
        "        # Backward and optimize\n",
        "        optimizer.zero_grad()\n",
        "        loss.backward()\n",
        "        optimizer.step()\n",
        "\n",
        "        ###\n",
        "        \n",
        "        _, predicted = torch.max(outputs.data, 1)\n",
        "        total += labels.size(0)\n",
        "        correct += (predicted == labels).sum().item()\n",
        "\n",
        "        ###\n",
        "\n",
        "        loss_iter += loss.item()\n",
        "        \n",
        "        if (i+1) % 100 == 0:\n",
        "            print ('Epoch [{}/{}], Step [{}/{}], Loss: {:.4f}'\n",
        "                   .format(epoch+1, num_epochs, i+1, total_step, loss.item()))\n",
        "            \n",
        "    loss_train.append(loss_iter/(len(train_loader)*batch_size))\n",
        "    \n",
        "    ###\n",
        "    _train_acc = 100 * correct / total\n",
        "    train_acc_curve.append(_train_acc)\n",
        "    print('Training accuracy is: {} %'.format(_train_acc))\n",
        "    ###\n",
        "\n",
        "\n",
        "    \n",
        "    # Code to update the lr\n",
        "    lr *= learning_rate_decay\n",
        "    update_lr(optimizer, lr)\n",
        "    \n",
        "    \n",
        "    \n",
        "     \n",
        "    model.eval()\n",
        "    with torch.no_grad():\n",
        "        correct = 0\n",
        "        total = 0\n",
        "        loss_iter = 0\n",
        "        for images, labels in val_loader:\n",
        "            images = images.to(device)\n",
        "            labels = labels.to(device)\n",
        "            \n",
        "            outputs = model(images)\n",
        "            _, predicted = torch.max(outputs.data, 1)\n",
        "            \n",
        "            total += labels.size(0)\n",
        "            correct += (predicted == labels).sum().item()\n",
        "            \n",
        "            loss = criterion(outputs, labels)\n",
        "            loss_iter += loss.item()\n",
        "        \n",
        "        loss_val.append(loss_iter/(len(val_loader)*batch_size))\n",
        "\n",
        "        accuracy = 100 * correct / total\n",
        "        accuracy_val.append(accuracy)\n",
        "        print('Validation accuracy is: {} %'.format(accuracy))\n",
        "        \n",
        "\n",
        "\n",
        "    \n",
        "\n",
        "\n",
        "model.eval()\n",
        "\n",
        "\n",
        "\n",
        "plt.figure(2)\n",
        "plt.plot(loss_train, 'r', label='Train loss')\n",
        "plt.plot(loss_val, 'g', label='Validation loss')\n",
        "plt.legend()\n",
        "plt.grid(True)\n",
        "plt.show()\n",
        "\n",
        "\n",
        "## plot accuracy of dropout\n",
        "plt.figure(3)\n",
        "plt.plot(accuracy_val, 'g', label='Validation accuracy')\n",
        "plt.plot(train_acc_curve, 'r', label='Train accuracy')\n",
        "plt.xlabel(\"Number of Epochs\")\n",
        "plt.ylabel(\"Accuracy\")\n",
        "plt.legend()\n",
        "plt.grid(True)\n",
        "plt.show()\n",
        "\n"
      ]
    },
    {
      "cell_type": "markdown",
      "metadata": {
        "id": "7AOc1VPfWTCj"
      },
      "source": [
        "#  To be done :improve model generlization (solutions to over-fitting)\n",
        "1- lowering learniing rate.\n",
        "2- increase regularization term "
      ]
    },
    {
      "cell_type": "code",
      "execution_count": null,
      "metadata": {
        "colab": {
          "base_uri": "https://localhost:8080/"
        },
        "id": "VCgrxhfXYsib",
        "outputId": "7dc95ac9-488b-4e82-e20c-dab5d9571dab"
      },
      "outputs": [
        {
          "name": "stdout",
          "output_type": "stream",
          "text": [
            "1.10.0+cu111\n"
          ]
        }
      ],
      "source": [
        "print(torch.__version__)"
      ]
    },
    {
      "cell_type": "code",
      "execution_count": null,
      "metadata": {
        "colab": {
          "base_uri": "https://localhost:8080/"
        },
        "id": "El_fFB-gSYhH",
        "outputId": "7a737c04-de21-4b58-c643-4fd2a1dd6a60"
      },
      "outputs": [
        {
          "name": "stdout",
          "output_type": "stream",
          "text": [
            "Using device: cuda\n",
            "ConvNet(\n",
            "  (features): Sequential(\n",
            "    (0): Conv2d(3, 64, kernel_size=(11, 11), stride=(2, 2), padding=(2, 2))\n",
            "    (1): ReLU()\n",
            "    (2): MaxPool2d(kernel_size=3, stride=2, padding=0, dilation=1, ceil_mode=False)\n",
            "    (3): Conv2d(64, 192, kernel_size=(5, 5), stride=(1, 1), padding=(1, 1))\n",
            "    (4): ReLU()\n",
            "    (5): MaxPool2d(kernel_size=3, stride=2, padding=0, dilation=1, ceil_mode=False)\n",
            "    (6): Conv2d(192, 384, kernel_size=(3, 3), stride=(1, 1), padding=(1, 1))\n",
            "    (7): ReLU()\n",
            "    (8): Conv2d(384, 256, kernel_size=(3, 3), stride=(1, 1), padding=(1, 1))\n",
            "    (9): ReLU()\n",
            "    (10): Conv2d(256, 256, kernel_size=(3, 3), stride=(1, 1), padding=(1, 1))\n",
            "    (11): ReLU()\n",
            "    (12): MaxPool2d(kernel_size=3, stride=2, padding=0, dilation=1, ceil_mode=False)\n",
            "  )\n",
            "  (avgpool): AdaptiveAvgPool2d(output_size=(6, 6))\n",
            "  (classifier): Sequential(\n",
            "    (0): Dropout(p=0.5, inplace=False)\n",
            "    (1): Linear(in_features=9216, out_features=4096, bias=True)\n",
            "    (2): ReLU()\n",
            "    (3): Dropout(p=0.5, inplace=False)\n",
            "    (4): Linear(in_features=4096, out_features=4096, bias=True)\n",
            "    (5): ReLU()\n",
            "    (6): Linear(in_features=4096, out_features=25, bias=True)\n",
            "  )\n",
            ")\n",
            "Epoch [1/20], Step [100/263], Loss: 3.1859\n",
            "Epoch [1/20], Step [200/263], Loss: 2.9417\n",
            "Training accuracy is: 33.424559733460256 %\n",
            "Validation accuracy is: 12.337662337662337 %\n",
            "Epoch [2/20], Step [100/263], Loss: 2.9261\n",
            "Epoch [2/20], Step [200/263], Loss: 2.9414\n",
            "Training accuracy is: 33.6030461684912 %\n"
          ]
        }
      ],
      "source": [
        "# increase reg term to improv over-fitting \n",
        "\n",
        "device = torch.device('cuda' if torch.cuda.is_available() else 'cpu')\n",
        "print('Using device: %s'%device)\n",
        "\n",
        "input_size = 3\n",
        "num_classes = 25\n",
        "num_epochs = 20\n",
        "batch_size = 32\n",
        "\n",
        "#\n",
        "learning_rate = 1e-4\n",
        "learning_rate_decay = 0.90\n",
        "reg=0.30\n",
        "#\n",
        "num_training= 8404\n",
        "num_validation =924\n",
        "\n",
        "\n",
        "model = ConvNet().to(device)\n",
        "model.apply(weights_init)\n",
        "print(model)\n",
        "\n",
        "\n",
        "# Loss and optimizer\n",
        "criterion = nn.CrossEntropyLoss()\n",
        "optimizer = torch.optim.Adam(model.parameters(), lr=learning_rate, weight_decay=reg)\n",
        "\n",
        "# Train the model\n",
        "lr = learning_rate\n",
        "total_step = len(train_loader)\n",
        "loss_train = []\n",
        "loss_val = []\n",
        "accuracy_val = []\n",
        "train_acc_curve=[]\n",
        "\n",
        "for epoch in range(num_epochs):\n",
        "    correct = 0\n",
        "    total = 0\n",
        "\n",
        "    model.train()\n",
        "\n",
        "    loss_iter = 0\n",
        "    for i, (images, labels) in enumerate(train_loader):\n",
        "        # Move tensors to the configured device\n",
        "        images = images.to(device)\n",
        "        labels = labels.to(device)\n",
        "\n",
        "        # Forward pass\n",
        "        outputs = model(images)\n",
        "        loss = criterion(outputs, labels)\n",
        "\n",
        "        # Backward and optimize\n",
        "        optimizer.zero_grad()\n",
        "        loss.backward()\n",
        "        optimizer.step()\n",
        "\n",
        "        ###\n",
        "        \n",
        "        _, predicted = torch.max(outputs.data, 1)\n",
        "        total += labels.size(0)\n",
        "        correct += (predicted == labels).sum().item()\n",
        "\n",
        "        ###\n",
        "\n",
        "        loss_iter += loss.item()\n",
        "        \n",
        "        if (i+1) % 100 == 0:\n",
        "            print ('Epoch [{}/{}], Step [{}/{}], Loss: {:.4f}'\n",
        "                   .format(epoch+1, num_epochs, i+1, total_step, loss.item()))\n",
        "            \n",
        "    loss_train.append(loss_iter/(len(train_loader)*batch_size))\n",
        "    \n",
        "    ###\n",
        "    _train_acc = 100 * correct / total\n",
        "    train_acc_curve.append(_train_acc)\n",
        "    print('Training accuracy is: {} %'.format(_train_acc))\n",
        "    ###\n",
        "\n",
        "\n",
        "    \n",
        "    # Code to update the lr\n",
        "    lr *= learning_rate_decay\n",
        "    update_lr(optimizer, lr)\n",
        "    \n",
        "    \n",
        "    \n",
        "     \n",
        "    model.eval()\n",
        "    with torch.no_grad():\n",
        "        correct = 0\n",
        "        total = 0\n",
        "        loss_iter = 0\n",
        "        for images, labels in val_loader:\n",
        "            images = images.to(device)\n",
        "            labels = labels.to(device)\n",
        "            \n",
        "            outputs = model(images)\n",
        "            _, predicted = torch.max(outputs.data, 1)\n",
        "            \n",
        "            total += labels.size(0)\n",
        "            correct += (predicted == labels).sum().item()\n",
        "            \n",
        "            loss = criterion(outputs, labels)\n",
        "            loss_iter += loss.item()\n",
        "        \n",
        "        loss_val.append(loss_iter/(len(val_loader)*batch_size))\n",
        "\n",
        "        accuracy = 100 * correct / total\n",
        "        accuracy_val.append(accuracy)\n",
        "        print('Validation accuracy is: {} %'.format(accuracy))\n",
        "        \n",
        "\n",
        "\n",
        "    \n",
        "\n",
        "\n",
        "model.eval()\n",
        "\n",
        "\n",
        "\n",
        "plt.figure(2)\n",
        "plt.plot(loss_train, 'r', label='Train loss')\n",
        "plt.plot(loss_val, 'g', label='Validation loss')\n",
        "plt.legend()\n",
        "plt.grid(True)\n",
        "plt.show()\n",
        "\n",
        "\n",
        "## plot accuracy of dropout\n",
        "plt.figure(3)\n",
        "plt.plot(accuracy_val, 'g', label='Validation accuracy')\n",
        "plt.plot(train_acc_curve, 'r', label='Train accuracy')\n",
        "plt.xlabel(\"Number of Epochs\")\n",
        "plt.ylabel(\"Accuracy\")\n",
        "plt.legend()\n",
        "plt.grid(True)\n",
        "plt.show()\n",
        "\n"
      ]
    },
    {
      "cell_type": "markdown",
      "metadata": {
        "id": "BgkOdGhvRYfQ"
      },
      "source": [
        "# SOTA model  [CoAtnet](https://paperswithcode.com/paper/coatnet-marrying-convolution-and-attention#code) , as for the code the main refrence was [github](https://github.com/tyeso/Image_Classification_with_CoAtNet_and_ResNet18)"
      ]
    },
    {
      "cell_type": "code",
      "execution_count": null,
      "metadata": {
        "colab": {
          "base_uri": "https://localhost:8080/"
        },
        "id": "emQzKkEz7Gek",
        "outputId": "174d2f25-92ed-4205-efab-537707bcd205"
      },
      "outputs": [
        {
          "name": "stdout",
          "output_type": "stream",
          "text": [
            "Collecting einops\n",
            "  Downloading einops-0.3.2-py3-none-any.whl (25 kB)\n",
            "Installing collected packages: einops\n",
            "Successfully installed einops-0.3.2\n"
          ]
        }
      ],
      "source": [
        "pip install einops"
      ]
    },
    {
      "cell_type": "code",
      "execution_count": null,
      "metadata": {
        "colab": {
          "base_uri": "https://localhost:8080/"
        },
        "id": "k-S5_PJYSDyM",
        "outputId": "e2aeef0d-f33f-4dae-cdb4-c574de3db6f4"
      },
      "outputs": [
        {
          "name": "stderr",
          "output_type": "stream",
          "text": [
            "/usr/local/lib/python3.7/dist-packages/torch/functional.py:445: UserWarning: torch.meshgrid: in an upcoming release, it will be required to pass the indexing argument. (Triggered internally at  ../aten/src/ATen/native/TensorShape.cpp:2157.)\n",
            "  return _VF.meshgrid(tensors, **kwargs)  # type: ignore[attr-defined]\n"
          ]
        },
        {
          "name": "stdout",
          "output_type": "stream",
          "text": [
            "torch.Size([1, 3]) 17023928\n",
            "torch.Size([1, 1000]) 33170624\n",
            "torch.Size([1, 1000]) 55767564\n",
            "torch.Size([1, 1000]) 117724480\n",
            "torch.Size([1, 1000]) 203960368\n"
          ]
        }
      ],
      "source": [
        "import torch\n",
        "import torch.nn as nn\n",
        "\n",
        "from einops import rearrange\n",
        "from einops.layers.torch import Rearrange\n",
        "\n",
        "\n",
        "def conv_3x3_bn(inp, oup, image_size, downsample=False):\n",
        "    stride = 1 if downsample == False else 2\n",
        "    return nn.Sequential(\n",
        "        nn.Conv2d(inp, oup, 3, stride, 1, bias=False),\n",
        "        nn.BatchNorm2d(oup),\n",
        "        nn.GELU()\n",
        "    )\n",
        "\n",
        "\n",
        "class PreNorm(nn.Module):\n",
        "    def __init__(self, dim, fn, norm):\n",
        "        super().__init__()\n",
        "        self.norm = norm(dim)\n",
        "        self.fn = fn\n",
        "\n",
        "    def forward(self, x, **kwargs):\n",
        "        return self.fn(self.norm(x), **kwargs)\n",
        "\n",
        "\n",
        "class SE(nn.Module):\n",
        "    def __init__(self, inp, oup, expansion=0.25):\n",
        "        super().__init__()\n",
        "        self.avg_pool = nn.AdaptiveAvgPool2d(1)\n",
        "        self.fc = nn.Sequential(\n",
        "            nn.Linear(oup, int(inp * expansion), bias=False),\n",
        "            nn.GELU(),\n",
        "            nn.Linear(int(inp * expansion), oup, bias=False),\n",
        "            nn.Sigmoid()\n",
        "        )\n",
        "\n",
        "    def forward(self, x):\n",
        "        b, c, _, _ = x.size()\n",
        "        y = self.avg_pool(x).view(b, c)\n",
        "        y = self.fc(y).view(b, c, 1, 1)\n",
        "        return x * y\n",
        "\n",
        "\n",
        "class FeedForward(nn.Module):\n",
        "    def __init__(self, dim, hidden_dim, dropout=0.):\n",
        "        super().__init__()\n",
        "        self.net = nn.Sequential(\n",
        "            nn.Linear(dim, hidden_dim),\n",
        "            nn.GELU(),\n",
        "            nn.Dropout(dropout),\n",
        "            nn.Linear(hidden_dim, dim),\n",
        "            nn.Dropout(dropout)\n",
        "        )\n",
        "\n",
        "    def forward(self, x):\n",
        "        return self.net(x)\n",
        "\n",
        "\n",
        "class MBConv(nn.Module):\n",
        "    def __init__(self, inp, oup, image_size, downsample=False, expansion=4):\n",
        "        super().__init__()\n",
        "        self.downsample = downsample\n",
        "        stride = 1 if self.downsample == False else 2\n",
        "        hidden_dim = int(inp * expansion)\n",
        "\n",
        "        if self.downsample:\n",
        "            self.pool = nn.MaxPool2d(3, 2, 1)\n",
        "            self.proj = nn.Conv2d(inp, oup, 1, 1, 0, bias=False)\n",
        "\n",
        "        if expansion == 1:\n",
        "            self.conv = nn.Sequential(\n",
        "                # dw\n",
        "                nn.Conv2d(hidden_dim, hidden_dim, 3, stride,\n",
        "                          1, groups=hidden_dim, bias=False),\n",
        "                nn.BatchNorm2d(hidden_dim),\n",
        "                nn.GELU(),\n",
        "                # pw-linear\n",
        "                nn.Conv2d(hidden_dim, oup, 1, 1, 0, bias=False),\n",
        "                nn.BatchNorm2d(oup),\n",
        "            )\n",
        "        else:\n",
        "            self.conv = nn.Sequential(\n",
        "                # pw\n",
        "                # down-sample in the first conv\n",
        "                nn.Conv2d(inp, hidden_dim, 1, stride, 0, bias=False),\n",
        "                nn.BatchNorm2d(hidden_dim),\n",
        "                nn.GELU(),\n",
        "                # dw\n",
        "                nn.Conv2d(hidden_dim, hidden_dim, 3, 1, 1,\n",
        "                          groups=hidden_dim, bias=False),\n",
        "                nn.BatchNorm2d(hidden_dim),\n",
        "                nn.GELU(),\n",
        "                SE(inp, hidden_dim),\n",
        "                # pw-linear\n",
        "                nn.Conv2d(hidden_dim, oup, 1, 1, 0, bias=False),\n",
        "                nn.BatchNorm2d(oup),\n",
        "            )\n",
        "        \n",
        "        self.conv = PreNorm(inp, self.conv, nn.BatchNorm2d)\n",
        "\n",
        "    def forward(self, x):\n",
        "        if self.downsample:\n",
        "            return self.proj(self.pool(x)) + self.conv(x)\n",
        "        else:\n",
        "            return x + self.conv(x)\n",
        "\n",
        "\n",
        "class Attention(nn.Module):\n",
        "    def __init__(self, inp, oup, image_size, heads=8, dim_head=32, dropout=0.):\n",
        "        super().__init__()\n",
        "        inner_dim = dim_head * heads\n",
        "        project_out = not (heads == 1 and dim_head == inp)\n",
        "\n",
        "        self.ih, self.iw = image_size\n",
        "\n",
        "        self.heads = heads\n",
        "        self.scale = dim_head ** -0.5\n",
        "\n",
        "        # parameter table of relative position bias\n",
        "        self.relative_bias_table = nn.Parameter(\n",
        "            torch.zeros((2 * self.ih - 1) * (2 * self.iw - 1), heads))\n",
        "\n",
        "        coords = torch.meshgrid((torch.arange(self.ih), torch.arange(self.iw)))\n",
        "        coords = torch.flatten(torch.stack(coords), 1)\n",
        "        relative_coords = coords[:, :, None] - coords[:, None, :]\n",
        "\n",
        "        relative_coords[0] += self.ih - 1\n",
        "        relative_coords[1] += self.iw - 1\n",
        "        relative_coords[0] *= 2 * self.iw - 1\n",
        "        relative_coords = rearrange(relative_coords, 'c h w -> h w c')\n",
        "        relative_index = relative_coords.sum(-1).flatten().unsqueeze(1)\n",
        "        self.register_buffer(\"relative_index\", relative_index)\n",
        "\n",
        "        self.attend = nn.Softmax(dim=-1)\n",
        "        self.to_qkv = nn.Linear(inp, inner_dim * 3, bias=False)\n",
        "\n",
        "        self.to_out = nn.Sequential(\n",
        "            nn.Linear(inner_dim, oup),\n",
        "            nn.Dropout(dropout)\n",
        "        ) if project_out else nn.Identity()\n",
        "\n",
        "    def forward(self, x):\n",
        "        qkv = self.to_qkv(x).chunk(3, dim=-1)\n",
        "        q, k, v = map(lambda t: rearrange(\n",
        "            t, 'b n (h d) -> b h n d', h=self.heads), qkv)\n",
        "\n",
        "        dots = torch.matmul(q, k.transpose(-1, -2)) * self.scale\n",
        "\n",
        "        # Use \"gather\" for more efficiency on GPUs\n",
        "        relative_bias = self.relative_bias_table.gather(\n",
        "            0, self.relative_index.repeat(1, self.heads))\n",
        "        relative_bias = rearrange(\n",
        "            relative_bias, '(h w) c -> 1 c h w', h=self.ih*self.iw, w=self.ih*self.iw)\n",
        "        dots = dots + relative_bias\n",
        "\n",
        "        attn = self.attend(dots)\n",
        "        out = torch.matmul(attn, v)\n",
        "        out = rearrange(out, 'b h n d -> b n (h d)')\n",
        "        out = self.to_out(out)\n",
        "        return out\n",
        "\n",
        "\n",
        "class Transformer(nn.Module):\n",
        "    def __init__(self, inp, oup, image_size, heads=8, dim_head=32, downsample=False, dropout=0.):\n",
        "        super().__init__()\n",
        "        hidden_dim = int(inp * 4)\n",
        "\n",
        "        self.ih, self.iw = image_size\n",
        "        self.downsample = downsample\n",
        "\n",
        "        if self.downsample:\n",
        "            self.pool1 = nn.MaxPool2d(3, 2, 1)\n",
        "            self.pool2 = nn.MaxPool2d(3, 2, 1)\n",
        "            self.proj = nn.Conv2d(inp, oup, 1, 1, 0, bias=False)\n",
        "\n",
        "        self.attn = Attention(inp, oup, image_size, heads, dim_head, dropout)\n",
        "        self.ff = FeedForward(oup, hidden_dim, dropout)\n",
        "\n",
        "        self.attn = nn.Sequential(\n",
        "            Rearrange('b c ih iw -> b (ih iw) c'),\n",
        "            PreNorm(inp, self.attn, nn.LayerNorm),\n",
        "            Rearrange('b (ih iw) c -> b c ih iw', ih=self.ih, iw=self.iw)\n",
        "        )\n",
        "\n",
        "        self.ff = nn.Sequential(\n",
        "            Rearrange('b c ih iw -> b (ih iw) c'),\n",
        "            PreNorm(oup, self.ff, nn.LayerNorm),\n",
        "            Rearrange('b (ih iw) c -> b c ih iw', ih=self.ih, iw=self.iw)\n",
        "        )\n",
        "\n",
        "    def forward(self, x):\n",
        "        if self.downsample:\n",
        "            x = self.proj(self.pool1(x)) + self.attn(self.pool2(x))\n",
        "        else:\n",
        "            x = x + self.attn(x)\n",
        "        x = x + self.ff(x)\n",
        "        return x\n",
        "\n",
        "\n",
        "class CoAtNet(nn.Module):\n",
        "    def __init__(self, image_size, in_channels, num_blocks, channels, num_classes=1000, block_types=['C', 'C', 'T', 'T']):\n",
        "        super().__init__()\n",
        "        ih, iw = image_size\n",
        "        block = {'C': MBConv, 'T': Transformer}\n",
        "\n",
        "        self.s0 = self._make_layer(\n",
        "            conv_3x3_bn, in_channels, channels[0], num_blocks[0], (ih // 2, iw // 2))\n",
        "        self.s1 = self._make_layer(\n",
        "            block[block_types[0]], channels[0], channels[1], num_blocks[1], (ih // 4, iw // 4))\n",
        "        self.s2 = self._make_layer(\n",
        "            block[block_types[1]], channels[1], channels[2], num_blocks[2], (ih // 8, iw // 8))\n",
        "        self.s3 = self._make_layer(\n",
        "            block[block_types[2]], channels[2], channels[3], num_blocks[3], (ih // 16, iw // 16))\n",
        "        self.s4 = self._make_layer(\n",
        "            block[block_types[3]], channels[3], channels[4], num_blocks[4], (ih // 32, iw // 32))\n",
        "\n",
        "        self.pool = nn.AvgPool2d(ih // 32, 1)\n",
        "        self.fc = nn.Linear(channels[-1], num_classes, bias=False)\n",
        "\n",
        "    def forward(self, x):\n",
        "        x = self.s0(x)\n",
        "        x = self.s1(x)\n",
        "        x = self.s2(x)\n",
        "        x = self.s3(x)\n",
        "        x = self.s4(x)\n",
        "\n",
        "        x = self.pool(x).view(-1, x.shape[1])\n",
        "        x = self.fc(x)\n",
        "        return x\n",
        "\n",
        "    def _make_layer(self, block, inp, oup, depth, image_size):\n",
        "        layers = nn.ModuleList([])\n",
        "        for i in range(depth):\n",
        "            if i == 0:\n",
        "                layers.append(block(inp, oup, image_size, downsample=True))\n",
        "            else:\n",
        "                layers.append(block(oup, oup, image_size))\n",
        "        return nn.Sequential(*layers)\n",
        "\n",
        "\n",
        "def coatnet_0():\n",
        "    num_blocks = [2, 2, 3, 5, 2]            # L\n",
        "    channels = [64, 96, 192, 384, 768]      # D\n",
        "    return CoAtNet((224, 224), 3, num_blocks, channels, num_classes=3)\n",
        "\n",
        "\n",
        "def coatnet_1():\n",
        "    num_blocks = [2, 2, 6, 14, 2]           # L\n",
        "    channels = [64, 96, 192, 384, 768]      # D\n",
        "    return CoAtNet((224, 224), 3, num_blocks, channels, num_classes=1000)\n",
        "\n",
        "\n",
        "def coatnet_2():\n",
        "    num_blocks = [2, 2, 6, 14, 2]           # L\n",
        "    channels = [128, 128, 256, 512, 1026]   # D\n",
        "    return CoAtNet((224, 224), 3, num_blocks, channels, num_classes=1000)\n",
        "\n",
        "\n",
        "def coatnet_3():\n",
        "    num_blocks = [2, 2, 6, 14, 2]           # L\n",
        "    channels = [192, 192, 384, 768, 1536]   # D\n",
        "    return CoAtNet((224, 224), 3, num_blocks, channels, num_classes=1000)\n",
        "\n",
        "\n",
        "def coatnet_4():\n",
        "    num_blocks = [2, 2, 12, 28, 2]          # L\n",
        "    channels = [192, 192, 384, 768, 1536]   # D\n",
        "    return CoAtNet((224, 224), 3, num_blocks, channels, num_classes=1000)\n",
        "\n",
        "\n",
        "def count_parameters(model):\n",
        "    return sum(p.numel() for p in model.parameters() if p.requires_grad)\n",
        "\n",
        "\n",
        "if __name__ == '__main__':\n",
        "    img = torch.randn(1, 3, 224, 224)\n",
        "\n",
        "    net = coatnet_0()\n",
        "    out = net(img)\n",
        "    print(out.shape, count_parameters(net))\n",
        "\n",
        "    net = coatnet_1()\n",
        "    out = net(img)\n",
        "    print(out.shape, count_parameters(net))\n",
        "\n",
        "    net = coatnet_2()\n",
        "    out = net(img)\n",
        "    print(out.shape, count_parameters(net))\n",
        "\n",
        "    net = coatnet_3()\n",
        "    out = net(img)\n",
        "    print(out.shape, count_parameters(net))\n",
        "\n",
        "    net = coatnet_4()\n",
        "    out = net(img)\n",
        "    print(out.shape, count_parameters(net))\n"
      ]
    },
    {
      "cell_type": "code",
      "execution_count": null,
      "metadata": {
        "colab": {
          "base_uri": "https://localhost:8080/"
        },
        "id": "AuPhauSCEn7z",
        "outputId": "360a4f80-af70-4c5e-ac44-99af1bbe31cd"
      },
      "outputs": [
        {
          "name": "stdout",
          "output_type": "stream",
          "text": [
            "Using device: cuda\n"
          ]
        }
      ],
      "source": [
        "device = torch.device('cuda' if torch.cuda.is_available() else 'cpu')\n",
        "print('Using device: %s'%device)\n",
        "\n",
        "\n",
        "input_size = 3\n",
        "num_classes = 25\n",
        "num_epochs = 20\n",
        "batch_size = 32\n",
        "learning_rate = 2e-3\n",
        "learning_rate_decay = 0.95\n",
        "reg=0.001\n",
        "num_training= 8404\n",
        "num_validation =924\n",
        "\n",
        "\n",
        "# Train the model\n",
        "lr = learning_rate\n",
        "total_step = len(train_loader)\n",
        "loss_train = []\n",
        "loss_val = []\n",
        "accuracy_val = []\n",
        "train_acc_curve=[]\n",
        "\n",
        "\n",
        "num_blocks = [2, 2, 6, 8, 2]\n",
        "channels = [16, 32, 64, 128, 256]\n",
        "block_types = ['C', 'C', 'T', 'T']\n",
        "\n",
        "model_ = CoAtNet((64,64),3,num_blocks=num_blocks, channels=channels, block_types=block_types, num_classes=25).to(device)\n",
        "\n",
        "optimizer = torch.optim.Adam(model_.parameters(), lr=learning_rate, weight_decay=reg)\n",
        "criterion = nn.CrossEntropyLoss()\n"
      ]
    },
    {
      "cell_type": "code",
      "execution_count": null,
      "metadata": {
        "colab": {
          "base_uri": "https://localhost:8080/",
          "height": 1000
        },
        "id": "s-vpkoXr40c5",
        "outputId": "1704c3ab-dcaf-40bd-f27d-ff453457367f"
      },
      "outputs": [
        {
          "name": "stdout",
          "output_type": "stream",
          "text": [
            "Epoch [1/20], Step [100/263], Loss: 1.1316\n",
            "Epoch [1/20], Step [200/263], Loss: 0.7403\n",
            "Training accuracy is: 56.30652070442646 %\n",
            "Validation accuracy is: 48.80952380952381 %\n",
            "Epoch [2/20], Step [100/263], Loss: 0.5257\n",
            "Epoch [2/20], Step [200/263], Loss: 1.0794\n",
            "Training accuracy is: 70.78772013326987 %\n",
            "Validation accuracy is: 43.506493506493506 %\n",
            "Epoch [3/20], Step [100/263], Loss: 0.7174\n",
            "Epoch [3/20], Step [200/263], Loss: 0.6051\n",
            "Training accuracy is: 75.27367920038077 %\n",
            "Validation accuracy is: 50.0 %\n",
            "Epoch [4/20], Step [100/263], Loss: 0.6957\n",
            "Epoch [4/20], Step [200/263], Loss: 0.7937\n",
            "Training accuracy is: 77.47501189909566 %\n",
            "Validation accuracy is: 61.25541125541125 %\n",
            "Epoch [5/20], Step [100/263], Loss: 0.5227\n",
            "Epoch [5/20], Step [200/263], Loss: 0.3349\n",
            "Training accuracy is: 80.00951927653499 %\n",
            "Validation accuracy is: 66.55844155844156 %\n",
            "Epoch [6/20], Step [100/263], Loss: 0.5230\n",
            "Epoch [6/20], Step [200/263], Loss: 0.3840\n",
            "Training accuracy is: 81.74678724416944 %\n",
            "Validation accuracy is: 66.88311688311688 %\n",
            "Epoch [7/20], Step [100/263], Loss: 1.0264\n",
            "Epoch [7/20], Step [200/263], Loss: 0.8371\n",
            "Training accuracy is: 82.82960495002379 %\n",
            "Validation accuracy is: 62.22943722943723 %\n",
            "Epoch [8/20], Step [100/263], Loss: 0.4475\n",
            "Epoch [8/20], Step [200/263], Loss: 0.6224\n",
            "Training accuracy is: 84.55497382198953 %\n",
            "Validation accuracy is: 71.75324675324676 %\n",
            "Epoch [9/20], Step [100/263], Loss: 0.3975\n",
            "Epoch [9/20], Step [200/263], Loss: 0.7314\n",
            "Training accuracy is: 85.20942408376963 %\n",
            "Validation accuracy is: 75.0 %\n",
            "Epoch [10/20], Step [100/263], Loss: 0.1935\n",
            "Epoch [10/20], Step [200/263], Loss: 0.3613\n",
            "Training accuracy is: 86.31603998096145 %\n",
            "Validation accuracy is: 37.66233766233766 %\n",
            "Epoch [11/20], Step [100/263], Loss: 0.4361\n",
            "Epoch [11/20], Step [200/263], Loss: 0.1551\n",
            "Training accuracy is: 85.98286530223703 %\n",
            "Validation accuracy is: 77.27272727272727 %\n",
            "Epoch [12/20], Step [100/263], Loss: 0.4723\n",
            "Epoch [12/20], Step [200/263], Loss: 0.5987\n",
            "Training accuracy is: 86.36363636363636 %\n",
            "Validation accuracy is: 75.10822510822511 %\n",
            "Epoch [13/20], Step [100/263], Loss: 0.3879\n",
            "Epoch [13/20], Step [200/263], Loss: 0.4406\n",
            "Training accuracy is: 86.97049024274155 %\n",
            "Validation accuracy is: 74.02597402597402 %\n",
            "Epoch [14/20], Step [100/263], Loss: 0.2729\n",
            "Epoch [14/20], Step [200/263], Loss: 0.3546\n",
            "Training accuracy is: 88.04140885292718 %\n",
            "Validation accuracy is: 84.74025974025975 %\n",
            "Epoch [15/20], Step [100/263], Loss: 0.5829\n",
            "Epoch [15/20], Step [200/263], Loss: 0.3725\n",
            "Training accuracy is: 88.81485007139457 %\n",
            "Validation accuracy is: 83.11688311688312 %\n",
            "Epoch [16/20], Step [100/263], Loss: 0.2217\n",
            "Epoch [16/20], Step [200/263], Loss: 0.3030\n",
            "Training accuracy is: 89.14802475011899 %\n",
            "Validation accuracy is: 78.78787878787878 %\n",
            "Epoch [17/20], Step [100/263], Loss: 0.2443\n",
            "Epoch [17/20], Step [200/263], Loss: 0.3411\n",
            "Training accuracy is: 89.1123274631128 %\n",
            "Validation accuracy is: 78.57142857142857 %\n",
            "Epoch [18/20], Step [100/263], Loss: 0.3342\n",
            "Epoch [18/20], Step [200/263], Loss: 0.1585\n",
            "Training accuracy is: 89.52879581151832 %\n",
            "Validation accuracy is: 85.4978354978355 %\n",
            "Epoch [19/20], Step [100/263], Loss: 0.3441\n",
            "Epoch [19/20], Step [200/263], Loss: 0.2056\n",
            "Training accuracy is: 90.19514516896716 %\n",
            "Validation accuracy is: 74.89177489177489 %\n",
            "Epoch [20/20], Step [100/263], Loss: 0.2964\n",
            "Epoch [20/20], Step [200/263], Loss: 0.3480\n",
            "Training accuracy is: 89.95716325559258 %\n",
            "Validation accuracy is: 81.06060606060606 %\n"
          ]
        },
        {
          "data": {
            "image/png": "[encoded data removed]",
            "text/plain": [
              "<Figure size 432x288 with 1 Axes>"
            ]
          },
          "metadata": {},
          "output_type": "display_data"
        },
        {
          "data": {
            "image/png": "[encoded data removed]",
            "text/plain": [
              "<Figure size 432x288 with 1 Axes>"
            ]
          },
          "metadata": {},
          "output_type": "display_data"
        }
      ],
      "source": [
        "\n",
        "for epoch in range(num_epochs):\n",
        "    correct = 0\n",
        "    total = 0\n",
        "\n",
        "    model_.train()\n",
        "\n",
        "    loss_iter = 0\n",
        "    for i, (images, labels) in enumerate(train_loader):\n",
        "        # Move tensors to the configured device\n",
        "        images = images.to(device)\n",
        "        labels = labels.to(device)\n",
        "\n",
        "        # Forward pass\n",
        "        outputs = model_(images)\n",
        "        loss = criterion(outputs, labels)\n",
        "\n",
        "        # Backward and optimize\n",
        "        optimizer.zero_grad()\n",
        "        loss.backward()\n",
        "        optimizer.step()\n",
        "\n",
        "        ###\n",
        "        \n",
        "        _, predicted = torch.max(outputs.data, 1)\n",
        "        total += labels.size(0)\n",
        "        correct += (predicted == labels).sum().item()\n",
        "\n",
        "        ###\n",
        "\n",
        "        loss_iter += loss.item()\n",
        "        \n",
        "        if (i+1) % 100 == 0:\n",
        "            print ('Epoch [{}/{}], Step [{}/{}], Loss: {:.4f}'\n",
        "                   .format(epoch+1, num_epochs, i+1, total_step, loss.item()))\n",
        "            \n",
        "    loss_train.append(loss_iter/(len(train_loader)*batch_size))\n",
        "    \n",
        "    ###\n",
        "    _train_acc = 100 * correct / total\n",
        "    train_acc_curve.append(_train_acc)\n",
        "    print('Training accuracy is: {} %'.format(_train_acc))\n",
        "    ###\n",
        "\n",
        "\n",
        "    \n",
        "    # Code to update the lr\n",
        "    lr *= learning_rate_decay\n",
        "    update_lr(optimizer, lr)\n",
        "    \n",
        "    \n",
        "    \n",
        "     \n",
        "    model_.eval()\n",
        "    with torch.no_grad():\n",
        "        correct = 0\n",
        "        total = 0\n",
        "        loss_iter = 0\n",
        "        for images, labels in val_loader:\n",
        "            images = images.to(device)\n",
        "            labels = labels.to(device)\n",
        "            \n",
        "            outputs = model_(images)\n",
        "            _, predicted = torch.max(outputs.data, 1)\n",
        "            \n",
        "            total += labels.size(0)\n",
        "            correct += (predicted == labels).sum().item()\n",
        "            \n",
        "            loss = criterion(outputs, labels)\n",
        "            loss_iter += loss.item()\n",
        "        \n",
        "        loss_val.append(loss_iter/(len(val_loader)*batch_size))\n",
        "\n",
        "        accuracy = 100 * correct / total\n",
        "        accuracy_val.append(accuracy)\n",
        "        print('Validation accuracy is: {} %'.format(accuracy))\n",
        "        \n",
        "\n",
        "\n",
        "    \n",
        "\n",
        "\n",
        "model_.eval()\n",
        "\n",
        "\n",
        "\n",
        "plt.figure(2)\n",
        "plt.plot(loss_train, 'r', label='Train loss')\n",
        "plt.plot(loss_val, 'g', label='Validation loss')\n",
        "plt.legend()\n",
        "plt.grid(True)\n",
        "plt.show()\n",
        "\n",
        "\n",
        "plt.figure(3)\n",
        "plt.plot(accuracy_val, 'g', label='Validation accuracy')\n",
        "plt.plot(train_acc_curve, 'r', label='Train accuracy')\n",
        "plt.xlabel(\"Number of Epochs\")\n",
        "plt.ylabel(\"Accuracy\")\n",
        "plt.legend()\n",
        "plt.grid(True)\n",
        "plt.show()\n",
        "\n"
      ]
    },
    {
      "cell_type": "code",
      "execution_count": null,
      "metadata": {
        "id": "RQplz3rFBjO6"
      },
      "outputs": [],
      "source": [
        ""
      ]
    },
    {
      "cell_type": "code",
      "execution_count": null,
      "metadata": {
        "id": "KQCAk2PUn6wO"
      },
      "outputs": [],
      "source": [
        ""
      ]
    },
    {
      "cell_type": "code",
      "execution_count": null,
      "metadata": {
        "id": "vsPcTT04oM1T"
      },
      "outputs": [],
      "source": [
        ""
      ]
    },
    {
      "cell_type": "code",
      "execution_count": null,
      "metadata": {
        "id": "IbI3Ni8xkLCk"
      },
      "outputs": [],
      "source": [
        ""
      ]
    }
  ],
  "metadata": {
    "colab": {
      "collapsed_sections": [],
      "name": "aml_proj_ver2.ipynb",
      "provenance": [],
      "include_colab_link": true
    },
    "kernelspec": {
      "display_name": "Python 3",
      "name": "python3"
    },
    "language_info": {
      "name": "python"
    }
  },
  "nbformat": 4,
  "nbformat_minor": 0
}